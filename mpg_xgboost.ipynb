{
  "nbformat": 4,
  "nbformat_minor": 0,
  "metadata": {
    "colab": {
      "provenance": [],
      "toc_visible": true,
      "authorship_tag": "ABX9TyONlLXN5PwLGJJSzFx8TL2D"
    },
    "kernelspec": {
      "name": "python3",
      "display_name": "Python 3"
    },
    "language_info": {
      "name": "python"
    }
  },
  "cells": [
    {
      "cell_type": "markdown",
      "source": [
        "# Bibliotecas"
      ],
      "metadata": {
        "id": "ylTGMsQSJzx5"
      }
    },
    {
      "cell_type": "code",
      "execution_count": 192,
      "metadata": {
        "id": "JbWtVgbJCFU7"
      },
      "outputs": [],
      "source": [
        "# ! pip install xgboost"
      ]
    },
    {
      "cell_type": "code",
      "source": [
        "import xgboost as xgb\n",
        "import pandas as pd\n",
        "import numpy as np\n",
        "from sklearn.model_selection import (train_test_split,\n",
        "                                     cross_val_score)\n",
        "from sklearn.metrics import (mean_squared_error,\n",
        "                             r2_score,\n",
        "                             mean_absolute_error,\n",
        "                             accuracy_score)\n",
        "from sklearn.decomposition import PCA\n",
        "from sklearn.preprocessing import MinMaxScaler\n",
        "import seaborn as sns\n",
        "from math import sqrt\n",
        "import matplotlib.pyplot as plt"
      ],
      "metadata": {
        "id": "gSvIZJvpCNff"
      },
      "execution_count": 193,
      "outputs": []
    },
    {
      "cell_type": "markdown",
      "source": [
        "# Dataset"
      ],
      "metadata": {
        "id": "jDkHSkgvJ3Hw"
      }
    },
    {
      "cell_type": "code",
      "source": [
        "df = sns.load_dataset('mpg')\n",
        "\n",
        "df.head()"
      ],
      "metadata": {
        "colab": {
          "base_uri": "https://localhost:8080/",
          "height": 206
        },
        "id": "6JEdAyglCcZp",
        "outputId": "76ac41be-e1ae-4d42-bcb5-5e8081b96824"
      },
      "execution_count": 194,
      "outputs": [
        {
          "output_type": "execute_result",
          "data": {
            "text/plain": [
              "    mpg  cylinders  displacement  horsepower  weight  acceleration  \\\n",
              "0  18.0          8         307.0       130.0    3504          12.0   \n",
              "1  15.0          8         350.0       165.0    3693          11.5   \n",
              "2  18.0          8         318.0       150.0    3436          11.0   \n",
              "3  16.0          8         304.0       150.0    3433          12.0   \n",
              "4  17.0          8         302.0       140.0    3449          10.5   \n",
              "\n",
              "   model_year origin                       name  \n",
              "0          70    usa  chevrolet chevelle malibu  \n",
              "1          70    usa          buick skylark 320  \n",
              "2          70    usa         plymouth satellite  \n",
              "3          70    usa              amc rebel sst  \n",
              "4          70    usa                ford torino  "
            ],
            "text/html": [
              "\n",
              "  <div id=\"df-81e783b9-ce2d-40ce-b7df-d6e4c52d2921\">\n",
              "    <div class=\"colab-df-container\">\n",
              "      <div>\n",
              "<style scoped>\n",
              "    .dataframe tbody tr th:only-of-type {\n",
              "        vertical-align: middle;\n",
              "    }\n",
              "\n",
              "    .dataframe tbody tr th {\n",
              "        vertical-align: top;\n",
              "    }\n",
              "\n",
              "    .dataframe thead th {\n",
              "        text-align: right;\n",
              "    }\n",
              "</style>\n",
              "<table border=\"1\" class=\"dataframe\">\n",
              "  <thead>\n",
              "    <tr style=\"text-align: right;\">\n",
              "      <th></th>\n",
              "      <th>mpg</th>\n",
              "      <th>cylinders</th>\n",
              "      <th>displacement</th>\n",
              "      <th>horsepower</th>\n",
              "      <th>weight</th>\n",
              "      <th>acceleration</th>\n",
              "      <th>model_year</th>\n",
              "      <th>origin</th>\n",
              "      <th>name</th>\n",
              "    </tr>\n",
              "  </thead>\n",
              "  <tbody>\n",
              "    <tr>\n",
              "      <th>0</th>\n",
              "      <td>18.0</td>\n",
              "      <td>8</td>\n",
              "      <td>307.0</td>\n",
              "      <td>130.0</td>\n",
              "      <td>3504</td>\n",
              "      <td>12.0</td>\n",
              "      <td>70</td>\n",
              "      <td>usa</td>\n",
              "      <td>chevrolet chevelle malibu</td>\n",
              "    </tr>\n",
              "    <tr>\n",
              "      <th>1</th>\n",
              "      <td>15.0</td>\n",
              "      <td>8</td>\n",
              "      <td>350.0</td>\n",
              "      <td>165.0</td>\n",
              "      <td>3693</td>\n",
              "      <td>11.5</td>\n",
              "      <td>70</td>\n",
              "      <td>usa</td>\n",
              "      <td>buick skylark 320</td>\n",
              "    </tr>\n",
              "    <tr>\n",
              "      <th>2</th>\n",
              "      <td>18.0</td>\n",
              "      <td>8</td>\n",
              "      <td>318.0</td>\n",
              "      <td>150.0</td>\n",
              "      <td>3436</td>\n",
              "      <td>11.0</td>\n",
              "      <td>70</td>\n",
              "      <td>usa</td>\n",
              "      <td>plymouth satellite</td>\n",
              "    </tr>\n",
              "    <tr>\n",
              "      <th>3</th>\n",
              "      <td>16.0</td>\n",
              "      <td>8</td>\n",
              "      <td>304.0</td>\n",
              "      <td>150.0</td>\n",
              "      <td>3433</td>\n",
              "      <td>12.0</td>\n",
              "      <td>70</td>\n",
              "      <td>usa</td>\n",
              "      <td>amc rebel sst</td>\n",
              "    </tr>\n",
              "    <tr>\n",
              "      <th>4</th>\n",
              "      <td>17.0</td>\n",
              "      <td>8</td>\n",
              "      <td>302.0</td>\n",
              "      <td>140.0</td>\n",
              "      <td>3449</td>\n",
              "      <td>10.5</td>\n",
              "      <td>70</td>\n",
              "      <td>usa</td>\n",
              "      <td>ford torino</td>\n",
              "    </tr>\n",
              "  </tbody>\n",
              "</table>\n",
              "</div>\n",
              "      <button class=\"colab-df-convert\" onclick=\"convertToInteractive('df-81e783b9-ce2d-40ce-b7df-d6e4c52d2921')\"\n",
              "              title=\"Convert this dataframe to an interactive table.\"\n",
              "              style=\"display:none;\">\n",
              "        \n",
              "  <svg xmlns=\"http://www.w3.org/2000/svg\" height=\"24px\"viewBox=\"0 0 24 24\"\n",
              "       width=\"24px\">\n",
              "    <path d=\"M0 0h24v24H0V0z\" fill=\"none\"/>\n",
              "    <path d=\"M18.56 5.44l.94 2.06.94-2.06 2.06-.94-2.06-.94-.94-2.06-.94 2.06-2.06.94zm-11 1L8.5 8.5l.94-2.06 2.06-.94-2.06-.94L8.5 2.5l-.94 2.06-2.06.94zm10 10l.94 2.06.94-2.06 2.06-.94-2.06-.94-.94-2.06-.94 2.06-2.06.94z\"/><path d=\"M17.41 7.96l-1.37-1.37c-.4-.4-.92-.59-1.43-.59-.52 0-1.04.2-1.43.59L10.3 9.45l-7.72 7.72c-.78.78-.78 2.05 0 2.83L4 21.41c.39.39.9.59 1.41.59.51 0 1.02-.2 1.41-.59l7.78-7.78 2.81-2.81c.8-.78.8-2.07 0-2.86zM5.41 20L4 18.59l7.72-7.72 1.47 1.35L5.41 20z\"/>\n",
              "  </svg>\n",
              "      </button>\n",
              "      \n",
              "  <style>\n",
              "    .colab-df-container {\n",
              "      display:flex;\n",
              "      flex-wrap:wrap;\n",
              "      gap: 12px;\n",
              "    }\n",
              "\n",
              "    .colab-df-convert {\n",
              "      background-color: #E8F0FE;\n",
              "      border: none;\n",
              "      border-radius: 50%;\n",
              "      cursor: pointer;\n",
              "      display: none;\n",
              "      fill: #1967D2;\n",
              "      height: 32px;\n",
              "      padding: 0 0 0 0;\n",
              "      width: 32px;\n",
              "    }\n",
              "\n",
              "    .colab-df-convert:hover {\n",
              "      background-color: #E2EBFA;\n",
              "      box-shadow: 0px 1px 2px rgba(60, 64, 67, 0.3), 0px 1px 3px 1px rgba(60, 64, 67, 0.15);\n",
              "      fill: #174EA6;\n",
              "    }\n",
              "\n",
              "    [theme=dark] .colab-df-convert {\n",
              "      background-color: #3B4455;\n",
              "      fill: #D2E3FC;\n",
              "    }\n",
              "\n",
              "    [theme=dark] .colab-df-convert:hover {\n",
              "      background-color: #434B5C;\n",
              "      box-shadow: 0px 1px 3px 1px rgba(0, 0, 0, 0.15);\n",
              "      filter: drop-shadow(0px 1px 2px rgba(0, 0, 0, 0.3));\n",
              "      fill: #FFFFFF;\n",
              "    }\n",
              "  </style>\n",
              "\n",
              "      <script>\n",
              "        const buttonEl =\n",
              "          document.querySelector('#df-81e783b9-ce2d-40ce-b7df-d6e4c52d2921 button.colab-df-convert');\n",
              "        buttonEl.style.display =\n",
              "          google.colab.kernel.accessAllowed ? 'block' : 'none';\n",
              "\n",
              "        async function convertToInteractive(key) {\n",
              "          const element = document.querySelector('#df-81e783b9-ce2d-40ce-b7df-d6e4c52d2921');\n",
              "          const dataTable =\n",
              "            await google.colab.kernel.invokeFunction('convertToInteractive',\n",
              "                                                     [key], {});\n",
              "          if (!dataTable) return;\n",
              "\n",
              "          const docLinkHtml = 'Like what you see? Visit the ' +\n",
              "            '<a target=\"_blank\" href=https://colab.research.google.com/notebooks/data_table.ipynb>data table notebook</a>'\n",
              "            + ' to learn more about interactive tables.';\n",
              "          element.innerHTML = '';\n",
              "          dataTable['output_type'] = 'display_data';\n",
              "          await google.colab.output.renderOutput(dataTable, element);\n",
              "          const docLink = document.createElement('div');\n",
              "          docLink.innerHTML = docLinkHtml;\n",
              "          element.appendChild(docLink);\n",
              "        }\n",
              "      </script>\n",
              "    </div>\n",
              "  </div>\n",
              "  "
            ]
          },
          "metadata": {},
          "execution_count": 194
        }
      ]
    },
    {
      "cell_type": "markdown",
      "source": [
        "É um problema regressão, pois a variável *target* 'mpg' é contínua"
      ],
      "metadata": {
        "id": "iU57j9l-Kyk1"
      }
    },
    {
      "cell_type": "code",
      "source": [
        "df = df.drop(['origin', 'name'],  axis=1).copy()"
      ],
      "metadata": {
        "id": "GPiza04591xa"
      },
      "execution_count": 195,
      "outputs": []
    },
    {
      "cell_type": "code",
      "source": [
        "X = df.drop(['mpg'],  axis=1)\n",
        "\n",
        "y = df['mpg']"
      ],
      "metadata": {
        "id": "kpKLypKXDb1I"
      },
      "execution_count": 196,
      "outputs": []
    },
    {
      "cell_type": "code",
      "source": [
        "X.isnull().sum()"
      ],
      "metadata": {
        "colab": {
          "base_uri": "https://localhost:8080/"
        },
        "id": "4iZn39SwToj1",
        "outputId": "8bcf2d50-c2b9-4f66-886f-7de8b611c95e"
      },
      "execution_count": 197,
      "outputs": [
        {
          "output_type": "execute_result",
          "data": {
            "text/plain": [
              "cylinders       0\n",
              "displacement    0\n",
              "horsepower      6\n",
              "weight          0\n",
              "acceleration    0\n",
              "model_year      0\n",
              "dtype: int64"
            ]
          },
          "metadata": {},
          "execution_count": 197
        }
      ]
    },
    {
      "cell_type": "code",
      "source": [
        "media_horsepower = np.ceil(X['horsepower'].mean())\n",
        "\n",
        "X.loc[X['horsepower'].isnull(), 'horsepower'] = media_horsepower"
      ],
      "metadata": {
        "id": "7CQL6NrjUjKp"
      },
      "execution_count": 198,
      "outputs": []
    },
    {
      "cell_type": "code",
      "source": [
        "X.isnull().sum()"
      ],
      "metadata": {
        "colab": {
          "base_uri": "https://localhost:8080/"
        },
        "id": "pT3Deg49VZop",
        "outputId": "f5ad2c5e-ad9d-4ff0-bb4c-e342ff66a145"
      },
      "execution_count": 199,
      "outputs": [
        {
          "output_type": "execute_result",
          "data": {
            "text/plain": [
              "cylinders       0\n",
              "displacement    0\n",
              "horsepower      0\n",
              "weight          0\n",
              "acceleration    0\n",
              "model_year      0\n",
              "dtype: int64"
            ]
          },
          "metadata": {},
          "execution_count": 199
        }
      ]
    },
    {
      "cell_type": "markdown",
      "source": [
        "## Split treino e teste"
      ],
      "metadata": {
        "id": "VkkUyJoxJ-2_"
      }
    },
    {
      "cell_type": "code",
      "source": [
        "X_train, X_test, y_train, y_test = train_test_split(X, y, random_state=0, test_size=0.3)"
      ],
      "metadata": {
        "id": "l2x8uF5MDtE_"
      },
      "execution_count": 200,
      "outputs": []
    },
    {
      "cell_type": "markdown",
      "source": [
        "# Modelos de regressão"
      ],
      "metadata": {
        "id": "kXQZlkW4KIRI"
      }
    },
    {
      "cell_type": "markdown",
      "source": [
        "## Sem tunning"
      ],
      "metadata": {
        "id": "Cojk9jpxoj1W"
      }
    },
    {
      "cell_type": "code",
      "source": [
        "# Cross validation apenas para comparação entre modelos\n",
        "reg_xgboost = xgb.XGBRegressor(objective='reg:squarederror')\n",
        "\n",
        "resultado_cv_nrmse_xgb = cross_val_score(reg_xgboost, X_train, y_train, scoring='neg_root_mean_squared_error')\n",
        "\n",
        "print('Negative RMSE: {:.2f}'.format(abs(resultado_cv_nrmse_xgb.mean())))\n",
        "\n",
        "resultado_cv_rsquared_xgb = cross_val_score(reg_xgboost, X_train, y_train, scoring='r2')\n",
        "\n",
        "print('R^2: {:.2f}'.format(abs(resultado_cv_rsquared_xgb.mean())))\n",
        "\n",
        "resultado_cv_nmae_xgb = cross_val_score(reg_xgboost, X_train, y_train, scoring='neg_mean_absolute_error')\n",
        "\n",
        "print('Negative MAE: {:.2f}'.format(abs(resultado_cv_nmae_xgb.mean())))"
      ],
      "metadata": {
        "colab": {
          "base_uri": "https://localhost:8080/"
        },
        "id": "GHupglA-EabY",
        "outputId": "ad975932-94d5-4c1e-ddb6-aa22f115ab1f"
      },
      "execution_count": 201,
      "outputs": [
        {
          "output_type": "stream",
          "name": "stdout",
          "text": [
            "Negative RMSE: 2.96\n",
            "R^2: 0.85\n",
            "Negative MAE: 2.16\n"
          ]
        }
      ]
    },
    {
      "cell_type": "markdown",
      "source": [
        "## Tunando o classificador"
      ],
      "metadata": {
        "id": "SItkbl9sMI8n"
      }
    },
    {
      "cell_type": "code",
      "source": [
        "reg_xgboost_depth = xgb.XGBRegressor(max_depth=2, objective='reg:squarederror') # Altera a altura máxima das árvores\n",
        "\n",
        "resultado_cv_nrmse_depth = cross_val_score(reg_xgboost, X_train, y_train, scoring='neg_root_mean_squared_error')\n",
        "\n",
        "print('Negative RMSE: {:.2f}'.format(abs(resultado_cv_nrmse_depth.mean())))\n",
        "\n",
        "resultado_cv_rsquared_depth = cross_val_score(reg_xgboost, X_train, y_train, scoring='r2')\n",
        "\n",
        "print('R^2: {:.2f}'.format(abs(resultado_cv_rsquared_depth.mean())))\n",
        "\n",
        "resultado_cv_nmae_depth = cross_val_score(reg_xgboost, X_train, y_train, scoring='neg_mean_absolute_error')\n",
        "\n",
        "print('Negative MAE: {:.2f}'.format(abs(resultado_cv_nmae_depth.mean())))"
      ],
      "metadata": {
        "colab": {
          "base_uri": "https://localhost:8080/"
        },
        "id": "yxV9t_dMJWuV",
        "outputId": "edc58e23-25b8-497d-bab4-bd2a0336104b"
      },
      "execution_count": 202,
      "outputs": [
        {
          "output_type": "stream",
          "name": "stdout",
          "text": [
            "Negative RMSE: 2.96\n",
            "R^2: 0.85\n",
            "Negative MAE: 2.16\n"
          ]
        }
      ]
    },
    {
      "cell_type": "code",
      "source": [
        "reg_xgboost_dart = xgb.XGBRegressor(booster='dart', objective='reg:squarederror')\n",
        "\n",
        "resultado_cv_nrmse_dart = cross_val_score(reg_xgboost, X_train, y_train, scoring='neg_root_mean_squared_error')\n",
        "\n",
        "print('Negative RMSE: {:.2f}'.format(abs(resultado_cv_nrmse_dart.mean())))\n",
        "\n",
        "resultado_cv_rsquared_dart = cross_val_score(reg_xgboost, X_train, y_train, scoring='r2')\n",
        "\n",
        "print('R^2: {:.2f}'.format(abs(resultado_cv_rsquared_dart.mean())))\n",
        "\n",
        "resultado_cv_nmae_dart = cross_val_score(reg_xgboost, X_train, y_train, scoring='neg_mean_absolute_error')\n",
        "\n",
        "print('Negative MAE: {:.2f}'.format(abs(resultado_cv_nmae_dart.mean())))"
      ],
      "metadata": {
        "colab": {
          "base_uri": "https://localhost:8080/"
        },
        "id": "iBPRTD2VNtMC",
        "outputId": "3ae9bd75-ed8f-47ca-b532-17aaee356dfd"
      },
      "execution_count": 203,
      "outputs": [
        {
          "output_type": "stream",
          "name": "stdout",
          "text": [
            "Negative RMSE: 2.96\n",
            "R^2: 0.85\n",
            "Negative MAE: 2.16\n"
          ]
        }
      ]
    },
    {
      "cell_type": "code",
      "source": [
        "reg_xgboost_gblinear = xgb.XGBRegressor(booster='gblinear', objective='reg:squarederror')\n",
        "\n",
        "resultado_cv_nrmse_gbl = cross_val_score(reg_xgboost, X_train, y_train, scoring='neg_root_mean_squared_error')\n",
        "\n",
        "print('Negative RMSE: {:.2f}'.format(abs(resultado_cv_nrmse_gbl.mean())))\n",
        "\n",
        "resultado_cv_rsquared_gbl = cross_val_score(reg_xgboost, X_train, y_train, scoring='r2')\n",
        "\n",
        "print('R^2: {:.2f}'.format(abs(resultado_cv_rsquared_gbl.mean())))\n",
        "\n",
        "resultado_cv_nmae_gbl = cross_val_score(reg_xgboost, X_train, y_train, scoring='neg_mean_absolute_error')\n",
        "\n",
        "print('Negative MAE: {:.2f}'.format(abs(resultado_cv_nmae_gbl.mean())))"
      ],
      "metadata": {
        "colab": {
          "base_uri": "https://localhost:8080/"
        },
        "id": "XXpb6jXtN6Vq",
        "outputId": "41c28c05-b3ed-4dc0-b8f5-7261eef2c7b2"
      },
      "execution_count": 204,
      "outputs": [
        {
          "output_type": "stream",
          "name": "stdout",
          "text": [
            "Negative RMSE: 2.96\n",
            "R^2: 0.85\n",
            "Negative MAE: 2.16\n"
          ]
        }
      ]
    },
    {
      "cell_type": "code",
      "source": [
        "reg_xgboost_gbtree = xgb.XGBRegressor(booster='gbtree', objective='reg:squarederror')\n",
        "\n",
        "resultado_cv_nrmse_gbt = cross_val_score(reg_xgboost, X_train, y_train, scoring='neg_root_mean_squared_error')\n",
        "\n",
        "print('Negative RMSE: {:.2f}'.format(abs(resultado_cv_nrmse_gbt.mean())))\n",
        "\n",
        "resultado_cv_rsquared_gbt = cross_val_score(reg_xgboost, X_train, y_train, scoring='r2')\n",
        "\n",
        "print('R^2: {:.2f}'.format(abs(resultado_cv_rsquared_gbt.mean())))\n",
        "\n",
        "resultado_cv_nmae_gbt = cross_val_score(reg_xgboost, X_train, y_train, scoring='neg_mean_absolute_error')\n",
        "\n",
        "print('Negative MAE: {:.2f}'.format(abs(resultado_cv_nmae_gbt.mean())))"
      ],
      "metadata": {
        "colab": {
          "base_uri": "https://localhost:8080/"
        },
        "id": "EdYBSzGfOQHI",
        "outputId": "0a82658f-5368-420e-e822-52d0c98b2aee"
      },
      "execution_count": 205,
      "outputs": [
        {
          "output_type": "stream",
          "name": "stdout",
          "text": [
            "Negative RMSE: 2.96\n",
            "R^2: 0.85\n",
            "Negative MAE: 2.16\n"
          ]
        }
      ]
    },
    {
      "cell_type": "markdown",
      "source": [
        "# Normalização dos dados"
      ],
      "metadata": {
        "id": "wirOhq6M8I85"
      }
    },
    {
      "cell_type": "code",
      "source": [
        "scaler = MinMaxScaler()\n",
        "\n",
        "X_scaled = scaler.fit_transform(X)"
      ],
      "metadata": {
        "id": "gjp2FCT4R75z"
      },
      "execution_count": 206,
      "outputs": []
    },
    {
      "cell_type": "markdown",
      "source": [
        "# Principal Component Analysis (PCA)"
      ],
      "metadata": {
        "id": "ZejY5r8nR6tk"
      }
    },
    {
      "cell_type": "code",
      "source": [
        "pca = PCA(n_components=6)\n",
        "\n",
        "X_scaled_pca = pca.fit_transform(X_scaled)\n",
        "\n",
        "pca.components_ # Em cada linha é dado os coeficientes de uma componente principal (n_components)\n",
        "# Coeficientes da combinação das variáveis originais que dão origem às componentes principais"
      ],
      "metadata": {
        "colab": {
          "base_uri": "https://localhost:8080/"
        },
        "id": "1cuRg3rLSA35",
        "outputId": "6b064505-03d2-4723-dde4-e9362aef0d2b"
      },
      "execution_count": 207,
      "outputs": [
        {
          "output_type": "execute_result",
          "data": {
            "text/plain": [
              "array([[ 0.60110803,  0.48239617,  0.35185088,  0.40957412, -0.17726723,\n",
              "        -0.28807879],\n",
              "       [-0.20601297, -0.14236448, -0.03835856, -0.1737575 , -0.0173295 ,\n",
              "        -0.95148707],\n",
              "       [ 0.21092234,  0.04934411, -0.34343919,  0.23757095,  0.87691057,\n",
              "        -0.09856141],\n",
              "       [ 0.65357171, -0.06281401, -0.45548016, -0.57450958, -0.17704103,\n",
              "        -0.00560893],\n",
              "       [ 0.21166047, -0.27591536,  0.74084626, -0.43270892,  0.37623776,\n",
              "         0.03775601],\n",
              "       [-0.28245959,  0.81517885,  0.02153467, -0.47782753,  0.16249769,\n",
              "         0.02261922]])"
            ]
          },
          "metadata": {},
          "execution_count": 207
        }
      ]
    },
    {
      "cell_type": "code",
      "source": [
        "pca.explained_variance_ratio_.round(3)"
      ],
      "metadata": {
        "colab": {
          "base_uri": "https://localhost:8080/"
        },
        "id": "FnP8c13HWB5U",
        "outputId": "f89477a0-2aeb-41b5-f703-0ce2c245a2f5"
      },
      "execution_count": 208,
      "outputs": [
        {
          "output_type": "execute_result",
          "data": {
            "text/plain": [
              "array([0.72 , 0.189, 0.053, 0.024, 0.008, 0.007])"
            ]
          },
          "metadata": {},
          "execution_count": 208
        }
      ]
    },
    {
      "cell_type": "markdown",
      "source": [
        "* A primeira componente principal explica 72% da variabilidade dos dados\n",
        "* A segunda componente principal explica 18,9% da variabilidade dos dados"
      ],
      "metadata": {
        "id": "t8VQx4nOWQ3_"
      }
    },
    {
      "cell_type": "code",
      "source": [
        "fig = plt.figure(figsize=(12, 6))\n",
        "\n",
        "plt.plot(pca.explained_variance_ratio_, 'ro-')\n",
        "plt.title('Screee plot')\n",
        "plt.xlabel('Componentes principais')\n",
        "plt.ylabel('Eigenvalue')\n",
        "\n",
        "plt.show()"
      ],
      "metadata": {
        "colab": {
          "base_uri": "https://localhost:8080/",
          "height": 404
        },
        "id": "peyxCWSeZzlJ",
        "outputId": "22e6641f-a739-4ea4-aa99-866068c242c7"
      },
      "execution_count": 209,
      "outputs": [
        {
          "output_type": "display_data",
          "data": {
            "text/plain": [
              "<Figure size 864x432 with 1 Axes>"
            ],
            "image/png": "[encoded data removed]"
          },
          "metadata": {
            "needs_background": "light"
          }
        }
      ]
    },
    {
      "cell_type": "code",
      "source": [
        "pca = PCA(n_components=2)\n",
        "\n",
        "X_scaled_pca_two_comp = pca.fit_transform(X_scaled)\n",
        "\n",
        "pca_componentes = pca.components_.round(3)\n",
        "\n",
        "index = ('cylinders', 'displacement', 'horsepower', 'weight', 'acceleration', 'model_year')\n",
        "\n",
        "columns = ('cp1', 'cp2')\n",
        "\n",
        "data = pca_componentes.transpose()\n",
        "\n",
        "df_componentes = pd.DataFrame(data=data, index=index, columns=columns)\n",
        "\n",
        "df_componentes # Correlação entre as variáveis e as componentes principais"
      ],
      "metadata": {
        "colab": {
          "base_uri": "https://localhost:8080/",
          "height": 237
        },
        "id": "NU5qG8CZdAq_",
        "outputId": "8fe0d75c-4c73-4914-d30d-7919bc7a3f85"
      },
      "execution_count": 210,
      "outputs": [
        {
          "output_type": "execute_result",
          "data": {
            "text/plain": [
              "                cp1    cp2\n",
              "cylinders     0.601 -0.206\n",
              "displacement  0.482 -0.142\n",
              "horsepower    0.352 -0.038\n",
              "weight        0.410 -0.174\n",
              "acceleration -0.177 -0.017\n",
              "model_year   -0.288 -0.951"
            ],
            "text/html": [
              "\n",
              "  <div id=\"df-958862bf-16f9-4eb1-ac6d-c1bdba488430\">\n",
              "    <div class=\"colab-df-container\">\n",
              "      <div>\n",
              "<style scoped>\n",
              "    .dataframe tbody tr th:only-of-type {\n",
              "        vertical-align: middle;\n",
              "    }\n",
              "\n",
              "    .dataframe tbody tr th {\n",
              "        vertical-align: top;\n",
              "    }\n",
              "\n",
              "    .dataframe thead th {\n",
              "        text-align: right;\n",
              "    }\n",
              "</style>\n",
              "<table border=\"1\" class=\"dataframe\">\n",
              "  <thead>\n",
              "    <tr style=\"text-align: right;\">\n",
              "      <th></th>\n",
              "      <th>cp1</th>\n",
              "      <th>cp2</th>\n",
              "    </tr>\n",
              "  </thead>\n",
              "  <tbody>\n",
              "    <tr>\n",
              "      <th>cylinders</th>\n",
              "      <td>0.601</td>\n",
              "      <td>-0.206</td>\n",
              "    </tr>\n",
              "    <tr>\n",
              "      <th>displacement</th>\n",
              "      <td>0.482</td>\n",
              "      <td>-0.142</td>\n",
              "    </tr>\n",
              "    <tr>\n",
              "      <th>horsepower</th>\n",
              "      <td>0.352</td>\n",
              "      <td>-0.038</td>\n",
              "    </tr>\n",
              "    <tr>\n",
              "      <th>weight</th>\n",
              "      <td>0.410</td>\n",
              "      <td>-0.174</td>\n",
              "    </tr>\n",
              "    <tr>\n",
              "      <th>acceleration</th>\n",
              "      <td>-0.177</td>\n",
              "      <td>-0.017</td>\n",
              "    </tr>\n",
              "    <tr>\n",
              "      <th>model_year</th>\n",
              "      <td>-0.288</td>\n",
              "      <td>-0.951</td>\n",
              "    </tr>\n",
              "  </tbody>\n",
              "</table>\n",
              "</div>\n",
              "      <button class=\"colab-df-convert\" onclick=\"convertToInteractive('df-958862bf-16f9-4eb1-ac6d-c1bdba488430')\"\n",
              "              title=\"Convert this dataframe to an interactive table.\"\n",
              "              style=\"display:none;\">\n",
              "        \n",
              "  <svg xmlns=\"http://www.w3.org/2000/svg\" height=\"24px\"viewBox=\"0 0 24 24\"\n",
              "       width=\"24px\">\n",
              "    <path d=\"M0 0h24v24H0V0z\" fill=\"none\"/>\n",
              "    <path d=\"M18.56 5.44l.94 2.06.94-2.06 2.06-.94-2.06-.94-.94-2.06-.94 2.06-2.06.94zm-11 1L8.5 8.5l.94-2.06 2.06-.94-2.06-.94L8.5 2.5l-.94 2.06-2.06.94zm10 10l.94 2.06.94-2.06 2.06-.94-2.06-.94-.94-2.06-.94 2.06-2.06.94z\"/><path d=\"M17.41 7.96l-1.37-1.37c-.4-.4-.92-.59-1.43-.59-.52 0-1.04.2-1.43.59L10.3 9.45l-7.72 7.72c-.78.78-.78 2.05 0 2.83L4 21.41c.39.39.9.59 1.41.59.51 0 1.02-.2 1.41-.59l7.78-7.78 2.81-2.81c.8-.78.8-2.07 0-2.86zM5.41 20L4 18.59l7.72-7.72 1.47 1.35L5.41 20z\"/>\n",
              "  </svg>\n",
              "      </button>\n",
              "      \n",
              "  <style>\n",
              "    .colab-df-container {\n",
              "      display:flex;\n",
              "      flex-wrap:wrap;\n",
              "      gap: 12px;\n",
              "    }\n",
              "\n",
              "    .colab-df-convert {\n",
              "      background-color: #E8F0FE;\n",
              "      border: none;\n",
              "      border-radius: 50%;\n",
              "      cursor: pointer;\n",
              "      display: none;\n",
              "      fill: #1967D2;\n",
              "      height: 32px;\n",
              "      padding: 0 0 0 0;\n",
              "      width: 32px;\n",
              "    }\n",
              "\n",
              "    .colab-df-convert:hover {\n",
              "      background-color: #E2EBFA;\n",
              "      box-shadow: 0px 1px 2px rgba(60, 64, 67, 0.3), 0px 1px 3px 1px rgba(60, 64, 67, 0.15);\n",
              "      fill: #174EA6;\n",
              "    }\n",
              "\n",
              "    [theme=dark] .colab-df-convert {\n",
              "      background-color: #3B4455;\n",
              "      fill: #D2E3FC;\n",
              "    }\n",
              "\n",
              "    [theme=dark] .colab-df-convert:hover {\n",
              "      background-color: #434B5C;\n",
              "      box-shadow: 0px 1px 3px 1px rgba(0, 0, 0, 0.15);\n",
              "      filter: drop-shadow(0px 1px 2px rgba(0, 0, 0, 0.3));\n",
              "      fill: #FFFFFF;\n",
              "    }\n",
              "  </style>\n",
              "\n",
              "      <script>\n",
              "        const buttonEl =\n",
              "          document.querySelector('#df-958862bf-16f9-4eb1-ac6d-c1bdba488430 button.colab-df-convert');\n",
              "        buttonEl.style.display =\n",
              "          google.colab.kernel.accessAllowed ? 'block' : 'none';\n",
              "\n",
              "        async function convertToInteractive(key) {\n",
              "          const element = document.querySelector('#df-958862bf-16f9-4eb1-ac6d-c1bdba488430');\n",
              "          const dataTable =\n",
              "            await google.colab.kernel.invokeFunction('convertToInteractive',\n",
              "                                                     [key], {});\n",
              "          if (!dataTable) return;\n",
              "\n",
              "          const docLinkHtml = 'Like what you see? Visit the ' +\n",
              "            '<a target=\"_blank\" href=https://colab.research.google.com/notebooks/data_table.ipynb>data table notebook</a>'\n",
              "            + ' to learn more about interactive tables.';\n",
              "          element.innerHTML = '';\n",
              "          dataTable['output_type'] = 'display_data';\n",
              "          await google.colab.output.renderOutput(dataTable, element);\n",
              "          const docLink = document.createElement('div');\n",
              "          docLink.innerHTML = docLinkHtml;\n",
              "          element.appendChild(docLink);\n",
              "        }\n",
              "      </script>\n",
              "    </div>\n",
              "  </div>\n",
              "  "
            ]
          },
          "metadata": {},
          "execution_count": 210
        }
      ]
    },
    {
      "cell_type": "code",
      "source": [
        "pca_1 = pca.transform(X)[:, 0]\n",
        "\n",
        "pca_2 = pca.transform(X)[:, 1]"
      ],
      "metadata": {
        "id": "j81L8zRldMwn",
        "colab": {
          "base_uri": "https://localhost:8080/"
        },
        "outputId": "59734ef9-a7e6-4374-cb61-b3fe5e8dd249"
      },
      "execution_count": 211,
      "outputs": [
        {
          "output_type": "stream",
          "name": "stderr",
          "text": [
            "/usr/local/lib/python3.8/dist-packages/sklearn/base.py:443: UserWarning: X has feature names, but PCA was fitted without feature names\n",
            "  warnings.warn(\n",
            "/usr/local/lib/python3.8/dist-packages/sklearn/base.py:443: UserWarning: X has feature names, but PCA was fitted without feature names\n",
            "  warnings.warn(\n"
          ]
        }
      ]
    },
    {
      "cell_type": "code",
      "source": [
        "df_scaled = pd.DataFrame(data=X_scaled_pca_two_comp, columns=['cp1', 'cp2'])\n",
        "\n",
        "df_scaled"
      ],
      "metadata": {
        "id": "bzEMi2F0mH80",
        "colab": {
          "base_uri": "https://localhost:8080/",
          "height": 423
        },
        "outputId": "a0034810-7245-4af4-e1be-fc21f4cdfff1"
      },
      "execution_count": 212,
      "outputs": [
        {
          "output_type": "execute_result",
          "data": {
            "text/plain": [
              "          cp1       cp2\n",
              "0    0.740258  0.301964\n",
              "1    0.888009  0.270054\n",
              "2    0.794869  0.298129\n",
              "3    0.766518  0.302396\n",
              "4    0.762588  0.305975\n",
              "..        ...       ...\n",
              "393 -0.441910 -0.382645\n",
              "394 -0.732133 -0.336507\n",
              "395 -0.467243 -0.351876\n",
              "396 -0.531042 -0.368794\n",
              "397 -0.523961 -0.374557\n",
              "\n",
              "[398 rows x 2 columns]"
            ],
            "text/html": [
              "\n",
              "  <div id=\"df-243d1935-52dc-4f9b-884a-4e28f7a79763\">\n",
              "    <div class=\"colab-df-container\">\n",
              "      <div>\n",
              "<style scoped>\n",
              "    .dataframe tbody tr th:only-of-type {\n",
              "        vertical-align: middle;\n",
              "    }\n",
              "\n",
              "    .dataframe tbody tr th {\n",
              "        vertical-align: top;\n",
              "    }\n",
              "\n",
              "    .dataframe thead th {\n",
              "        text-align: right;\n",
              "    }\n",
              "</style>\n",
              "<table border=\"1\" class=\"dataframe\">\n",
              "  <thead>\n",
              "    <tr style=\"text-align: right;\">\n",
              "      <th></th>\n",
              "      <th>cp1</th>\n",
              "      <th>cp2</th>\n",
              "    </tr>\n",
              "  </thead>\n",
              "  <tbody>\n",
              "    <tr>\n",
              "      <th>0</th>\n",
              "      <td>0.740258</td>\n",
              "      <td>0.301964</td>\n",
              "    </tr>\n",
              "    <tr>\n",
              "      <th>1</th>\n",
              "      <td>0.888009</td>\n",
              "      <td>0.270054</td>\n",
              "    </tr>\n",
              "    <tr>\n",
              "      <th>2</th>\n",
              "      <td>0.794869</td>\n",
              "      <td>0.298129</td>\n",
              "    </tr>\n",
              "    <tr>\n",
              "      <th>3</th>\n",
              "      <td>0.766518</td>\n",
              "      <td>0.302396</td>\n",
              "    </tr>\n",
              "    <tr>\n",
              "      <th>4</th>\n",
              "      <td>0.762588</td>\n",
              "      <td>0.305975</td>\n",
              "    </tr>\n",
              "    <tr>\n",
              "      <th>...</th>\n",
              "      <td>...</td>\n",
              "      <td>...</td>\n",
              "    </tr>\n",
              "    <tr>\n",
              "      <th>393</th>\n",
              "      <td>-0.441910</td>\n",
              "      <td>-0.382645</td>\n",
              "    </tr>\n",
              "    <tr>\n",
              "      <th>394</th>\n",
              "      <td>-0.732133</td>\n",
              "      <td>-0.336507</td>\n",
              "    </tr>\n",
              "    <tr>\n",
              "      <th>395</th>\n",
              "      <td>-0.467243</td>\n",
              "      <td>-0.351876</td>\n",
              "    </tr>\n",
              "    <tr>\n",
              "      <th>396</th>\n",
              "      <td>-0.531042</td>\n",
              "      <td>-0.368794</td>\n",
              "    </tr>\n",
              "    <tr>\n",
              "      <th>397</th>\n",
              "      <td>-0.523961</td>\n",
              "      <td>-0.374557</td>\n",
              "    </tr>\n",
              "  </tbody>\n",
              "</table>\n",
              "<p>398 rows × 2 columns</p>\n",
              "</div>\n",
              "      <button class=\"colab-df-convert\" onclick=\"convertToInteractive('df-243d1935-52dc-4f9b-884a-4e28f7a79763')\"\n",
              "              title=\"Convert this dataframe to an interactive table.\"\n",
              "              style=\"display:none;\">\n",
              "        \n",
              "  <svg xmlns=\"http://www.w3.org/2000/svg\" height=\"24px\"viewBox=\"0 0 24 24\"\n",
              "       width=\"24px\">\n",
              "    <path d=\"M0 0h24v24H0V0z\" fill=\"none\"/>\n",
              "    <path d=\"M18.56 5.44l.94 2.06.94-2.06 2.06-.94-2.06-.94-.94-2.06-.94 2.06-2.06.94zm-11 1L8.5 8.5l.94-2.06 2.06-.94-2.06-.94L8.5 2.5l-.94 2.06-2.06.94zm10 10l.94 2.06.94-2.06 2.06-.94-2.06-.94-.94-2.06-.94 2.06-2.06.94z\"/><path d=\"M17.41 7.96l-1.37-1.37c-.4-.4-.92-.59-1.43-.59-.52 0-1.04.2-1.43.59L10.3 9.45l-7.72 7.72c-.78.78-.78 2.05 0 2.83L4 21.41c.39.39.9.59 1.41.59.51 0 1.02-.2 1.41-.59l7.78-7.78 2.81-2.81c.8-.78.8-2.07 0-2.86zM5.41 20L4 18.59l7.72-7.72 1.47 1.35L5.41 20z\"/>\n",
              "  </svg>\n",
              "      </button>\n",
              "      \n",
              "  <style>\n",
              "    .colab-df-container {\n",
              "      display:flex;\n",
              "      flex-wrap:wrap;\n",
              "      gap: 12px;\n",
              "    }\n",
              "\n",
              "    .colab-df-convert {\n",
              "      background-color: #E8F0FE;\n",
              "      border: none;\n",
              "      border-radius: 50%;\n",
              "      cursor: pointer;\n",
              "      display: none;\n",
              "      fill: #1967D2;\n",
              "      height: 32px;\n",
              "      padding: 0 0 0 0;\n",
              "      width: 32px;\n",
              "    }\n",
              "\n",
              "    .colab-df-convert:hover {\n",
              "      background-color: #E2EBFA;\n",
              "      box-shadow: 0px 1px 2px rgba(60, 64, 67, 0.3), 0px 1px 3px 1px rgba(60, 64, 67, 0.15);\n",
              "      fill: #174EA6;\n",
              "    }\n",
              "\n",
              "    [theme=dark] .colab-df-convert {\n",
              "      background-color: #3B4455;\n",
              "      fill: #D2E3FC;\n",
              "    }\n",
              "\n",
              "    [theme=dark] .colab-df-convert:hover {\n",
              "      background-color: #434B5C;\n",
              "      box-shadow: 0px 1px 3px 1px rgba(0, 0, 0, 0.15);\n",
              "      filter: drop-shadow(0px 1px 2px rgba(0, 0, 0, 0.3));\n",
              "      fill: #FFFFFF;\n",
              "    }\n",
              "  </style>\n",
              "\n",
              "      <script>\n",
              "        const buttonEl =\n",
              "          document.querySelector('#df-243d1935-52dc-4f9b-884a-4e28f7a79763 button.colab-df-convert');\n",
              "        buttonEl.style.display =\n",
              "          google.colab.kernel.accessAllowed ? 'block' : 'none';\n",
              "\n",
              "        async function convertToInteractive(key) {\n",
              "          const element = document.querySelector('#df-243d1935-52dc-4f9b-884a-4e28f7a79763');\n",
              "          const dataTable =\n",
              "            await google.colab.kernel.invokeFunction('convertToInteractive',\n",
              "                                                     [key], {});\n",
              "          if (!dataTable) return;\n",
              "\n",
              "          const docLinkHtml = 'Like what you see? Visit the ' +\n",
              "            '<a target=\"_blank\" href=https://colab.research.google.com/notebooks/data_table.ipynb>data table notebook</a>'\n",
              "            + ' to learn more about interactive tables.';\n",
              "          element.innerHTML = '';\n",
              "          dataTable['output_type'] = 'display_data';\n",
              "          await google.colab.output.renderOutput(dataTable, element);\n",
              "          const docLink = document.createElement('div');\n",
              "          docLink.innerHTML = docLinkHtml;\n",
              "          element.appendChild(docLink);\n",
              "        }\n",
              "      </script>\n",
              "    </div>\n",
              "  </div>\n",
              "  "
            ]
          },
          "metadata": {},
          "execution_count": 212
        }
      ]
    },
    {
      "cell_type": "code",
      "source": [
        "ax = sns.scatterplot(data=df_scaled, x='cp1', y='cp2', palette='Accent')\n",
        "\n",
        "ax.figure.set_size_inches(18, 10)\n",
        "\n",
        "for k, v in df_scaled.iterrows():\n",
        "    ax.annotate(k, v)\n",
        "\n",
        "\n",
        "for i in range(0, len(df_componentes)):\n",
        "    plt.arrow(0, 0, df_componentes.iloc[i][0], df_componentes.iloc[i][1], head_width = 0.02, length_includes_head=True)\n",
        "\n",
        "    ax.annotate(df_componentes.index[i], xy=(df_componentes.iloc[i][0] + 0.01, df_componentes.iloc[i][1] + 0.01))"
      ],
      "metadata": {
        "colab": {
          "base_uri": "https://localhost:8080/",
          "height": 591
        },
        "id": "sADdJyV4qLIA",
        "outputId": "aa7a1bde-c32f-4f3c-ef8b-f2c0322cc858"
      },
      "execution_count": 213,
      "outputs": [
        {
          "output_type": "display_data",
          "data": {
            "text/plain": [
              "<Figure size 1296x720 with 1 Axes>"
            ],
            "image/png": "[encoded data removed]"
          },
          "metadata": {
            "needs_background": "light"
          }
        }
      ]
    },
    {
      "cell_type": "code",
      "source": [
        "ax = sns.heatmap(df_scaled.corr(), annot=True)\n",
        "\n",
        "ax.figure.set_size_inches(8, 8)"
      ],
      "metadata": {
        "colab": {
          "base_uri": "https://localhost:8080/",
          "height": 487
        },
        "id": "GHIHBb2-ZmxL",
        "outputId": "038e93c5-9c45-41b9-9051-58f099662025"
      },
      "execution_count": 214,
      "outputs": [
        {
          "output_type": "display_data",
          "data": {
            "text/plain": [
              "<Figure size 576x576 with 2 Axes>"
            ],
            "image/png": "[encoded data removed]"
          },
          "metadata": {
            "needs_background": "light"
          }
        }
      ]
    },
    {
      "cell_type": "markdown",
      "source": [
        "## Split treino e teste"
      ],
      "metadata": {
        "id": "UlB_s2BsWB2v"
      }
    },
    {
      "cell_type": "code",
      "source": [
        "X_train_new, X_test_new, y_train, y_test = train_test_split(X_scaled_pca_two_comp, y, random_state=0, test_size=0.3)"
      ],
      "metadata": {
        "id": "ojZ4GsVeWB2v"
      },
      "execution_count": 215,
      "outputs": []
    },
    {
      "cell_type": "markdown",
      "source": [
        "# Modelos de regressão"
      ],
      "metadata": {
        "id": "J8blL4xCWB2v"
      }
    },
    {
      "cell_type": "code",
      "source": [
        "# Cross validation apenas para comparação entre modelos\n",
        "reg_xgboost_pca = xgb.XGBRegressor(objective='reg:squarederror')\n",
        "\n",
        "resultado_cv_nrmse_xgb_pca = cross_val_score(reg_xgboost_pca, X_train_new, y_train, scoring='neg_root_mean_squared_error')\n",
        "\n",
        "print('Negative RMSE: {:.2f}'.format(abs(resultado_cv_nrmse_xgb_pca.mean())))\n",
        "\n",
        "resultado_cv_rsquared_xgb_pca = cross_val_score(reg_xgboost_pca, X_train_new, y_train, scoring='r2')\n",
        "\n",
        "print('R^2: {:.2f}'.format(abs(resultado_cv_rsquared_xgb_pca.mean())))\n",
        "\n",
        "resultado_cv_nmae_xgb_pca = cross_val_score(reg_xgboost_pca, X_train_new, y_train, scoring='neg_mean_absolute_error')\n",
        "\n",
        "print('Negative MAE: {:.2f}'.format(abs(resultado_cv_nmae_xgb_pca.mean())))"
      ],
      "metadata": {
        "colab": {
          "base_uri": "https://localhost:8080/"
        },
        "outputId": "116ef4d9-84de-40a9-9d87-0941f2675f54",
        "id": "_aJyIF-jWB2v"
      },
      "execution_count": 216,
      "outputs": [
        {
          "output_type": "stream",
          "name": "stdout",
          "text": [
            "Negative RMSE: 3.15\n",
            "R^2: 0.83\n",
            "Negative MAE: 2.35\n"
          ]
        }
      ]
    },
    {
      "cell_type": "markdown",
      "source": [
        "## Tunando o classificador"
      ],
      "metadata": {
        "id": "2NjkZ2hsWB2w"
      }
    },
    {
      "cell_type": "code",
      "source": [
        "reg_xgboost_depth_pca = xgb.XGBRegressor(max_depth=2, objective='reg:squarederror') # Altera a altura máxima das árvores\n",
        "\n",
        "resultado_cv_nrmse_depth_pca = cross_val_score(reg_xgboost_depth_pca, X_train_new, y_train, scoring='neg_root_mean_squared_error')\n",
        "\n",
        "print('Negative RMSE: {:.2f}'.format(abs(resultado_cv_nrmse_depth_pca.mean())))\n",
        "\n",
        "resultado_cv_rsquared_depth_pca = cross_val_score(reg_xgboost_depth_pca, X_train_new, y_train, scoring='r2')\n",
        "\n",
        "print('R^2: {:.2f}'.format(abs(resultado_cv_rsquared_depth_pca.mean())))\n",
        "\n",
        "resultado_cv_nmae_depth_pca = cross_val_score(reg_xgboost_depth_pca, X_train_new, y_train, scoring='neg_mean_absolute_error')\n",
        "\n",
        "print('Negative MAE: {:.2f}'.format(abs(resultado_cv_nmae_depth_pca.mean())))"
      ],
      "metadata": {
        "colab": {
          "base_uri": "https://localhost:8080/"
        },
        "outputId": "c0e401cf-a2b9-41bd-f6f1-e822ac914fd8",
        "id": "Ebt1d7FLWB2w"
      },
      "execution_count": 217,
      "outputs": [
        {
          "output_type": "stream",
          "name": "stdout",
          "text": [
            "Negative RMSE: 3.04\n",
            "R^2: 0.84\n",
            "Negative MAE: 2.25\n"
          ]
        }
      ]
    },
    {
      "cell_type": "code",
      "source": [
        "reg_xgboost_dart_pca = xgb.XGBRegressor(booster='dart', objective='reg:squarederror')\n",
        "\n",
        "resultado_cv_nrmse_dart_pca = cross_val_score(reg_xgboost_dart_pca, X_train_new, y_train, scoring='neg_root_mean_squared_error')\n",
        "\n",
        "print('Negative RMSE: {:.2f}'.format(abs(resultado_cv_nrmse_dart_pca.mean())))\n",
        "\n",
        "resultado_cv_rsquared_dart_pca = cross_val_score(reg_xgboost_dart_pca, X_train_new, y_train, scoring='r2')\n",
        "\n",
        "print('R^2: {:.2f}'.format(abs(resultado_cv_rsquared_dart_pca.mean())))\n",
        "\n",
        "resultado_cv_nmae_dart_pca = cross_val_score(reg_xgboost_dart_pca, X_train_new, y_train, scoring='neg_mean_absolute_error')\n",
        "\n",
        "print('Negative MAE: {:.2f}'.format(abs(resultado_cv_nmae_dart_pca.mean())))"
      ],
      "metadata": {
        "colab": {
          "base_uri": "https://localhost:8080/"
        },
        "outputId": "a8c87cac-f3c2-4d25-f282-023175266564",
        "id": "tuzxiopqWB2w"
      },
      "execution_count": 218,
      "outputs": [
        {
          "output_type": "stream",
          "name": "stdout",
          "text": [
            "Negative RMSE: 3.15\n",
            "R^2: 0.83\n",
            "Negative MAE: 2.35\n"
          ]
        }
      ]
    },
    {
      "cell_type": "code",
      "source": [
        "reg_xgboost_gblinear_pca = xgb.XGBRegressor(booster='gblinear', objective='reg:squarederror')\n",
        "\n",
        "resultado_cv_nrmse_gbl_pca = cross_val_score(reg_xgboost_gblinear_pca, X_train_new, y_train, scoring='neg_root_mean_squared_error')\n",
        "\n",
        "print('Negative RMSE: {:.2f}'.format(abs(resultado_cv_nrmse_gbl_pca.mean())))\n",
        "\n",
        "resultado_cv_rsquared_gbl_pca = cross_val_score(reg_xgboost_gblinear_pca, X_train_new, y_train, scoring='r2')\n",
        "\n",
        "print('R^2: {:.2f}'.format(abs(resultado_cv_rsquared_gbl_pca.mean())))\n",
        "\n",
        "resultado_cv_nmae_gbl_pca = cross_val_score(reg_xgboost_gblinear_pca, X_train_new, y_train, scoring='neg_mean_absolute_error')\n",
        "\n",
        "print('Negative MAE: {:.2f}'.format(abs(resultado_cv_nmae_gbl_pca.mean())))"
      ],
      "metadata": {
        "colab": {
          "base_uri": "https://localhost:8080/"
        },
        "outputId": "6e664919-0c18-401b-bc1f-3a01472e6626",
        "id": "KTYfrYITWB2w"
      },
      "execution_count": 219,
      "outputs": [
        {
          "output_type": "stream",
          "name": "stdout",
          "text": [
            "Negative RMSE: 6.49\n",
            "R^2: 0.29\n",
            "Negative MAE: 5.39\n"
          ]
        }
      ]
    },
    {
      "cell_type": "code",
      "source": [
        "reg_xgboost_gbtree_pca = xgb.XGBRegressor(booster='gbtree', objective='reg:squarederror')\n",
        "\n",
        "resultado_cv_nrmse_gbt_pca = cross_val_score(reg_xgboost_gbtree_pca, X_train_new, y_train, scoring='neg_root_mean_squared_error')\n",
        "\n",
        "print('Negative RMSE: {:.2f}'.format(abs(resultado_cv_nrmse_gbt_pca.mean())))\n",
        "\n",
        "resultado_cv_rsquared_gbt_pca = cross_val_score(reg_xgboost_gbtree_pca, X_train_new, y_train, scoring='r2')\n",
        "\n",
        "print('R^2: {:.2f}'.format(abs(resultado_cv_rsquared_gbt_pca.mean())))\n",
        "\n",
        "resultado_cv_nmae_gbt_pca = cross_val_score(reg_xgboost_gbtree_pca, X_train_new, y_train, scoring='neg_mean_absolute_error')\n",
        "\n",
        "print('Negative MAE: {:.2f}'.format(abs(resultado_cv_nmae_gbt_pca.mean())))"
      ],
      "metadata": {
        "colab": {
          "base_uri": "https://localhost:8080/"
        },
        "outputId": "04ccfde9-aabb-4027-c040-98cd31f6aa7d",
        "id": "JwxcdExfWB2w"
      },
      "execution_count": 220,
      "outputs": [
        {
          "output_type": "stream",
          "name": "stdout",
          "text": [
            "Negative RMSE: 3.15\n",
            "R^2: 0.83\n",
            "Negative MAE: 2.35\n"
          ]
        }
      ]
    },
    {
      "cell_type": "markdown",
      "source": [
        "# Análise dos resultados"
      ],
      "metadata": {
        "id": "VHiqQs4XJRci"
      }
    },
    {
      "cell_type": "code",
      "source": [
        "data = ((resultado_cv_nrmse_xgb.mean().round(3),\n",
        "        resultado_cv_rsquared_xgb.mean().round(3),\n",
        "        resultado_cv_nmae_xgb.mean().round(3)),\n",
        "        (resultado_cv_nrmse_depth.mean().round(3),\n",
        "        resultado_cv_rsquared_depth.mean().round(3),\n",
        "        resultado_cv_nmae_depth.mean().round(3)),\n",
        "        (resultado_cv_nrmse_dart.mean().round(3),\n",
        "        resultado_cv_rsquared_dart.mean().round(3),\n",
        "        resultado_cv_nmae_dart.mean().round(3)),\n",
        "        (resultado_cv_nrmse_gbl.mean().round(3),\n",
        "        resultado_cv_rsquared_gbl.mean().round(3),\n",
        "        resultado_cv_nmae_gbl.mean().round(3)),\n",
        "        (resultado_cv_nrmse_gbt.mean().round(3),\n",
        "        resultado_cv_rsquared_gbt.mean().round(3),\n",
        "        resultado_cv_nmae_gbt.mean().round(3)),\n",
        "        (resultado_cv_nrmse_xgb_pca.mean().round(3),\n",
        "        resultado_cv_rsquared_xgb_pca.mean().round(3),\n",
        "        resultado_cv_nmae_xgb_pca.mean().round(3)),\n",
        "        (resultado_cv_nrmse_depth_pca.mean().round(3),\n",
        "        resultado_cv_rsquared_depth_pca.mean().round(3),\n",
        "        resultado_cv_nmae_depth_pca.mean().round(3)),\n",
        "        (resultado_cv_nrmse_dart_pca.mean().round(3),\n",
        "        resultado_cv_rsquared_dart_pca.mean().round(3),\n",
        "        resultado_cv_nmae_dart_pca.mean().round(3)),\n",
        "        (resultado_cv_nrmse_gbl_pca.mean().round(3),\n",
        "        resultado_cv_rsquared_gbl_pca.mean().round(3),\n",
        "        resultado_cv_nmae_gbl_pca.mean().round(3)),\n",
        "        (resultado_cv_nrmse_gbt_pca.mean().round(3),\n",
        "        resultado_cv_rsquared_gbt_pca.mean().round(3),\n",
        "        resultado_cv_nmae_gbt_pca.mean().round(3)))\n",
        "\n",
        "\n",
        "columns = ('negative_rmse',\n",
        "           'r^2',\n",
        "           'negative_mae')\n",
        "\n",
        "\n",
        "index = ('reg_xgboost',\n",
        "         'reg_xgboost_depth',\n",
        "         'reg_xgboost_dart',\n",
        "         'reg_xgboost_gblinear',\n",
        "         'reg_xgboost_gbtree',\n",
        "         'reg_xgboost_pca',\n",
        "         'reg_xgboost_depth_pca',\n",
        "         'reg_xgboost_dart_pca',\n",
        "         'reg_xgboost_gblinear_pca',\n",
        "         'reg_xgboost_gbtree_pca')\n",
        "\n",
        "\n",
        "\n",
        "df_results = pd.DataFrame(data=data, columns=columns, index=index)"
      ],
      "metadata": {
        "id": "sq9W-xkzJUDO"
      },
      "execution_count": 221,
      "outputs": []
    },
    {
      "cell_type": "code",
      "source": [
        "df_results.sort_values(['negative_rmse', 'negative_mae'], ascending=False)"
      ],
      "metadata": {
        "colab": {
          "base_uri": "https://localhost:8080/",
          "height": 363
        },
        "id": "2wz5Pxl6OY-a",
        "outputId": "2967f0e6-7752-44c0-dd9b-56d1a40f2606"
      },
      "execution_count": 222,
      "outputs": [
        {
          "output_type": "execute_result",
          "data": {
            "text/plain": [
              "                          negative_rmse    r^2  negative_mae\n",
              "reg_xgboost                      -2.955  0.852        -2.156\n",
              "reg_xgboost_depth                -2.955  0.852        -2.156\n",
              "reg_xgboost_dart                 -2.955  0.852        -2.156\n",
              "reg_xgboost_gblinear             -2.955  0.852        -2.156\n",
              "reg_xgboost_gbtree               -2.955  0.852        -2.156\n",
              "reg_xgboost_depth_pca            -3.044  0.839        -2.251\n",
              "reg_xgboost_pca                  -3.153  0.825        -2.348\n",
              "reg_xgboost_dart_pca             -3.153  0.825        -2.348\n",
              "reg_xgboost_gbtree_pca           -3.153  0.825        -2.348\n",
              "reg_xgboost_gblinear_pca         -6.492  0.290        -5.388"
            ],
            "text/html": [
              "\n",
              "  <div id=\"df-5001576e-d467-4c33-98a1-5b2390f90509\">\n",
              "    <div class=\"colab-df-container\">\n",
              "      <div>\n",
              "<style scoped>\n",
              "    .dataframe tbody tr th:only-of-type {\n",
              "        vertical-align: middle;\n",
              "    }\n",
              "\n",
              "    .dataframe tbody tr th {\n",
              "        vertical-align: top;\n",
              "    }\n",
              "\n",
              "    .dataframe thead th {\n",
              "        text-align: right;\n",
              "    }\n",
              "</style>\n",
              "<table border=\"1\" class=\"dataframe\">\n",
              "  <thead>\n",
              "    <tr style=\"text-align: right;\">\n",
              "      <th></th>\n",
              "      <th>negative_rmse</th>\n",
              "      <th>r^2</th>\n",
              "      <th>negative_mae</th>\n",
              "    </tr>\n",
              "  </thead>\n",
              "  <tbody>\n",
              "    <tr>\n",
              "      <th>reg_xgboost</th>\n",
              "      <td>-2.955</td>\n",
              "      <td>0.852</td>\n",
              "      <td>-2.156</td>\n",
              "    </tr>\n",
              "    <tr>\n",
              "      <th>reg_xgboost_depth</th>\n",
              "      <td>-2.955</td>\n",
              "      <td>0.852</td>\n",
              "      <td>-2.156</td>\n",
              "    </tr>\n",
              "    <tr>\n",
              "      <th>reg_xgboost_dart</th>\n",
              "      <td>-2.955</td>\n",
              "      <td>0.852</td>\n",
              "      <td>-2.156</td>\n",
              "    </tr>\n",
              "    <tr>\n",
              "      <th>reg_xgboost_gblinear</th>\n",
              "      <td>-2.955</td>\n",
              "      <td>0.852</td>\n",
              "      <td>-2.156</td>\n",
              "    </tr>\n",
              "    <tr>\n",
              "      <th>reg_xgboost_gbtree</th>\n",
              "      <td>-2.955</td>\n",
              "      <td>0.852</td>\n",
              "      <td>-2.156</td>\n",
              "    </tr>\n",
              "    <tr>\n",
              "      <th>reg_xgboost_depth_pca</th>\n",
              "      <td>-3.044</td>\n",
              "      <td>0.839</td>\n",
              "      <td>-2.251</td>\n",
              "    </tr>\n",
              "    <tr>\n",
              "      <th>reg_xgboost_pca</th>\n",
              "      <td>-3.153</td>\n",
              "      <td>0.825</td>\n",
              "      <td>-2.348</td>\n",
              "    </tr>\n",
              "    <tr>\n",
              "      <th>reg_xgboost_dart_pca</th>\n",
              "      <td>-3.153</td>\n",
              "      <td>0.825</td>\n",
              "      <td>-2.348</td>\n",
              "    </tr>\n",
              "    <tr>\n",
              "      <th>reg_xgboost_gbtree_pca</th>\n",
              "      <td>-3.153</td>\n",
              "      <td>0.825</td>\n",
              "      <td>-2.348</td>\n",
              "    </tr>\n",
              "    <tr>\n",
              "      <th>reg_xgboost_gblinear_pca</th>\n",
              "      <td>-6.492</td>\n",
              "      <td>0.290</td>\n",
              "      <td>-5.388</td>\n",
              "    </tr>\n",
              "  </tbody>\n",
              "</table>\n",
              "</div>\n",
              "      <button class=\"colab-df-convert\" onclick=\"convertToInteractive('df-5001576e-d467-4c33-98a1-5b2390f90509')\"\n",
              "              title=\"Convert this dataframe to an interactive table.\"\n",
              "              style=\"display:none;\">\n",
              "        \n",
              "  <svg xmlns=\"http://www.w3.org/2000/svg\" height=\"24px\"viewBox=\"0 0 24 24\"\n",
              "       width=\"24px\">\n",
              "    <path d=\"M0 0h24v24H0V0z\" fill=\"none\"/>\n",
              "    <path d=\"M18.56 5.44l.94 2.06.94-2.06 2.06-.94-2.06-.94-.94-2.06-.94 2.06-2.06.94zm-11 1L8.5 8.5l.94-2.06 2.06-.94-2.06-.94L8.5 2.5l-.94 2.06-2.06.94zm10 10l.94 2.06.94-2.06 2.06-.94-2.06-.94-.94-2.06-.94 2.06-2.06.94z\"/><path d=\"M17.41 7.96l-1.37-1.37c-.4-.4-.92-.59-1.43-.59-.52 0-1.04.2-1.43.59L10.3 9.45l-7.72 7.72c-.78.78-.78 2.05 0 2.83L4 21.41c.39.39.9.59 1.41.59.51 0 1.02-.2 1.41-.59l7.78-7.78 2.81-2.81c.8-.78.8-2.07 0-2.86zM5.41 20L4 18.59l7.72-7.72 1.47 1.35L5.41 20z\"/>\n",
              "  </svg>\n",
              "      </button>\n",
              "      \n",
              "  <style>\n",
              "    .colab-df-container {\n",
              "      display:flex;\n",
              "      flex-wrap:wrap;\n",
              "      gap: 12px;\n",
              "    }\n",
              "\n",
              "    .colab-df-convert {\n",
              "      background-color: #E8F0FE;\n",
              "      border: none;\n",
              "      border-radius: 50%;\n",
              "      cursor: pointer;\n",
              "      display: none;\n",
              "      fill: #1967D2;\n",
              "      height: 32px;\n",
              "      padding: 0 0 0 0;\n",
              "      width: 32px;\n",
              "    }\n",
              "\n",
              "    .colab-df-convert:hover {\n",
              "      background-color: #E2EBFA;\n",
              "      box-shadow: 0px 1px 2px rgba(60, 64, 67, 0.3), 0px 1px 3px 1px rgba(60, 64, 67, 0.15);\n",
              "      fill: #174EA6;\n",
              "    }\n",
              "\n",
              "    [theme=dark] .colab-df-convert {\n",
              "      background-color: #3B4455;\n",
              "      fill: #D2E3FC;\n",
              "    }\n",
              "\n",
              "    [theme=dark] .colab-df-convert:hover {\n",
              "      background-color: #434B5C;\n",
              "      box-shadow: 0px 1px 3px 1px rgba(0, 0, 0, 0.15);\n",
              "      filter: drop-shadow(0px 1px 2px rgba(0, 0, 0, 0.3));\n",
              "      fill: #FFFFFF;\n",
              "    }\n",
              "  </style>\n",
              "\n",
              "      <script>\n",
              "        const buttonEl =\n",
              "          document.querySelector('#df-5001576e-d467-4c33-98a1-5b2390f90509 button.colab-df-convert');\n",
              "        buttonEl.style.display =\n",
              "          google.colab.kernel.accessAllowed ? 'block' : 'none';\n",
              "\n",
              "        async function convertToInteractive(key) {\n",
              "          const element = document.querySelector('#df-5001576e-d467-4c33-98a1-5b2390f90509');\n",
              "          const dataTable =\n",
              "            await google.colab.kernel.invokeFunction('convertToInteractive',\n",
              "                                                     [key], {});\n",
              "          if (!dataTable) return;\n",
              "\n",
              "          const docLinkHtml = 'Like what you see? Visit the ' +\n",
              "            '<a target=\"_blank\" href=https://colab.research.google.com/notebooks/data_table.ipynb>data table notebook</a>'\n",
              "            + ' to learn more about interactive tables.';\n",
              "          element.innerHTML = '';\n",
              "          dataTable['output_type'] = 'display_data';\n",
              "          await google.colab.output.renderOutput(dataTable, element);\n",
              "          const docLink = document.createElement('div');\n",
              "          docLink.innerHTML = docLinkHtml;\n",
              "          element.appendChild(docLink);\n",
              "        }\n",
              "      </script>\n",
              "    </div>\n",
              "  </div>\n",
              "  "
            ]
          },
          "metadata": {},
          "execution_count": 222
        }
      ]
    },
    {
      "cell_type": "markdown",
      "source": [
        "# Aplicação do melhor modelo"
      ],
      "metadata": {
        "id": "DIAAUdTgPhH7"
      }
    },
    {
      "cell_type": "code",
      "source": [
        "melhor_modelo = reg_xgboost\n",
        "\n",
        "melhor_modelo.fit(X_train, y_train)"
      ],
      "metadata": {
        "colab": {
          "base_uri": "https://localhost:8080/"
        },
        "id": "3i5bf4W8PiyM",
        "outputId": "505cd6bf-1a48-429e-9f21-af3ad236f4e3"
      },
      "execution_count": 223,
      "outputs": [
        {
          "output_type": "execute_result",
          "data": {
            "text/plain": [
              "XGBRegressor(objective='reg:squarederror')"
            ]
          },
          "metadata": {},
          "execution_count": 223
        }
      ]
    },
    {
      "cell_type": "code",
      "source": [
        "y_pred = melhor_modelo.predict(X_test)"
      ],
      "metadata": {
        "id": "hBt9lg4kPwCr"
      },
      "execution_count": 224,
      "outputs": []
    },
    {
      "cell_type": "markdown",
      "source": [
        "## Acurácia"
      ],
      "metadata": {
        "id": "TnEMf5eBP2PZ"
      }
    },
    {
      "cell_type": "markdown",
      "source": [
        "### Cross validation"
      ],
      "metadata": {
        "id": "LR2mgVbPy2L3"
      }
    },
    {
      "cell_type": "code",
      "source": [
        "resultado_cv_nrmse = cross_val_score(melhor_modelo, X_train_new, y_train, scoring='neg_root_mean_squared_error')\n",
        "\n",
        "print('Negative RMSE: {:.2f}'.format(resultado_cv_nrmse.mean()))\n",
        "\n",
        "resultado_cv_rsquared = cross_val_score(melhor_modelo, X_train_new, y_train, scoring='r2')\n",
        "\n",
        "print('R^2: {:.2f}'.format(resultado_cv_rsquared.mean()))\n",
        "\n",
        "resultado_cv_nmae = cross_val_score(melhor_modelo, X_train_new, y_train, scoring='neg_mean_absolute_error')\n",
        "\n",
        "print('Negative MAE: {:.2f}'.format(resultado_cv_nmae.mean()))"
      ],
      "metadata": {
        "colab": {
          "base_uri": "https://localhost:8080/"
        },
        "id": "SGIYclY2QUuO",
        "outputId": "80bbbeb4-9013-4b5f-a5cc-8a8e95ff65b4"
      },
      "execution_count": 225,
      "outputs": [
        {
          "output_type": "stream",
          "name": "stdout",
          "text": [
            "Negative RMSE: -3.15\n",
            "R^2: 0.83\n",
            "Negative MAE: -2.35\n"
          ]
        }
      ]
    },
    {
      "cell_type": "code",
      "source": [
        "y_pred_all = melhor_modelo.predict(X)\n",
        "\n",
        "# Uso do neg para buscar o erro \"quanto menor, melhor\"\n",
        "# Caso contrário, o scikit-learn vai maximizar o erro, trazendo o maior valor, neste caso \"quanto maior, pior\", o que é indesejado\n",
        "\n",
        "df['mpg_pred'] = y_pred_all\n",
        "\n",
        "df['mpg_pred'] = df['mpg_pred'].round(2)\n",
        "\n",
        "resultado_cv_rmse = sqrt(mean_squared_error(y, y_pred_all))\n",
        "\n",
        "print('RMSE: {:.2f}'.format(resultado_cv_rmse))\n",
        "\n",
        "resultado_cv_rsquared = r2_score(y, y_pred_all)\n",
        "\n",
        "print('R^2: {:.2f}'.format(resultado_cv_rsquared))\n",
        "\n",
        "resultado_cv_mae = mean_absolute_error(y, y_pred_all)\n",
        "\n",
        "print('Negative MAE: {:.2f}'.format(resultado_cv_mae.mean()))"
      ],
      "metadata": {
        "id": "A6aOkcrIdfVn",
        "colab": {
          "base_uri": "https://localhost:8080/"
        },
        "outputId": "2b0998ab-c805-47c5-fd3c-cf83ca10bfd6"
      },
      "execution_count": 226,
      "outputs": [
        {
          "output_type": "stream",
          "name": "stdout",
          "text": [
            "RMSE: 1.98\n",
            "R^2: 0.94\n",
            "Negative MAE: 1.39\n"
          ]
        }
      ]
    },
    {
      "cell_type": "markdown",
      "source": [
        "# Conversões de unidades"
      ],
      "metadata": {
        "id": "rC1AFFzPc3ei"
      }
    },
    {
      "cell_type": "code",
      "source": [
        "mpg_para_kml = 0.425144\n",
        "\n",
        "df['km_l'] = round(df['mpg'] * mpg_para_kml, 2)\n",
        "\n",
        "df['km_l_pred'] = round(df['mpg_pred'] * mpg_para_kml, 2)\n",
        "\n",
        "\n",
        "libras_para_kg = 0.453592\n",
        "\n",
        "df['kg'] = round(df['weight'] * libras_para_kg, 2)"
      ],
      "metadata": {
        "id": "lzkpuBOhc9y7"
      },
      "execution_count": 227,
      "outputs": []
    },
    {
      "cell_type": "code",
      "source": [
        "reorder_columns = ['mpg',\n",
        "                   'km_l',\n",
        "                   'mpg_pred',\n",
        "                   'km_l_pred',\n",
        "                   'cylinders',\n",
        "                   'displacement',\n",
        "                   'horsepower',\n",
        "                   'weight',\n",
        "                   'kg',\n",
        "                   'acceleration',\n",
        "                   'model_year']\n",
        "\n",
        "df = df.reindex(columns=reorder_columns, copy=True)\n",
        "\n",
        "df"
      ],
      "metadata": {
        "colab": {
          "base_uri": "https://localhost:8080/",
          "height": 423
        },
        "id": "B6D57X5sdI9c",
        "outputId": "d2e6065b-42c4-4a1b-ea97-f69ea7544f34"
      },
      "execution_count": 228,
      "outputs": [
        {
          "output_type": "execute_result",
          "data": {
            "text/plain": [
              "      mpg   km_l   mpg_pred  km_l_pred  cylinders  displacement  horsepower  \\\n",
              "0    18.0   7.65  16.320000   6.940000          8         307.0       130.0   \n",
              "1    15.0   6.38  15.580000   6.620000          8         350.0       165.0   \n",
              "2    18.0   7.65  16.150000   6.870000          8         318.0       150.0   \n",
              "3    16.0   6.80  15.720000   6.680000          8         304.0       150.0   \n",
              "4    17.0   7.23  16.180000   6.880000          8         302.0       140.0   \n",
              "..    ...    ...        ...        ...        ...           ...         ...   \n",
              "393  27.0  11.48  26.809999  11.400000          4         140.0        86.0   \n",
              "394  44.0  18.71  43.419998  18.459999          4          97.0        52.0   \n",
              "395  32.0  13.60  32.540001  13.830000          4         135.0        84.0   \n",
              "396  28.0  11.90  29.670000  12.610000          4         120.0        79.0   \n",
              "397  31.0  13.18  28.520000  12.130000          4         119.0        82.0   \n",
              "\n",
              "     weight       kg  acceleration  model_year  \n",
              "0      3504  1589.39          12.0          70  \n",
              "1      3693  1675.12          11.5          70  \n",
              "2      3436  1558.54          11.0          70  \n",
              "3      3433  1557.18          12.0          70  \n",
              "4      3449  1564.44          10.5          70  \n",
              "..      ...      ...           ...         ...  \n",
              "393    2790  1265.52          15.6          82  \n",
              "394    2130   966.15          24.6          82  \n",
              "395    2295  1040.99          11.6          82  \n",
              "396    2625  1190.68          18.6          82  \n",
              "397    2720  1233.77          19.4          82  \n",
              "\n",
              "[398 rows x 11 columns]"
            ],
            "text/html": [
              "\n",
              "  <div id=\"df-10d8a0b5-43f8-437b-8026-9e7bd805f146\">\n",
              "    <div class=\"colab-df-container\">\n",
              "      <div>\n",
              "<style scoped>\n",
              "    .dataframe tbody tr th:only-of-type {\n",
              "        vertical-align: middle;\n",
              "    }\n",
              "\n",
              "    .dataframe tbody tr th {\n",
              "        vertical-align: top;\n",
              "    }\n",
              "\n",
              "    .dataframe thead th {\n",
              "        text-align: right;\n",
              "    }\n",
              "</style>\n",
              "<table border=\"1\" class=\"dataframe\">\n",
              "  <thead>\n",
              "    <tr style=\"text-align: right;\">\n",
              "      <th></th>\n",
              "      <th>mpg</th>\n",
              "      <th>km_l</th>\n",
              "      <th>mpg_pred</th>\n",
              "      <th>km_l_pred</th>\n",
              "      <th>cylinders</th>\n",
              "      <th>displacement</th>\n",
              "      <th>horsepower</th>\n",
              "      <th>weight</th>\n",
              "      <th>kg</th>\n",
              "      <th>acceleration</th>\n",
              "      <th>model_year</th>\n",
              "    </tr>\n",
              "  </thead>\n",
              "  <tbody>\n",
              "    <tr>\n",
              "      <th>0</th>\n",
              "      <td>18.0</td>\n",
              "      <td>7.65</td>\n",
              "      <td>16.320000</td>\n",
              "      <td>6.940000</td>\n",
              "      <td>8</td>\n",
              "      <td>307.0</td>\n",
              "      <td>130.0</td>\n",
              "      <td>3504</td>\n",
              "      <td>1589.39</td>\n",
              "      <td>12.0</td>\n",
              "      <td>70</td>\n",
              "    </tr>\n",
              "    <tr>\n",
              "      <th>1</th>\n",
              "      <td>15.0</td>\n",
              "      <td>6.38</td>\n",
              "      <td>15.580000</td>\n",
              "      <td>6.620000</td>\n",
              "      <td>8</td>\n",
              "      <td>350.0</td>\n",
              "      <td>165.0</td>\n",
              "      <td>3693</td>\n",
              "      <td>1675.12</td>\n",
              "      <td>11.5</td>\n",
              "      <td>70</td>\n",
              "    </tr>\n",
              "    <tr>\n",
              "      <th>2</th>\n",
              "      <td>18.0</td>\n",
              "      <td>7.65</td>\n",
              "      <td>16.150000</td>\n",
              "      <td>6.870000</td>\n",
              "      <td>8</td>\n",
              "      <td>318.0</td>\n",
              "      <td>150.0</td>\n",
              "      <td>3436</td>\n",
              "      <td>1558.54</td>\n",
              "      <td>11.0</td>\n",
              "      <td>70</td>\n",
              "    </tr>\n",
              "    <tr>\n",
              "      <th>3</th>\n",
              "      <td>16.0</td>\n",
              "      <td>6.80</td>\n",
              "      <td>15.720000</td>\n",
              "      <td>6.680000</td>\n",
              "      <td>8</td>\n",
              "      <td>304.0</td>\n",
              "      <td>150.0</td>\n",
              "      <td>3433</td>\n",
              "      <td>1557.18</td>\n",
              "      <td>12.0</td>\n",
              "      <td>70</td>\n",
              "    </tr>\n",
              "    <tr>\n",
              "      <th>4</th>\n",
              "      <td>17.0</td>\n",
              "      <td>7.23</td>\n",
              "      <td>16.180000</td>\n",
              "      <td>6.880000</td>\n",
              "      <td>8</td>\n",
              "      <td>302.0</td>\n",
              "      <td>140.0</td>\n",
              "      <td>3449</td>\n",
              "      <td>1564.44</td>\n",
              "      <td>10.5</td>\n",
              "      <td>70</td>\n",
              "    </tr>\n",
              "    <tr>\n",
              "      <th>...</th>\n",
              "      <td>...</td>\n",
              "      <td>...</td>\n",
              "      <td>...</td>\n",
              "      <td>...</td>\n",
              "      <td>...</td>\n",
              "      <td>...</td>\n",
              "      <td>...</td>\n",
              "      <td>...</td>\n",
              "      <td>...</td>\n",
              "      <td>...</td>\n",
              "      <td>...</td>\n",
              "    </tr>\n",
              "    <tr>\n",
              "      <th>393</th>\n",
              "      <td>27.0</td>\n",
              "      <td>11.48</td>\n",
              "      <td>26.809999</td>\n",
              "      <td>11.400000</td>\n",
              "      <td>4</td>\n",
              "      <td>140.0</td>\n",
              "      <td>86.0</td>\n",
              "      <td>2790</td>\n",
              "      <td>1265.52</td>\n",
              "      <td>15.6</td>\n",
              "      <td>82</td>\n",
              "    </tr>\n",
              "    <tr>\n",
              "      <th>394</th>\n",
              "      <td>44.0</td>\n",
              "      <td>18.71</td>\n",
              "      <td>43.419998</td>\n",
              "      <td>18.459999</td>\n",
              "      <td>4</td>\n",
              "      <td>97.0</td>\n",
              "      <td>52.0</td>\n",
              "      <td>2130</td>\n",
              "      <td>966.15</td>\n",
              "      <td>24.6</td>\n",
              "      <td>82</td>\n",
              "    </tr>\n",
              "    <tr>\n",
              "      <th>395</th>\n",
              "      <td>32.0</td>\n",
              "      <td>13.60</td>\n",
              "      <td>32.540001</td>\n",
              "      <td>13.830000</td>\n",
              "      <td>4</td>\n",
              "      <td>135.0</td>\n",
              "      <td>84.0</td>\n",
              "      <td>2295</td>\n",
              "      <td>1040.99</td>\n",
              "      <td>11.6</td>\n",
              "      <td>82</td>\n",
              "    </tr>\n",
              "    <tr>\n",
              "      <th>396</th>\n",
              "      <td>28.0</td>\n",
              "      <td>11.90</td>\n",
              "      <td>29.670000</td>\n",
              "      <td>12.610000</td>\n",
              "      <td>4</td>\n",
              "      <td>120.0</td>\n",
              "      <td>79.0</td>\n",
              "      <td>2625</td>\n",
              "      <td>1190.68</td>\n",
              "      <td>18.6</td>\n",
              "      <td>82</td>\n",
              "    </tr>\n",
              "    <tr>\n",
              "      <th>397</th>\n",
              "      <td>31.0</td>\n",
              "      <td>13.18</td>\n",
              "      <td>28.520000</td>\n",
              "      <td>12.130000</td>\n",
              "      <td>4</td>\n",
              "      <td>119.0</td>\n",
              "      <td>82.0</td>\n",
              "      <td>2720</td>\n",
              "      <td>1233.77</td>\n",
              "      <td>19.4</td>\n",
              "      <td>82</td>\n",
              "    </tr>\n",
              "  </tbody>\n",
              "</table>\n",
              "<p>398 rows × 11 columns</p>\n",
              "</div>\n",
              "      <button class=\"colab-df-convert\" onclick=\"convertToInteractive('df-10d8a0b5-43f8-437b-8026-9e7bd805f146')\"\n",
              "              title=\"Convert this dataframe to an interactive table.\"\n",
              "              style=\"display:none;\">\n",
              "        \n",
              "  <svg xmlns=\"http://www.w3.org/2000/svg\" height=\"24px\"viewBox=\"0 0 24 24\"\n",
              "       width=\"24px\">\n",
              "    <path d=\"M0 0h24v24H0V0z\" fill=\"none\"/>\n",
              "    <path d=\"M18.56 5.44l.94 2.06.94-2.06 2.06-.94-2.06-.94-.94-2.06-.94 2.06-2.06.94zm-11 1L8.5 8.5l.94-2.06 2.06-.94-2.06-.94L8.5 2.5l-.94 2.06-2.06.94zm10 10l.94 2.06.94-2.06 2.06-.94-2.06-.94-.94-2.06-.94 2.06-2.06.94z\"/><path d=\"M17.41 7.96l-1.37-1.37c-.4-.4-.92-.59-1.43-.59-.52 0-1.04.2-1.43.59L10.3 9.45l-7.72 7.72c-.78.78-.78 2.05 0 2.83L4 21.41c.39.39.9.59 1.41.59.51 0 1.02-.2 1.41-.59l7.78-7.78 2.81-2.81c.8-.78.8-2.07 0-2.86zM5.41 20L4 18.59l7.72-7.72 1.47 1.35L5.41 20z\"/>\n",
              "  </svg>\n",
              "      </button>\n",
              "      \n",
              "  <style>\n",
              "    .colab-df-container {\n",
              "      display:flex;\n",
              "      flex-wrap:wrap;\n",
              "      gap: 12px;\n",
              "    }\n",
              "\n",
              "    .colab-df-convert {\n",
              "      background-color: #E8F0FE;\n",
              "      border: none;\n",
              "      border-radius: 50%;\n",
              "      cursor: pointer;\n",
              "      display: none;\n",
              "      fill: #1967D2;\n",
              "      height: 32px;\n",
              "      padding: 0 0 0 0;\n",
              "      width: 32px;\n",
              "    }\n",
              "\n",
              "    .colab-df-convert:hover {\n",
              "      background-color: #E2EBFA;\n",
              "      box-shadow: 0px 1px 2px rgba(60, 64, 67, 0.3), 0px 1px 3px 1px rgba(60, 64, 67, 0.15);\n",
              "      fill: #174EA6;\n",
              "    }\n",
              "\n",
              "    [theme=dark] .colab-df-convert {\n",
              "      background-color: #3B4455;\n",
              "      fill: #D2E3FC;\n",
              "    }\n",
              "\n",
              "    [theme=dark] .colab-df-convert:hover {\n",
              "      background-color: #434B5C;\n",
              "      box-shadow: 0px 1px 3px 1px rgba(0, 0, 0, 0.15);\n",
              "      filter: drop-shadow(0px 1px 2px rgba(0, 0, 0, 0.3));\n",
              "      fill: #FFFFFF;\n",
              "    }\n",
              "  </style>\n",
              "\n",
              "      <script>\n",
              "        const buttonEl =\n",
              "          document.querySelector('#df-10d8a0b5-43f8-437b-8026-9e7bd805f146 button.colab-df-convert');\n",
              "        buttonEl.style.display =\n",
              "          google.colab.kernel.accessAllowed ? 'block' : 'none';\n",
              "\n",
              "        async function convertToInteractive(key) {\n",
              "          const element = document.querySelector('#df-10d8a0b5-43f8-437b-8026-9e7bd805f146');\n",
              "          const dataTable =\n",
              "            await google.colab.kernel.invokeFunction('convertToInteractive',\n",
              "                                                     [key], {});\n",
              "          if (!dataTable) return;\n",
              "\n",
              "          const docLinkHtml = 'Like what you see? Visit the ' +\n",
              "            '<a target=\"_blank\" href=https://colab.research.google.com/notebooks/data_table.ipynb>data table notebook</a>'\n",
              "            + ' to learn more about interactive tables.';\n",
              "          element.innerHTML = '';\n",
              "          dataTable['output_type'] = 'display_data';\n",
              "          await google.colab.output.renderOutput(dataTable, element);\n",
              "          const docLink = document.createElement('div');\n",
              "          docLink.innerHTML = docLinkHtml;\n",
              "          element.appendChild(docLink);\n",
              "        }\n",
              "      </script>\n",
              "    </div>\n",
              "  </div>\n",
              "  "
            ]
          },
          "metadata": {},
          "execution_count": 228
        }
      ]
    },
    {
      "cell_type": "markdown",
      "source": [
        "# Análise gráfica"
      ],
      "metadata": {
        "id": "CHIl9S2Ph3B4"
      }
    },
    {
      "cell_type": "code",
      "source": [
        "plt.figure(figsize=(20, 7))\n",
        "\n",
        "plt.scatter(y=df['mpg'], x=df.index, color='#FF0000', label='mpg')\n",
        "plt.scatter(y=df['mpg_pred'], x=df.index, color='#B62A8F', label='mpg_pred')\n",
        "\n",
        "plt.legend()"
      ],
      "metadata": {
        "colab": {
          "base_uri": "https://localhost:8080/",
          "height": 405
        },
        "id": "paBPp5MDh488",
        "outputId": "3652960f-12bc-4bd9-a3cb-e660c918e3d8"
      },
      "execution_count": 229,
      "outputs": [
        {
          "output_type": "execute_result",
          "data": {
            "text/plain": [
              "<matplotlib.legend.Legend at 0x7f8c9b73c160>"
            ]
          },
          "metadata": {},
          "execution_count": 229
        },
        {
          "output_type": "display_data",
          "data": {
            "text/plain": [
              "<Figure size 1440x504 with 1 Axes>"
            ],
            "image/png": "[encoded data removed]"
          },
          "metadata": {
            "needs_background": "light"
          }
        }
      ]
    },
    {
      "cell_type": "markdown",
      "source": [
        "# Previsão de mpg"
      ],
      "metadata": {
        "id": "7EhbApmgqKZS"
      }
    },
    {
      "cell_type": "code",
      "source": [
        "# Variáveis com valores randômicos\n",
        "\n",
        "cylinders = np.random.randint(df['cylinders'].min(), df['cylinders'].max() + 1)\n",
        "\n",
        "displacement = np.random.randint(df['displacement'].min(), df['displacement'].max() + 1)\n",
        "\n",
        "horsepower = np.random.randint(df['horsepower'].min(), df['horsepower'].max() + 1)\n",
        "\n",
        "weight = np.random.randint(df['kg'].min(), df['kg'].max() + 1)\n",
        "\n",
        "acceleration = np.random.randint(df['acceleration'].min(), df['acceleration'].max() + 1)\n",
        "\n",
        "model_year = np.random.randint(df['model_year'].min(), df['model_year'].max() + 1)\n",
        "\n",
        "\n",
        "dados_pred = {'cylinders': cylinders,\n",
        "                 'displacement': displacement,\n",
        "                 'horsepower': horsepower,\n",
        "                 'weight': weight,\n",
        "                 'acceleration': acceleration,\n",
        "                 'model_year': model_year}\n",
        "\n",
        "\n",
        "df_pred = pd.DataFrame(dados_pred, dtype='float64', index=[0])\n",
        "\n",
        "y_user_pred = melhor_modelo.predict(df_pred).round(2)\n",
        "\n",
        "df_pred['mpg_pred'] = y_user_pred\n",
        "\n",
        "df_pred"
      ],
      "metadata": {
        "colab": {
          "base_uri": "https://localhost:8080/",
          "height": 81
        },
        "id": "n0xHfj6kqNWO",
        "outputId": "33a3d935-1974-4ce6-f7fc-daf7c6e9bee8"
      },
      "execution_count": 230,
      "outputs": [
        {
          "output_type": "execute_result",
          "data": {
            "text/plain": [
              "   cylinders  displacement  horsepower  weight  acceleration  model_year  \\\n",
              "0        3.0         362.0       147.0  2212.0          16.0        79.0   \n",
              "\n",
              "   mpg_pred  \n",
              "0     27.33  "
            ],
            "text/html": [
              "\n",
              "  <div id=\"df-425f1e1e-ebe3-427e-af92-d73baab539b3\">\n",
              "    <div class=\"colab-df-container\">\n",
              "      <div>\n",
              "<style scoped>\n",
              "    .dataframe tbody tr th:only-of-type {\n",
              "        vertical-align: middle;\n",
              "    }\n",
              "\n",
              "    .dataframe tbody tr th {\n",
              "        vertical-align: top;\n",
              "    }\n",
              "\n",
              "    .dataframe thead th {\n",
              "        text-align: right;\n",
              "    }\n",
              "</style>\n",
              "<table border=\"1\" class=\"dataframe\">\n",
              "  <thead>\n",
              "    <tr style=\"text-align: right;\">\n",
              "      <th></th>\n",
              "      <th>cylinders</th>\n",
              "      <th>displacement</th>\n",
              "      <th>horsepower</th>\n",
              "      <th>weight</th>\n",
              "      <th>acceleration</th>\n",
              "      <th>model_year</th>\n",
              "      <th>mpg_pred</th>\n",
              "    </tr>\n",
              "  </thead>\n",
              "  <tbody>\n",
              "    <tr>\n",
              "      <th>0</th>\n",
              "      <td>3.0</td>\n",
              "      <td>362.0</td>\n",
              "      <td>147.0</td>\n",
              "      <td>2212.0</td>\n",
              "      <td>16.0</td>\n",
              "      <td>79.0</td>\n",
              "      <td>27.33</td>\n",
              "    </tr>\n",
              "  </tbody>\n",
              "</table>\n",
              "</div>\n",
              "      <button class=\"colab-df-convert\" onclick=\"convertToInteractive('df-425f1e1e-ebe3-427e-af92-d73baab539b3')\"\n",
              "              title=\"Convert this dataframe to an interactive table.\"\n",
              "              style=\"display:none;\">\n",
              "        \n",
              "  <svg xmlns=\"http://www.w3.org/2000/svg\" height=\"24px\"viewBox=\"0 0 24 24\"\n",
              "       width=\"24px\">\n",
              "    <path d=\"M0 0h24v24H0V0z\" fill=\"none\"/>\n",
              "    <path d=\"M18.56 5.44l.94 2.06.94-2.06 2.06-.94-2.06-.94-.94-2.06-.94 2.06-2.06.94zm-11 1L8.5 8.5l.94-2.06 2.06-.94-2.06-.94L8.5 2.5l-.94 2.06-2.06.94zm10 10l.94 2.06.94-2.06 2.06-.94-2.06-.94-.94-2.06-.94 2.06-2.06.94z\"/><path d=\"M17.41 7.96l-1.37-1.37c-.4-.4-.92-.59-1.43-.59-.52 0-1.04.2-1.43.59L10.3 9.45l-7.72 7.72c-.78.78-.78 2.05 0 2.83L4 21.41c.39.39.9.59 1.41.59.51 0 1.02-.2 1.41-.59l7.78-7.78 2.81-2.81c.8-.78.8-2.07 0-2.86zM5.41 20L4 18.59l7.72-7.72 1.47 1.35L5.41 20z\"/>\n",
              "  </svg>\n",
              "      </button>\n",
              "      \n",
              "  <style>\n",
              "    .colab-df-container {\n",
              "      display:flex;\n",
              "      flex-wrap:wrap;\n",
              "      gap: 12px;\n",
              "    }\n",
              "\n",
              "    .colab-df-convert {\n",
              "      background-color: #E8F0FE;\n",
              "      border: none;\n",
              "      border-radius: 50%;\n",
              "      cursor: pointer;\n",
              "      display: none;\n",
              "      fill: #1967D2;\n",
              "      height: 32px;\n",
              "      padding: 0 0 0 0;\n",
              "      width: 32px;\n",
              "    }\n",
              "\n",
              "    .colab-df-convert:hover {\n",
              "      background-color: #E2EBFA;\n",
              "      box-shadow: 0px 1px 2px rgba(60, 64, 67, 0.3), 0px 1px 3px 1px rgba(60, 64, 67, 0.15);\n",
              "      fill: #174EA6;\n",
              "    }\n",
              "\n",
              "    [theme=dark] .colab-df-convert {\n",
              "      background-color: #3B4455;\n",
              "      fill: #D2E3FC;\n",
              "    }\n",
              "\n",
              "    [theme=dark] .colab-df-convert:hover {\n",
              "      background-color: #434B5C;\n",
              "      box-shadow: 0px 1px 3px 1px rgba(0, 0, 0, 0.15);\n",
              "      filter: drop-shadow(0px 1px 2px rgba(0, 0, 0, 0.3));\n",
              "      fill: #FFFFFF;\n",
              "    }\n",
              "  </style>\n",
              "\n",
              "      <script>\n",
              "        const buttonEl =\n",
              "          document.querySelector('#df-425f1e1e-ebe3-427e-af92-d73baab539b3 button.colab-df-convert');\n",
              "        buttonEl.style.display =\n",
              "          google.colab.kernel.accessAllowed ? 'block' : 'none';\n",
              "\n",
              "        async function convertToInteractive(key) {\n",
              "          const element = document.querySelector('#df-425f1e1e-ebe3-427e-af92-d73baab539b3');\n",
              "          const dataTable =\n",
              "            await google.colab.kernel.invokeFunction('convertToInteractive',\n",
              "                                                     [key], {});\n",
              "          if (!dataTable) return;\n",
              "\n",
              "          const docLinkHtml = 'Like what you see? Visit the ' +\n",
              "            '<a target=\"_blank\" href=https://colab.research.google.com/notebooks/data_table.ipynb>data table notebook</a>'\n",
              "            + ' to learn more about interactive tables.';\n",
              "          element.innerHTML = '';\n",
              "          dataTable['output_type'] = 'display_data';\n",
              "          await google.colab.output.renderOutput(dataTable, element);\n",
              "          const docLink = document.createElement('div');\n",
              "          docLink.innerHTML = docLinkHtml;\n",
              "          element.appendChild(docLink);\n",
              "        }\n",
              "      </script>\n",
              "    </div>\n",
              "  </div>\n",
              "  "
            ]
          },
          "metadata": {},
          "execution_count": 230
        }
      ]
    }
  ]
}