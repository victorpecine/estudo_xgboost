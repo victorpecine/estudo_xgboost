{
  "nbformat": 4,
  "nbformat_minor": 0,
  "metadata": {
    "colab": {
      "provenance": [],
      "toc_visible": true,
      "authorship_tag": "ABX9TyM7cm5khFJMCEn5ojW4oPSj"
    },
    "kernelspec": {
      "name": "python3",
      "display_name": "Python 3"
    },
    "language_info": {
      "name": "python"
    }
  },
  "cells": [
    {
      "cell_type": "markdown",
      "source": [
        "# Bibliotecas"
      ],
      "metadata": {
        "id": "ylTGMsQSJzx5"
      }
    },
    {
      "cell_type": "code",
      "execution_count": 1382,
      "metadata": {
        "id": "JbWtVgbJCFU7"
      },
      "outputs": [],
      "source": [
        "# ! pip install xgboost"
      ]
    },
    {
      "cell_type": "code",
      "source": [
        "import xgboost as xgb\n",
        "import pandas as pd\n",
        "import numpy as np\n",
        "from sklearn.model_selection import (train_test_split,\n",
        "                                     cross_val_score)\n",
        "from sklearn.metrics import (mean_squared_error,\n",
        "                             r2_score,\n",
        "                             mean_absolute_error,\n",
        "                             accuracy_score)\n",
        "from sklearn.decomposition import PCA\n",
        "from sklearn.preprocessing import MinMaxScaler\n",
        "import seaborn as sns\n",
        "from math import sqrt\n",
        "import matplotlib.pyplot as plt"
      ],
      "metadata": {
        "id": "gSvIZJvpCNff"
      },
      "execution_count": 1383,
      "outputs": []
    },
    {
      "cell_type": "markdown",
      "source": [
        "# Dataset"
      ],
      "metadata": {
        "id": "jDkHSkgvJ3Hw"
      }
    },
    {
      "cell_type": "code",
      "source": [
        "df = sns.load_dataset('mpg')\n",
        "\n",
        "df.head()"
      ],
      "metadata": {
        "colab": {
          "base_uri": "https://localhost:8080/",
          "height": 206
        },
        "id": "6JEdAyglCcZp",
        "outputId": "44cbdab3-d1bb-486a-fc33-af8973690d13"
      },
      "execution_count": 1384,
      "outputs": [
        {
          "output_type": "execute_result",
          "data": {
            "text/plain": [
              "    mpg  cylinders  displacement  horsepower  weight  acceleration  \\\n",
              "0  18.0          8         307.0       130.0    3504          12.0   \n",
              "1  15.0          8         350.0       165.0    3693          11.5   \n",
              "2  18.0          8         318.0       150.0    3436          11.0   \n",
              "3  16.0          8         304.0       150.0    3433          12.0   \n",
              "4  17.0          8         302.0       140.0    3449          10.5   \n",
              "\n",
              "   model_year origin                       name  \n",
              "0          70    usa  chevrolet chevelle malibu  \n",
              "1          70    usa          buick skylark 320  \n",
              "2          70    usa         plymouth satellite  \n",
              "3          70    usa              amc rebel sst  \n",
              "4          70    usa                ford torino  "
            ],
            "text/html": [
              "\n",
              "  <div id=\"df-8f64c543-795e-4505-8487-af2a1ef5238a\">\n",
              "    <div class=\"colab-df-container\">\n",
              "      <div>\n",
              "<style scoped>\n",
              "    .dataframe tbody tr th:only-of-type {\n",
              "        vertical-align: middle;\n",
              "    }\n",
              "\n",
              "    .dataframe tbody tr th {\n",
              "        vertical-align: top;\n",
              "    }\n",
              "\n",
              "    .dataframe thead th {\n",
              "        text-align: right;\n",
              "    }\n",
              "</style>\n",
              "<table border=\"1\" class=\"dataframe\">\n",
              "  <thead>\n",
              "    <tr style=\"text-align: right;\">\n",
              "      <th></th>\n",
              "      <th>mpg</th>\n",
              "      <th>cylinders</th>\n",
              "      <th>displacement</th>\n",
              "      <th>horsepower</th>\n",
              "      <th>weight</th>\n",
              "      <th>acceleration</th>\n",
              "      <th>model_year</th>\n",
              "      <th>origin</th>\n",
              "      <th>name</th>\n",
              "    </tr>\n",
              "  </thead>\n",
              "  <tbody>\n",
              "    <tr>\n",
              "      <th>0</th>\n",
              "      <td>18.0</td>\n",
              "      <td>8</td>\n",
              "      <td>307.0</td>\n",
              "      <td>130.0</td>\n",
              "      <td>3504</td>\n",
              "      <td>12.0</td>\n",
              "      <td>70</td>\n",
              "      <td>usa</td>\n",
              "      <td>chevrolet chevelle malibu</td>\n",
              "    </tr>\n",
              "    <tr>\n",
              "      <th>1</th>\n",
              "      <td>15.0</td>\n",
              "      <td>8</td>\n",
              "      <td>350.0</td>\n",
              "      <td>165.0</td>\n",
              "      <td>3693</td>\n",
              "      <td>11.5</td>\n",
              "      <td>70</td>\n",
              "      <td>usa</td>\n",
              "      <td>buick skylark 320</td>\n",
              "    </tr>\n",
              "    <tr>\n",
              "      <th>2</th>\n",
              "      <td>18.0</td>\n",
              "      <td>8</td>\n",
              "      <td>318.0</td>\n",
              "      <td>150.0</td>\n",
              "      <td>3436</td>\n",
              "      <td>11.0</td>\n",
              "      <td>70</td>\n",
              "      <td>usa</td>\n",
              "      <td>plymouth satellite</td>\n",
              "    </tr>\n",
              "    <tr>\n",
              "      <th>3</th>\n",
              "      <td>16.0</td>\n",
              "      <td>8</td>\n",
              "      <td>304.0</td>\n",
              "      <td>150.0</td>\n",
              "      <td>3433</td>\n",
              "      <td>12.0</td>\n",
              "      <td>70</td>\n",
              "      <td>usa</td>\n",
              "      <td>amc rebel sst</td>\n",
              "    </tr>\n",
              "    <tr>\n",
              "      <th>4</th>\n",
              "      <td>17.0</td>\n",
              "      <td>8</td>\n",
              "      <td>302.0</td>\n",
              "      <td>140.0</td>\n",
              "      <td>3449</td>\n",
              "      <td>10.5</td>\n",
              "      <td>70</td>\n",
              "      <td>usa</td>\n",
              "      <td>ford torino</td>\n",
              "    </tr>\n",
              "  </tbody>\n",
              "</table>\n",
              "</div>\n",
              "      <button class=\"colab-df-convert\" onclick=\"convertToInteractive('df-8f64c543-795e-4505-8487-af2a1ef5238a')\"\n",
              "              title=\"Convert this dataframe to an interactive table.\"\n",
              "              style=\"display:none;\">\n",
              "        \n",
              "  <svg xmlns=\"http://www.w3.org/2000/svg\" height=\"24px\"viewBox=\"0 0 24 24\"\n",
              "       width=\"24px\">\n",
              "    <path d=\"M0 0h24v24H0V0z\" fill=\"none\"/>\n",
              "    <path d=\"M18.56 5.44l.94 2.06.94-2.06 2.06-.94-2.06-.94-.94-2.06-.94 2.06-2.06.94zm-11 1L8.5 8.5l.94-2.06 2.06-.94-2.06-.94L8.5 2.5l-.94 2.06-2.06.94zm10 10l.94 2.06.94-2.06 2.06-.94-2.06-.94-.94-2.06-.94 2.06-2.06.94z\"/><path d=\"M17.41 7.96l-1.37-1.37c-.4-.4-.92-.59-1.43-.59-.52 0-1.04.2-1.43.59L10.3 9.45l-7.72 7.72c-.78.78-.78 2.05 0 2.83L4 21.41c.39.39.9.59 1.41.59.51 0 1.02-.2 1.41-.59l7.78-7.78 2.81-2.81c.8-.78.8-2.07 0-2.86zM5.41 20L4 18.59l7.72-7.72 1.47 1.35L5.41 20z\"/>\n",
              "  </svg>\n",
              "      </button>\n",
              "      \n",
              "  <style>\n",
              "    .colab-df-container {\n",
              "      display:flex;\n",
              "      flex-wrap:wrap;\n",
              "      gap: 12px;\n",
              "    }\n",
              "\n",
              "    .colab-df-convert {\n",
              "      background-color: #E8F0FE;\n",
              "      border: none;\n",
              "      border-radius: 50%;\n",
              "      cursor: pointer;\n",
              "      display: none;\n",
              "      fill: #1967D2;\n",
              "      height: 32px;\n",
              "      padding: 0 0 0 0;\n",
              "      width: 32px;\n",
              "    }\n",
              "\n",
              "    .colab-df-convert:hover {\n",
              "      background-color: #E2EBFA;\n",
              "      box-shadow: 0px 1px 2px rgba(60, 64, 67, 0.3), 0px 1px 3px 1px rgba(60, 64, 67, 0.15);\n",
              "      fill: #174EA6;\n",
              "    }\n",
              "\n",
              "    [theme=dark] .colab-df-convert {\n",
              "      background-color: #3B4455;\n",
              "      fill: #D2E3FC;\n",
              "    }\n",
              "\n",
              "    [theme=dark] .colab-df-convert:hover {\n",
              "      background-color: #434B5C;\n",
              "      box-shadow: 0px 1px 3px 1px rgba(0, 0, 0, 0.15);\n",
              "      filter: drop-shadow(0px 1px 2px rgba(0, 0, 0, 0.3));\n",
              "      fill: #FFFFFF;\n",
              "    }\n",
              "  </style>\n",
              "\n",
              "      <script>\n",
              "        const buttonEl =\n",
              "          document.querySelector('#df-8f64c543-795e-4505-8487-af2a1ef5238a button.colab-df-convert');\n",
              "        buttonEl.style.display =\n",
              "          google.colab.kernel.accessAllowed ? 'block' : 'none';\n",
              "\n",
              "        async function convertToInteractive(key) {\n",
              "          const element = document.querySelector('#df-8f64c543-795e-4505-8487-af2a1ef5238a');\n",
              "          const dataTable =\n",
              "            await google.colab.kernel.invokeFunction('convertToInteractive',\n",
              "                                                     [key], {});\n",
              "          if (!dataTable) return;\n",
              "\n",
              "          const docLinkHtml = 'Like what you see? Visit the ' +\n",
              "            '<a target=\"_blank\" href=https://colab.research.google.com/notebooks/data_table.ipynb>data table notebook</a>'\n",
              "            + ' to learn more about interactive tables.';\n",
              "          element.innerHTML = '';\n",
              "          dataTable['output_type'] = 'display_data';\n",
              "          await google.colab.output.renderOutput(dataTable, element);\n",
              "          const docLink = document.createElement('div');\n",
              "          docLink.innerHTML = docLinkHtml;\n",
              "          element.appendChild(docLink);\n",
              "        }\n",
              "      </script>\n",
              "    </div>\n",
              "  </div>\n",
              "  "
            ]
          },
          "metadata": {},
          "execution_count": 1384
        }
      ]
    },
    {
      "cell_type": "markdown",
      "source": [
        "É um problema regressão, pois a variável *target* 'mpg' é contínua"
      ],
      "metadata": {
        "id": "iU57j9l-Kyk1"
      }
    },
    {
      "cell_type": "code",
      "source": [
        "df = df.drop(['origin', 'name'],  axis=1).copy()"
      ],
      "metadata": {
        "id": "GPiza04591xa"
      },
      "execution_count": 1385,
      "outputs": []
    },
    {
      "cell_type": "code",
      "source": [
        "X = df.drop(['mpg'],  axis=1)\n",
        "\n",
        "y = df['mpg']"
      ],
      "metadata": {
        "id": "kpKLypKXDb1I"
      },
      "execution_count": 1386,
      "outputs": []
    },
    {
      "cell_type": "code",
      "source": [
        "X.isnull().sum()"
      ],
      "metadata": {
        "colab": {
          "base_uri": "https://localhost:8080/"
        },
        "id": "4iZn39SwToj1",
        "outputId": "67cc31a0-c4a2-4379-aabc-d95ddb9a5da7"
      },
      "execution_count": 1387,
      "outputs": [
        {
          "output_type": "execute_result",
          "data": {
            "text/plain": [
              "cylinders       0\n",
              "displacement    0\n",
              "horsepower      6\n",
              "weight          0\n",
              "acceleration    0\n",
              "model_year      0\n",
              "dtype: int64"
            ]
          },
          "metadata": {},
          "execution_count": 1387
        }
      ]
    },
    {
      "cell_type": "code",
      "source": [
        "media_horsepower = np.ceil(X['horsepower'].mean())\n",
        "\n",
        "X.loc[X['horsepower'].isnull(), 'horsepower'] = media_horsepower"
      ],
      "metadata": {
        "id": "7CQL6NrjUjKp"
      },
      "execution_count": 1388,
      "outputs": []
    },
    {
      "cell_type": "code",
      "source": [
        "X.isnull().sum()"
      ],
      "metadata": {
        "colab": {
          "base_uri": "https://localhost:8080/"
        },
        "id": "pT3Deg49VZop",
        "outputId": "e47674c3-b581-440c-dd6d-95b8501838b7"
      },
      "execution_count": 1389,
      "outputs": [
        {
          "output_type": "execute_result",
          "data": {
            "text/plain": [
              "cylinders       0\n",
              "displacement    0\n",
              "horsepower      0\n",
              "weight          0\n",
              "acceleration    0\n",
              "model_year      0\n",
              "dtype: int64"
            ]
          },
          "metadata": {},
          "execution_count": 1389
        }
      ]
    },
    {
      "cell_type": "markdown",
      "source": [
        "## Split treino e teste"
      ],
      "metadata": {
        "id": "VkkUyJoxJ-2_"
      }
    },
    {
      "cell_type": "code",
      "source": [
        "X_train, X_test, y_train, y_test = train_test_split(X, y, random_state=0, test_size=0.3)"
      ],
      "metadata": {
        "id": "l2x8uF5MDtE_"
      },
      "execution_count": 1390,
      "outputs": []
    },
    {
      "cell_type": "markdown",
      "source": [
        "# Modelos de regressão"
      ],
      "metadata": {
        "id": "kXQZlkW4KIRI"
      }
    },
    {
      "cell_type": "code",
      "source": [
        "# Cross validation apenas para comparação entre modelos\n",
        "reg_xgboost = xgb.XGBRegressor(objective='reg:squarederror')\n",
        "\n",
        "resultado_cv = cross_val_score(reg_xgboost, X_train, y_train, scoring='neg_root_mean_squared_error')\n",
        "\n",
        "print('Negative RMSE: {:.2f}'.format(abs(resultado_cv.mean())))\n",
        "\n",
        "resultado_cv = cross_val_score(reg_xgboost, X_train, y_train, scoring='r2')\n",
        "\n",
        "print('R^2: {:.2f}'.format(abs(resultado_cv.mean())))\n",
        "\n",
        "resultado_cv = cross_val_score(reg_xgboost, X_train, y_train, scoring='neg_mean_absolute_error')\n",
        "\n",
        "print('Negative MAE: {:.2f}'.format(abs(resultado_cv.mean())))"
      ],
      "metadata": {
        "colab": {
          "base_uri": "https://localhost:8080/"
        },
        "id": "GHupglA-EabY",
        "outputId": "b61f58d7-bacd-433e-bc86-da6fb668cf80"
      },
      "execution_count": 1391,
      "outputs": [
        {
          "output_type": "stream",
          "name": "stdout",
          "text": [
            "Negative RMSE: 2.96\n",
            "R^2: 0.85\n",
            "Negative MAE: 2.16\n"
          ]
        }
      ]
    },
    {
      "cell_type": "markdown",
      "source": [
        "## Tunando o classificador"
      ],
      "metadata": {
        "id": "SItkbl9sMI8n"
      }
    },
    {
      "cell_type": "code",
      "source": [
        "reg_xgboost_depth = xgb.XGBRegressor(max_depth=2, objective='reg:squarederror') # Altera a altura máxima das árvores\n",
        "\n",
        "resultado_cv = cross_val_score(reg_xgboost_depth, X_train, y_train, scoring='neg_root_mean_squared_error')\n",
        "\n",
        "print('Negative RMSE: {:.2f}'.format(abs(resultado_cv.mean())))\n",
        "\n",
        "resultado_cv = cross_val_score(reg_xgboost_depth, X_train, y_train, scoring='r2')\n",
        "\n",
        "print('R^2: {:.2f}'.format(abs(resultado_cv.mean())))\n",
        "\n",
        "resultado_cv = cross_val_score(reg_xgboost_depth, X_train, y_train, scoring='neg_mean_absolute_error')\n",
        "\n",
        "print('Negative MAE: {:.2f}'.format(abs(resultado_cv.mean())))"
      ],
      "metadata": {
        "colab": {
          "base_uri": "https://localhost:8080/"
        },
        "id": "yxV9t_dMJWuV",
        "outputId": "4d82d68a-9ffa-4039-afcf-20578ce29a4d"
      },
      "execution_count": 1392,
      "outputs": [
        {
          "output_type": "stream",
          "name": "stdout",
          "text": [
            "Negative RMSE: 2.98\n",
            "R^2: 0.85\n",
            "Negative MAE: 2.22\n"
          ]
        }
      ]
    },
    {
      "cell_type": "code",
      "source": [
        "reg_xgboost_dart = xgb.XGBRegressor(booster='dart', objective='reg:squarederror')\n",
        "\n",
        "resultado_cv = cross_val_score(reg_xgboost_dart, X_train, y_train, scoring='neg_root_mean_squared_error')\n",
        "\n",
        "print('Negative RMSE: {:.2f}'.format(abs(resultado_cv.mean())))\n",
        "\n",
        "resultado_cv = cross_val_score(reg_xgboost_dart, X_train, y_train, scoring='r2')\n",
        "\n",
        "print('R^2: {:.2f}'.format(abs(resultado_cv.mean())))\n",
        "\n",
        "resultado_cv = cross_val_score(reg_xgboost_dart, X_train, y_train, scoring='neg_mean_absolute_error')\n",
        "\n",
        "print('Negative MAE: {:.2f}'.format(abs(resultado_cv.mean())))"
      ],
      "metadata": {
        "colab": {
          "base_uri": "https://localhost:8080/"
        },
        "id": "iBPRTD2VNtMC",
        "outputId": "25133977-f74c-47c8-e66c-aa6b3863ea2c"
      },
      "execution_count": 1393,
      "outputs": [
        {
          "output_type": "stream",
          "name": "stdout",
          "text": [
            "Negative RMSE: 2.95\n",
            "R^2: 0.85\n",
            "Negative MAE: 2.16\n"
          ]
        }
      ]
    },
    {
      "cell_type": "code",
      "source": [
        "reg_xgboost_gblinear = xgb.XGBRegressor(booster='gblinear', objective='reg:squarederror')\n",
        "\n",
        "resultado_cv = cross_val_score(reg_xgboost_gblinear, X_train, y_train, scoring='neg_root_mean_squared_error')\n",
        "\n",
        "print('Negative RMSE: {:.2f}'.format(abs(resultado_cv.mean())))\n",
        "\n",
        "resultado_cv = cross_val_score(reg_xgboost_gblinear, X_train, y_train, scoring='r2')\n",
        "\n",
        "print('R^2: {:.2f}'.format(abs(resultado_cv.mean())))\n",
        "\n",
        "resultado_cv = cross_val_score(reg_xgboost_gblinear, X_train, y_train, scoring='neg_mean_absolute_error')\n",
        "\n",
        "print('Negative MAE: {:.2f}'.format(abs(resultado_cv.mean())))"
      ],
      "metadata": {
        "colab": {
          "base_uri": "https://localhost:8080/"
        },
        "id": "XXpb6jXtN6Vq",
        "outputId": "044ff6d2-c800-4694-a772-5da4cd6f7367"
      },
      "execution_count": 1394,
      "outputs": [
        {
          "output_type": "stream",
          "name": "stdout",
          "text": [
            "Negative RMSE: 4.71\n",
            "R^2: 0.62\n",
            "Negative MAE: 3.66\n"
          ]
        }
      ]
    },
    {
      "cell_type": "code",
      "source": [
        "reg_xgboost_gbtree = xgb.XGBRegressor(booster='gbtree', objective='reg:squarederror')\n",
        "\n",
        "resultado_cv = cross_val_score(reg_xgboost_gbtree, X_train, y_train, scoring='neg_root_mean_squared_error')\n",
        "\n",
        "print('Negative RMSE: {:.2f}'.format(abs(resultado_cv.mean())))\n",
        "\n",
        "resultado_cv = cross_val_score(reg_xgboost_gbtree, X_train, y_train, scoring='r2')\n",
        "\n",
        "print('R^2: {:.2f}'.format(abs(resultado_cv.mean())))\n",
        "\n",
        "resultado_cv = cross_val_score(reg_xgboost_gbtree, X_train, y_train, scoring='neg_mean_absolute_error')\n",
        "\n",
        "print('Negative MAE: {:.2f}'.format(abs(resultado_cv.mean())))"
      ],
      "metadata": {
        "colab": {
          "base_uri": "https://localhost:8080/"
        },
        "id": "EdYBSzGfOQHI",
        "outputId": "2586744f-7e3e-4af5-f74c-6d43fdf662b2"
      },
      "execution_count": 1395,
      "outputs": [
        {
          "output_type": "stream",
          "name": "stdout",
          "text": [
            "Negative RMSE: 2.96\n",
            "R^2: 0.85\n",
            "Negative MAE: 2.16\n"
          ]
        }
      ]
    },
    {
      "cell_type": "markdown",
      "source": [
        "# Aplicação do melhor modelo"
      ],
      "metadata": {
        "id": "DIAAUdTgPhH7"
      }
    },
    {
      "cell_type": "code",
      "source": [
        "melhor_modelo = reg_xgboost_depth\n",
        "\n",
        "melhor_modelo.fit(X_train, y_train)"
      ],
      "metadata": {
        "colab": {
          "base_uri": "https://localhost:8080/"
        },
        "id": "3i5bf4W8PiyM",
        "outputId": "6225c7d0-f5bb-46db-b45c-f32d7c626f90"
      },
      "execution_count": 1396,
      "outputs": [
        {
          "output_type": "execute_result",
          "data": {
            "text/plain": [
              "XGBRegressor(max_depth=2, objective='reg:squarederror')"
            ]
          },
          "metadata": {},
          "execution_count": 1396
        }
      ]
    },
    {
      "cell_type": "code",
      "source": [
        "y_pred = melhor_modelo.predict(X_test)"
      ],
      "metadata": {
        "id": "hBt9lg4kPwCr"
      },
      "execution_count": 1397,
      "outputs": []
    },
    {
      "cell_type": "markdown",
      "source": [
        "## Acurácia"
      ],
      "metadata": {
        "id": "TnEMf5eBP2PZ"
      }
    },
    {
      "cell_type": "code",
      "source": [
        "rmse = sqrt(mean_squared_error(y_test, y_pred))\n",
        "\n",
        "r_squared = r2_score(y_test, y_pred)\n",
        "\n",
        "mae = mean_absolute_error(y_test, y_pred)\n",
        "\n",
        "print('RMSE = {} \\\n",
        "       R^2 = {} \\\n",
        "       MAE = {}'.format(rmse,\n",
        "                        r_squared,\n",
        "                        mae))"
      ],
      "metadata": {
        "colab": {
          "base_uri": "https://localhost:8080/"
        },
        "id": "SGIYclY2QUuO",
        "outputId": "ef262f21-4a84-4f7f-d550-f0a9e5e171fb"
      },
      "execution_count": 1398,
      "outputs": [
        {
          "output_type": "stream",
          "name": "stdout",
          "text": [
            "RMSE = 2.7669990872511026        R^2 = 0.8801868797494703        MAE = 1.9576423056920371\n"
          ]
        }
      ]
    },
    {
      "cell_type": "code",
      "source": [
        "y_pred_all = melhor_modelo.predict(X)\n",
        "\n",
        "# Uso do neg para buscar o erro \"quanto menor, melhor\"\n",
        "# Caso contrário, o scikit-learn vai maximizar o erro, trazendo o maior valor, neste caso \"quanto maior, pior\", o que é indesejado\n",
        "\n",
        "abs(resultado_cv.mean())\n",
        "df['mpg_pred'] = y_pred_all\n",
        "\n",
        "df['mpg_pred'] = df['mpg_pred'].round(2)"
      ],
      "metadata": {
        "id": "A6aOkcrIdfVn"
      },
      "execution_count": 1399,
      "outputs": []
    },
    {
      "cell_type": "code",
      "source": [
        "rmse = sqrt(mean_squared_error(y, y_pred_all))\n",
        "\n",
        "r_squared = r2_score(y, y_pred_all)\n",
        "\n",
        "mae = mean_absolute_error(y, y_pred_all)\n",
        "\n",
        "print('RMSE = {} \\\n",
        "       R^2 = {} \\\n",
        "       MAE = {}'.format(rmse,\n",
        "                        r_squared,\n",
        "                        mae))"
      ],
      "metadata": {
        "colab": {
          "base_uri": "https://localhost:8080/"
        },
        "id": "EVQS7YYSeT3d",
        "outputId": "f23b8b66-95ed-4981-89c8-75cacd6ee3a2"
      },
      "execution_count": 1400,
      "outputs": [
        {
          "output_type": "stream",
          "name": "stdout",
          "text": [
            "RMSE = 2.2488827388951997        R^2 = 0.9170036813595113        MAE = 1.64128475620519\n"
          ]
        }
      ]
    },
    {
      "cell_type": "markdown",
      "source": [
        "# Conversões de unidades"
      ],
      "metadata": {
        "id": "rC1AFFzPc3ei"
      }
    },
    {
      "cell_type": "code",
      "source": [
        "mpg_para_kml = 0.425144\n",
        "\n",
        "df['km_l'] = round(df['mpg'] * mpg_para_kml, 2)\n",
        "\n",
        "df['km_l_pred'] = round(df['mpg_pred'] * mpg_para_kml, 2)\n",
        "\n",
        "\n",
        "libras_para_kg = 0.453592\n",
        "\n",
        "df['kg'] = round(df['weight'] * libras_para_kg, 2)"
      ],
      "metadata": {
        "id": "lzkpuBOhc9y7"
      },
      "execution_count": 1433,
      "outputs": []
    },
    {
      "cell_type": "code",
      "source": [
        "reorder_columns = ['mpg',\n",
        "                   'km_l',\n",
        "                   'mpg_pred',\n",
        "                   'km_l_pred',\n",
        "                   'cylinders',\n",
        "                   'displacement',\n",
        "                   'horsepower',\n",
        "                   'weight',\n",
        "                   'kg',\n",
        "                   'acceleration',\n",
        "                   'model_year']\n",
        "\n",
        "df = df.reindex(columns=reorder_columns, copy=True)\n",
        "\n",
        "df"
      ],
      "metadata": {
        "colab": {
          "base_uri": "https://localhost:8080/",
          "height": 468
        },
        "id": "B6D57X5sdI9c",
        "outputId": "511f4bbb-0c4a-44dd-a0cd-a91f7b96fc55"
      },
      "execution_count": 1435,
      "outputs": [
        {
          "output_type": "execute_result",
          "data": {
            "text/plain": [
              "      mpg   km_l   mpg_pred  km_l_pred  cylinders  displacement  horsepower  \\\n",
              "0    18.0   7.65  16.430000       6.99          8         307.0       130.0   \n",
              "1    15.0   6.38  15.570000       6.62          8         350.0       165.0   \n",
              "2    18.0   7.65  15.980000       6.79          8         318.0       150.0   \n",
              "3    16.0   6.80  15.480000       6.58          8         304.0       150.0   \n",
              "4    17.0   7.23  16.340000       6.95          8         302.0       140.0   \n",
              "..    ...    ...        ...        ...        ...           ...         ...   \n",
              "393  27.0  11.48  27.080000      11.51          4         140.0        86.0   \n",
              "394  44.0  18.71  41.950001      17.83          4          97.0        52.0   \n",
              "395  32.0  13.60  32.360001      13.76          4         135.0        84.0   \n",
              "396  28.0  11.90  29.090000      12.37          4         120.0        79.0   \n",
              "397  31.0  13.18  27.930000      11.87          4         119.0        82.0   \n",
              "\n",
              "     weight       kg  acceleration  model_year  \n",
              "0      3504  1589.39          12.0          70  \n",
              "1      3693  1675.12          11.5          70  \n",
              "2      3436  1558.54          11.0          70  \n",
              "3      3433  1557.18          12.0          70  \n",
              "4      3449  1564.44          10.5          70  \n",
              "..      ...      ...           ...         ...  \n",
              "393    2790  1265.52          15.6          82  \n",
              "394    2130   966.15          24.6          82  \n",
              "395    2295  1040.99          11.6          82  \n",
              "396    2625  1190.68          18.6          82  \n",
              "397    2720  1233.77          19.4          82  \n",
              "\n",
              "[398 rows x 11 columns]"
            ],
            "text/html": [
              "\n",
              "  <div id=\"df-b4265208-9449-4cbe-a172-eae5f2c51be5\">\n",
              "    <div class=\"colab-df-container\">\n",
              "      <div>\n",
              "<style scoped>\n",
              "    .dataframe tbody tr th:only-of-type {\n",
              "        vertical-align: middle;\n",
              "    }\n",
              "\n",
              "    .dataframe tbody tr th {\n",
              "        vertical-align: top;\n",
              "    }\n",
              "\n",
              "    .dataframe thead th {\n",
              "        text-align: right;\n",
              "    }\n",
              "</style>\n",
              "<table border=\"1\" class=\"dataframe\">\n",
              "  <thead>\n",
              "    <tr style=\"text-align: right;\">\n",
              "      <th></th>\n",
              "      <th>mpg</th>\n",
              "      <th>km_l</th>\n",
              "      <th>mpg_pred</th>\n",
              "      <th>km_l_pred</th>\n",
              "      <th>cylinders</th>\n",
              "      <th>displacement</th>\n",
              "      <th>horsepower</th>\n",
              "      <th>weight</th>\n",
              "      <th>kg</th>\n",
              "      <th>acceleration</th>\n",
              "      <th>model_year</th>\n",
              "    </tr>\n",
              "  </thead>\n",
              "  <tbody>\n",
              "    <tr>\n",
              "      <th>0</th>\n",
              "      <td>18.0</td>\n",
              "      <td>7.65</td>\n",
              "      <td>16.430000</td>\n",
              "      <td>6.99</td>\n",
              "      <td>8</td>\n",
              "      <td>307.0</td>\n",
              "      <td>130.0</td>\n",
              "      <td>3504</td>\n",
              "      <td>1589.39</td>\n",
              "      <td>12.0</td>\n",
              "      <td>70</td>\n",
              "    </tr>\n",
              "    <tr>\n",
              "      <th>1</th>\n",
              "      <td>15.0</td>\n",
              "      <td>6.38</td>\n",
              "      <td>15.570000</td>\n",
              "      <td>6.62</td>\n",
              "      <td>8</td>\n",
              "      <td>350.0</td>\n",
              "      <td>165.0</td>\n",
              "      <td>3693</td>\n",
              "      <td>1675.12</td>\n",
              "      <td>11.5</td>\n",
              "      <td>70</td>\n",
              "    </tr>\n",
              "    <tr>\n",
              "      <th>2</th>\n",
              "      <td>18.0</td>\n",
              "      <td>7.65</td>\n",
              "      <td>15.980000</td>\n",
              "      <td>6.79</td>\n",
              "      <td>8</td>\n",
              "      <td>318.0</td>\n",
              "      <td>150.0</td>\n",
              "      <td>3436</td>\n",
              "      <td>1558.54</td>\n",
              "      <td>11.0</td>\n",
              "      <td>70</td>\n",
              "    </tr>\n",
              "    <tr>\n",
              "      <th>3</th>\n",
              "      <td>16.0</td>\n",
              "      <td>6.80</td>\n",
              "      <td>15.480000</td>\n",
              "      <td>6.58</td>\n",
              "      <td>8</td>\n",
              "      <td>304.0</td>\n",
              "      <td>150.0</td>\n",
              "      <td>3433</td>\n",
              "      <td>1557.18</td>\n",
              "      <td>12.0</td>\n",
              "      <td>70</td>\n",
              "    </tr>\n",
              "    <tr>\n",
              "      <th>4</th>\n",
              "      <td>17.0</td>\n",
              "      <td>7.23</td>\n",
              "      <td>16.340000</td>\n",
              "      <td>6.95</td>\n",
              "      <td>8</td>\n",
              "      <td>302.0</td>\n",
              "      <td>140.0</td>\n",
              "      <td>3449</td>\n",
              "      <td>1564.44</td>\n",
              "      <td>10.5</td>\n",
              "      <td>70</td>\n",
              "    </tr>\n",
              "    <tr>\n",
              "      <th>...</th>\n",
              "      <td>...</td>\n",
              "      <td>...</td>\n",
              "      <td>...</td>\n",
              "      <td>...</td>\n",
              "      <td>...</td>\n",
              "      <td>...</td>\n",
              "      <td>...</td>\n",
              "      <td>...</td>\n",
              "      <td>...</td>\n",
              "      <td>...</td>\n",
              "      <td>...</td>\n",
              "    </tr>\n",
              "    <tr>\n",
              "      <th>393</th>\n",
              "      <td>27.0</td>\n",
              "      <td>11.48</td>\n",
              "      <td>27.080000</td>\n",
              "      <td>11.51</td>\n",
              "      <td>4</td>\n",
              "      <td>140.0</td>\n",
              "      <td>86.0</td>\n",
              "      <td>2790</td>\n",
              "      <td>1265.52</td>\n",
              "      <td>15.6</td>\n",
              "      <td>82</td>\n",
              "    </tr>\n",
              "    <tr>\n",
              "      <th>394</th>\n",
              "      <td>44.0</td>\n",
              "      <td>18.71</td>\n",
              "      <td>41.950001</td>\n",
              "      <td>17.83</td>\n",
              "      <td>4</td>\n",
              "      <td>97.0</td>\n",
              "      <td>52.0</td>\n",
              "      <td>2130</td>\n",
              "      <td>966.15</td>\n",
              "      <td>24.6</td>\n",
              "      <td>82</td>\n",
              "    </tr>\n",
              "    <tr>\n",
              "      <th>395</th>\n",
              "      <td>32.0</td>\n",
              "      <td>13.60</td>\n",
              "      <td>32.360001</td>\n",
              "      <td>13.76</td>\n",
              "      <td>4</td>\n",
              "      <td>135.0</td>\n",
              "      <td>84.0</td>\n",
              "      <td>2295</td>\n",
              "      <td>1040.99</td>\n",
              "      <td>11.6</td>\n",
              "      <td>82</td>\n",
              "    </tr>\n",
              "    <tr>\n",
              "      <th>396</th>\n",
              "      <td>28.0</td>\n",
              "      <td>11.90</td>\n",
              "      <td>29.090000</td>\n",
              "      <td>12.37</td>\n",
              "      <td>4</td>\n",
              "      <td>120.0</td>\n",
              "      <td>79.0</td>\n",
              "      <td>2625</td>\n",
              "      <td>1190.68</td>\n",
              "      <td>18.6</td>\n",
              "      <td>82</td>\n",
              "    </tr>\n",
              "    <tr>\n",
              "      <th>397</th>\n",
              "      <td>31.0</td>\n",
              "      <td>13.18</td>\n",
              "      <td>27.930000</td>\n",
              "      <td>11.87</td>\n",
              "      <td>4</td>\n",
              "      <td>119.0</td>\n",
              "      <td>82.0</td>\n",
              "      <td>2720</td>\n",
              "      <td>1233.77</td>\n",
              "      <td>19.4</td>\n",
              "      <td>82</td>\n",
              "    </tr>\n",
              "  </tbody>\n",
              "</table>\n",
              "<p>398 rows × 11 columns</p>\n",
              "</div>\n",
              "      <button class=\"colab-df-convert\" onclick=\"convertToInteractive('df-b4265208-9449-4cbe-a172-eae5f2c51be5')\"\n",
              "              title=\"Convert this dataframe to an interactive table.\"\n",
              "              style=\"display:none;\">\n",
              "        \n",
              "  <svg xmlns=\"http://www.w3.org/2000/svg\" height=\"24px\"viewBox=\"0 0 24 24\"\n",
              "       width=\"24px\">\n",
              "    <path d=\"M0 0h24v24H0V0z\" fill=\"none\"/>\n",
              "    <path d=\"M18.56 5.44l.94 2.06.94-2.06 2.06-.94-2.06-.94-.94-2.06-.94 2.06-2.06.94zm-11 1L8.5 8.5l.94-2.06 2.06-.94-2.06-.94L8.5 2.5l-.94 2.06-2.06.94zm10 10l.94 2.06.94-2.06 2.06-.94-2.06-.94-.94-2.06-.94 2.06-2.06.94z\"/><path d=\"M17.41 7.96l-1.37-1.37c-.4-.4-.92-.59-1.43-.59-.52 0-1.04.2-1.43.59L10.3 9.45l-7.72 7.72c-.78.78-.78 2.05 0 2.83L4 21.41c.39.39.9.59 1.41.59.51 0 1.02-.2 1.41-.59l7.78-7.78 2.81-2.81c.8-.78.8-2.07 0-2.86zM5.41 20L4 18.59l7.72-7.72 1.47 1.35L5.41 20z\"/>\n",
              "  </svg>\n",
              "      </button>\n",
              "      \n",
              "  <style>\n",
              "    .colab-df-container {\n",
              "      display:flex;\n",
              "      flex-wrap:wrap;\n",
              "      gap: 12px;\n",
              "    }\n",
              "\n",
              "    .colab-df-convert {\n",
              "      background-color: #E8F0FE;\n",
              "      border: none;\n",
              "      border-radius: 50%;\n",
              "      cursor: pointer;\n",
              "      display: none;\n",
              "      fill: #1967D2;\n",
              "      height: 32px;\n",
              "      padding: 0 0 0 0;\n",
              "      width: 32px;\n",
              "    }\n",
              "\n",
              "    .colab-df-convert:hover {\n",
              "      background-color: #E2EBFA;\n",
              "      box-shadow: 0px 1px 2px rgba(60, 64, 67, 0.3), 0px 1px 3px 1px rgba(60, 64, 67, 0.15);\n",
              "      fill: #174EA6;\n",
              "    }\n",
              "\n",
              "    [theme=dark] .colab-df-convert {\n",
              "      background-color: #3B4455;\n",
              "      fill: #D2E3FC;\n",
              "    }\n",
              "\n",
              "    [theme=dark] .colab-df-convert:hover {\n",
              "      background-color: #434B5C;\n",
              "      box-shadow: 0px 1px 3px 1px rgba(0, 0, 0, 0.15);\n",
              "      filter: drop-shadow(0px 1px 2px rgba(0, 0, 0, 0.3));\n",
              "      fill: #FFFFFF;\n",
              "    }\n",
              "  </style>\n",
              "\n",
              "      <script>\n",
              "        const buttonEl =\n",
              "          document.querySelector('#df-b4265208-9449-4cbe-a172-eae5f2c51be5 button.colab-df-convert');\n",
              "        buttonEl.style.display =\n",
              "          google.colab.kernel.accessAllowed ? 'block' : 'none';\n",
              "\n",
              "        async function convertToInteractive(key) {\n",
              "          const element = document.querySelector('#df-b4265208-9449-4cbe-a172-eae5f2c51be5');\n",
              "          const dataTable =\n",
              "            await google.colab.kernel.invokeFunction('convertToInteractive',\n",
              "                                                     [key], {});\n",
              "          if (!dataTable) return;\n",
              "\n",
              "          const docLinkHtml = 'Like what you see? Visit the ' +\n",
              "            '<a target=\"_blank\" href=https://colab.research.google.com/notebooks/data_table.ipynb>data table notebook</a>'\n",
              "            + ' to learn more about interactive tables.';\n",
              "          element.innerHTML = '';\n",
              "          dataTable['output_type'] = 'display_data';\n",
              "          await google.colab.output.renderOutput(dataTable, element);\n",
              "          const docLink = document.createElement('div');\n",
              "          docLink.innerHTML = docLinkHtml;\n",
              "          element.appendChild(docLink);\n",
              "        }\n",
              "      </script>\n",
              "    </div>\n",
              "  </div>\n",
              "  "
            ]
          },
          "metadata": {},
          "execution_count": 1435
        }
      ]
    },
    {
      "cell_type": "markdown",
      "source": [
        "# Análise gráfica"
      ],
      "metadata": {
        "id": "CHIl9S2Ph3B4"
      }
    },
    {
      "cell_type": "code",
      "source": [
        "plt.figure(figsize=(20, 7))\n",
        "\n",
        "plt.scatter(y=df['mpg'], x=df.index, color='#FF0000', label='mpg')\n",
        "plt.scatter(y=df['mpg_pred'], x=df.index, color='#B62A8F', label='mpg_pred')\n",
        "\n",
        "plt.legend()"
      ],
      "metadata": {
        "colab": {
          "base_uri": "https://localhost:8080/",
          "height": 355
        },
        "id": "paBPp5MDh488",
        "outputId": "ee4443cc-7716-4ca4-d6be-985414de9859"
      },
      "execution_count": 1403,
      "outputs": [
        {
          "output_type": "execute_result",
          "data": {
            "text/plain": [
              "<matplotlib.legend.Legend at 0x7fb13a2e3880>"
            ]
          },
          "metadata": {},
          "execution_count": 1403
        },
        {
          "output_type": "display_data",
          "data": {
            "text/plain": [
              "<Figure size 1440x504 with 1 Axes>"
            ],
            "image/png": "[encoded data removed]"
          },
          "metadata": {
            "needs_background": "light"
          }
        }
      ]
    },
    {
      "cell_type": "markdown",
      "source": [
        "# Normalização dos dados"
      ],
      "metadata": {
        "id": "wirOhq6M8I85"
      }
    },
    {
      "cell_type": "code",
      "source": [
        "scaler = MinMaxScaler()\n",
        "\n",
        "X_scaled = scaler.fit_transform(X)"
      ],
      "metadata": {
        "id": "gjp2FCT4R75z"
      },
      "execution_count": 1404,
      "outputs": []
    },
    {
      "cell_type": "markdown",
      "source": [
        "# Principal Component Analysis (PCA)"
      ],
      "metadata": {
        "id": "ZejY5r8nR6tk"
      }
    },
    {
      "cell_type": "code",
      "source": [
        "pca = PCA(n_components=6)\n",
        "\n",
        "X_scaled_pca = pca.fit_transform(X_scaled)\n",
        "\n",
        "pca.components_ # Em cada linha é dado os coeficientes de uma componente principal (n_components)\n",
        "# Coeficientes da combinação das variáveis originais que dão origem às componentes principais"
      ],
      "metadata": {
        "colab": {
          "base_uri": "https://localhost:8080/"
        },
        "id": "1cuRg3rLSA35",
        "outputId": "3250848d-b5c8-4787-c9fa-1914134d224a"
      },
      "execution_count": 1405,
      "outputs": [
        {
          "output_type": "execute_result",
          "data": {
            "text/plain": [
              "array([[ 0.60110803,  0.48239617,  0.35185088,  0.40957412, -0.17726723,\n",
              "        -0.28807879],\n",
              "       [-0.20601297, -0.14236448, -0.03835856, -0.1737575 , -0.0173295 ,\n",
              "        -0.95148707],\n",
              "       [ 0.21092234,  0.04934411, -0.34343919,  0.23757095,  0.87691057,\n",
              "        -0.09856141],\n",
              "       [ 0.65357171, -0.06281401, -0.45548016, -0.57450958, -0.17704103,\n",
              "        -0.00560893],\n",
              "       [ 0.21166047, -0.27591536,  0.74084626, -0.43270892,  0.37623776,\n",
              "         0.03775601],\n",
              "       [-0.28245959,  0.81517885,  0.02153467, -0.47782753,  0.16249769,\n",
              "         0.02261922]])"
            ]
          },
          "metadata": {},
          "execution_count": 1405
        }
      ]
    },
    {
      "cell_type": "code",
      "source": [
        "pca.explained_variance_ratio_.round(3)"
      ],
      "metadata": {
        "colab": {
          "base_uri": "https://localhost:8080/"
        },
        "id": "FnP8c13HWB5U",
        "outputId": "f66f413b-085a-4aa4-fe4e-0be133a041b2"
      },
      "execution_count": 1406,
      "outputs": [
        {
          "output_type": "execute_result",
          "data": {
            "text/plain": [
              "array([0.72 , 0.189, 0.053, 0.024, 0.008, 0.007])"
            ]
          },
          "metadata": {},
          "execution_count": 1406
        }
      ]
    },
    {
      "cell_type": "markdown",
      "source": [
        "* A primeira componente principal explica 72% da variabilidade dos dados\n",
        "* A segunda componente principal explica 18,9% da variabilidade dos dados"
      ],
      "metadata": {
        "id": "t8VQx4nOWQ3_"
      }
    },
    {
      "cell_type": "code",
      "source": [
        "fig = plt.figure(figsize=(12, 6))\n",
        "\n",
        "plt.plot(pca.explained_variance_ratio_, 'ro-')\n",
        "plt.title('Screee plot')\n",
        "plt.xlabel('Componentes principais')\n",
        "plt.ylabel('Eigenvalue')\n",
        "\n",
        "plt.show()"
      ],
      "metadata": {
        "colab": {
          "base_uri": "https://localhost:8080/",
          "height": 404
        },
        "id": "peyxCWSeZzlJ",
        "outputId": "6f347da6-818e-405a-b9b0-5171e77360f1"
      },
      "execution_count": 1407,
      "outputs": [
        {
          "output_type": "display_data",
          "data": {
            "text/plain": [
              "<Figure size 864x432 with 1 Axes>"
            ],
            "image/png": "[encoded data removed]"
          },
          "metadata": {
            "needs_background": "light"
          }
        }
      ]
    },
    {
      "cell_type": "code",
      "source": [
        "pca = PCA(n_components=2)\n",
        "\n",
        "X_scaled_pca_two_comp = pca.fit_transform(X_scaled)\n",
        "\n",
        "pca_componentes = pca.components_.round(3)\n",
        "\n",
        "pca_componentes"
      ],
      "metadata": {
        "colab": {
          "base_uri": "https://localhost:8080/"
        },
        "id": "NU5qG8CZdAq_",
        "outputId": "7809be03-9347-4413-e5c0-f3fe7bce19de"
      },
      "execution_count": 1408,
      "outputs": [
        {
          "output_type": "execute_result",
          "data": {
            "text/plain": [
              "array([[ 0.601,  0.482,  0.352,  0.41 , -0.177, -0.288],\n",
              "       [-0.206, -0.142, -0.038, -0.174, -0.017, -0.951]])"
            ]
          },
          "metadata": {},
          "execution_count": 1408
        }
      ]
    },
    {
      "cell_type": "code",
      "source": [
        "pca_1 = pca.transform(X)[:, 0]\n",
        "\n",
        "pca_2 = pca.transform(X)[:, 1]"
      ],
      "metadata": {
        "id": "j81L8zRldMwn",
        "colab": {
          "base_uri": "https://localhost:8080/"
        },
        "outputId": "b8b98f8d-1533-4cc3-f36c-23c87a658568"
      },
      "execution_count": 1409,
      "outputs": [
        {
          "output_type": "stream",
          "name": "stderr",
          "text": [
            "/usr/local/lib/python3.8/dist-packages/sklearn/base.py:443: UserWarning: X has feature names, but PCA was fitted without feature names\n",
            "  warnings.warn(\n",
            "/usr/local/lib/python3.8/dist-packages/sklearn/base.py:443: UserWarning: X has feature names, but PCA was fitted without feature names\n",
            "  warnings.warn(\n"
          ]
        }
      ]
    },
    {
      "cell_type": "code",
      "source": [
        "df_scaled = pd.DataFrame(data=X_scaled_pca_two_comp)\n",
        "\n",
        "df_scaled"
      ],
      "metadata": {
        "id": "bzEMi2F0mH80",
        "colab": {
          "base_uri": "https://localhost:8080/",
          "height": 424
        },
        "outputId": "e2c16c2a-f8eb-4621-e794-365b59c4cd65"
      },
      "execution_count": 1410,
      "outputs": [
        {
          "output_type": "execute_result",
          "data": {
            "text/plain": [
              "            0         1\n",
              "0    0.740258  0.301964\n",
              "1    0.888009  0.270054\n",
              "2    0.794869  0.298129\n",
              "3    0.766518  0.302396\n",
              "4    0.762588  0.305975\n",
              "..        ...       ...\n",
              "393 -0.441910 -0.382645\n",
              "394 -0.732133 -0.336507\n",
              "395 -0.467243 -0.351876\n",
              "396 -0.531042 -0.368794\n",
              "397 -0.523961 -0.374557\n",
              "\n",
              "[398 rows x 2 columns]"
            ],
            "text/html": [
              "\n",
              "  <div id=\"df-5def8ec7-b322-4fab-9435-85652b254e5d\">\n",
              "    <div class=\"colab-df-container\">\n",
              "      <div>\n",
              "<style scoped>\n",
              "    .dataframe tbody tr th:only-of-type {\n",
              "        vertical-align: middle;\n",
              "    }\n",
              "\n",
              "    .dataframe tbody tr th {\n",
              "        vertical-align: top;\n",
              "    }\n",
              "\n",
              "    .dataframe thead th {\n",
              "        text-align: right;\n",
              "    }\n",
              "</style>\n",
              "<table border=\"1\" class=\"dataframe\">\n",
              "  <thead>\n",
              "    <tr style=\"text-align: right;\">\n",
              "      <th></th>\n",
              "      <th>0</th>\n",
              "      <th>1</th>\n",
              "    </tr>\n",
              "  </thead>\n",
              "  <tbody>\n",
              "    <tr>\n",
              "      <th>0</th>\n",
              "      <td>0.740258</td>\n",
              "      <td>0.301964</td>\n",
              "    </tr>\n",
              "    <tr>\n",
              "      <th>1</th>\n",
              "      <td>0.888009</td>\n",
              "      <td>0.270054</td>\n",
              "    </tr>\n",
              "    <tr>\n",
              "      <th>2</th>\n",
              "      <td>0.794869</td>\n",
              "      <td>0.298129</td>\n",
              "    </tr>\n",
              "    <tr>\n",
              "      <th>3</th>\n",
              "      <td>0.766518</td>\n",
              "      <td>0.302396</td>\n",
              "    </tr>\n",
              "    <tr>\n",
              "      <th>4</th>\n",
              "      <td>0.762588</td>\n",
              "      <td>0.305975</td>\n",
              "    </tr>\n",
              "    <tr>\n",
              "      <th>...</th>\n",
              "      <td>...</td>\n",
              "      <td>...</td>\n",
              "    </tr>\n",
              "    <tr>\n",
              "      <th>393</th>\n",
              "      <td>-0.441910</td>\n",
              "      <td>-0.382645</td>\n",
              "    </tr>\n",
              "    <tr>\n",
              "      <th>394</th>\n",
              "      <td>-0.732133</td>\n",
              "      <td>-0.336507</td>\n",
              "    </tr>\n",
              "    <tr>\n",
              "      <th>395</th>\n",
              "      <td>-0.467243</td>\n",
              "      <td>-0.351876</td>\n",
              "    </tr>\n",
              "    <tr>\n",
              "      <th>396</th>\n",
              "      <td>-0.531042</td>\n",
              "      <td>-0.368794</td>\n",
              "    </tr>\n",
              "    <tr>\n",
              "      <th>397</th>\n",
              "      <td>-0.523961</td>\n",
              "      <td>-0.374557</td>\n",
              "    </tr>\n",
              "  </tbody>\n",
              "</table>\n",
              "<p>398 rows × 2 columns</p>\n",
              "</div>\n",
              "      <button class=\"colab-df-convert\" onclick=\"convertToInteractive('df-5def8ec7-b322-4fab-9435-85652b254e5d')\"\n",
              "              title=\"Convert this dataframe to an interactive table.\"\n",
              "              style=\"display:none;\">\n",
              "        \n",
              "  <svg xmlns=\"http://www.w3.org/2000/svg\" height=\"24px\"viewBox=\"0 0 24 24\"\n",
              "       width=\"24px\">\n",
              "    <path d=\"M0 0h24v24H0V0z\" fill=\"none\"/>\n",
              "    <path d=\"M18.56 5.44l.94 2.06.94-2.06 2.06-.94-2.06-.94-.94-2.06-.94 2.06-2.06.94zm-11 1L8.5 8.5l.94-2.06 2.06-.94-2.06-.94L8.5 2.5l-.94 2.06-2.06.94zm10 10l.94 2.06.94-2.06 2.06-.94-2.06-.94-.94-2.06-.94 2.06-2.06.94z\"/><path d=\"M17.41 7.96l-1.37-1.37c-.4-.4-.92-.59-1.43-.59-.52 0-1.04.2-1.43.59L10.3 9.45l-7.72 7.72c-.78.78-.78 2.05 0 2.83L4 21.41c.39.39.9.59 1.41.59.51 0 1.02-.2 1.41-.59l7.78-7.78 2.81-2.81c.8-.78.8-2.07 0-2.86zM5.41 20L4 18.59l7.72-7.72 1.47 1.35L5.41 20z\"/>\n",
              "  </svg>\n",
              "      </button>\n",
              "      \n",
              "  <style>\n",
              "    .colab-df-container {\n",
              "      display:flex;\n",
              "      flex-wrap:wrap;\n",
              "      gap: 12px;\n",
              "    }\n",
              "\n",
              "    .colab-df-convert {\n",
              "      background-color: #E8F0FE;\n",
              "      border: none;\n",
              "      border-radius: 50%;\n",
              "      cursor: pointer;\n",
              "      display: none;\n",
              "      fill: #1967D2;\n",
              "      height: 32px;\n",
              "      padding: 0 0 0 0;\n",
              "      width: 32px;\n",
              "    }\n",
              "\n",
              "    .colab-df-convert:hover {\n",
              "      background-color: #E2EBFA;\n",
              "      box-shadow: 0px 1px 2px rgba(60, 64, 67, 0.3), 0px 1px 3px 1px rgba(60, 64, 67, 0.15);\n",
              "      fill: #174EA6;\n",
              "    }\n",
              "\n",
              "    [theme=dark] .colab-df-convert {\n",
              "      background-color: #3B4455;\n",
              "      fill: #D2E3FC;\n",
              "    }\n",
              "\n",
              "    [theme=dark] .colab-df-convert:hover {\n",
              "      background-color: #434B5C;\n",
              "      box-shadow: 0px 1px 3px 1px rgba(0, 0, 0, 0.15);\n",
              "      filter: drop-shadow(0px 1px 2px rgba(0, 0, 0, 0.3));\n",
              "      fill: #FFFFFF;\n",
              "    }\n",
              "  </style>\n",
              "\n",
              "      <script>\n",
              "        const buttonEl =\n",
              "          document.querySelector('#df-5def8ec7-b322-4fab-9435-85652b254e5d button.colab-df-convert');\n",
              "        buttonEl.style.display =\n",
              "          google.colab.kernel.accessAllowed ? 'block' : 'none';\n",
              "\n",
              "        async function convertToInteractive(key) {\n",
              "          const element = document.querySelector('#df-5def8ec7-b322-4fab-9435-85652b254e5d');\n",
              "          const dataTable =\n",
              "            await google.colab.kernel.invokeFunction('convertToInteractive',\n",
              "                                                     [key], {});\n",
              "          if (!dataTable) return;\n",
              "\n",
              "          const docLinkHtml = 'Like what you see? Visit the ' +\n",
              "            '<a target=\"_blank\" href=https://colab.research.google.com/notebooks/data_table.ipynb>data table notebook</a>'\n",
              "            + ' to learn more about interactive tables.';\n",
              "          element.innerHTML = '';\n",
              "          dataTable['output_type'] = 'display_data';\n",
              "          await google.colab.output.renderOutput(dataTable, element);\n",
              "          const docLink = document.createElement('div');\n",
              "          docLink.innerHTML = docLinkHtml;\n",
              "          element.appendChild(docLink);\n",
              "        }\n",
              "      </script>\n",
              "    </div>\n",
              "  </div>\n",
              "  "
            ]
          },
          "metadata": {},
          "execution_count": 1410
        }
      ]
    },
    {
      "cell_type": "code",
      "source": [
        "ax = sns.heatmap(df_scaled.corr(), annot=True)\n",
        "\n",
        "ax.figure.set_size_inches(8, 8)"
      ],
      "metadata": {
        "colab": {
          "base_uri": "https://localhost:8080/",
          "height": 487
        },
        "id": "GHIHBb2-ZmxL",
        "outputId": "6f9fb042-282d-4e4a-ac37-dff294f7b4c4"
      },
      "execution_count": 1411,
      "outputs": [
        {
          "output_type": "display_data",
          "data": {
            "text/plain": [
              "<Figure size 576x576 with 2 Axes>"
            ],
            "image/png": "[encoded data removed]"
          },
          "metadata": {
            "needs_background": "light"
          }
        }
      ]
    },
    {
      "cell_type": "markdown",
      "source": [
        "## Split treino e teste"
      ],
      "metadata": {
        "id": "UlB_s2BsWB2v"
      }
    },
    {
      "cell_type": "code",
      "source": [
        "X_train_new, X_test_new, y_train, y_test = train_test_split(X_scaled_pca_two_comp, y, random_state=0, test_size=0.3)"
      ],
      "metadata": {
        "id": "ojZ4GsVeWB2v"
      },
      "execution_count": 1412,
      "outputs": []
    },
    {
      "cell_type": "markdown",
      "source": [
        "# Modelos de regressão"
      ],
      "metadata": {
        "id": "J8blL4xCWB2v"
      }
    },
    {
      "cell_type": "code",
      "source": [
        "# Cross validation apenas para comparação entre modelos\n",
        "reg_xgboost = xgb.XGBRegressor(objective='reg:squarederror')\n",
        "\n",
        "resultado_cv = cross_val_score(reg_xgboost, X_train_new, y_train, scoring='neg_root_mean_squared_error')\n",
        "\n",
        "print('Negative RMSE: {:.2f}'.format(abs(resultado_cv.mean())))\n",
        "\n",
        "resultado_cv = cross_val_score(reg_xgboost, X_train_new, y_train, scoring='r2')\n",
        "\n",
        "print('R^2: {:.2f}'.format(abs(resultado_cv.mean())))\n",
        "\n",
        "resultado_cv = cross_val_score(reg_xgboost, X_train_new, y_train, scoring='neg_mean_absolute_error')\n",
        "\n",
        "print('Negative MAE: {:.2f}'.format(abs(resultado_cv.mean())))"
      ],
      "metadata": {
        "colab": {
          "base_uri": "https://localhost:8080/"
        },
        "outputId": "134d875d-ee76-4961-dbe3-244caf76d09b",
        "id": "_aJyIF-jWB2v"
      },
      "execution_count": 1413,
      "outputs": [
        {
          "output_type": "stream",
          "name": "stdout",
          "text": [
            "Negative RMSE: 3.15\n",
            "R^2: 0.83\n",
            "Negative MAE: 2.35\n"
          ]
        }
      ]
    },
    {
      "cell_type": "markdown",
      "source": [
        "## Tunando o classificador"
      ],
      "metadata": {
        "id": "2NjkZ2hsWB2w"
      }
    },
    {
      "cell_type": "code",
      "source": [
        "reg_xgboost_depth = xgb.XGBRegressor(max_depth=2, objective='reg:squarederror') # Altera a altura máxima das árvores\n",
        "\n",
        "resultado_cv = cross_val_score(reg_xgboost_depth, X_train_new, y_train, scoring='neg_root_mean_squared_error')\n",
        "\n",
        "print('Negative RMSE: {:.2f}'.format(abs(resultado_cv.mean())))\n",
        "\n",
        "resultado_cv = cross_val_score(reg_xgboost_depth, X_train_new, y_train, scoring='r2')\n",
        "\n",
        "print('R^2: {:.2f}'.format(abs(resultado_cv.mean())))\n",
        "\n",
        "resultado_cv = cross_val_score(reg_xgboost_depth, X_train_new, y_train, scoring='neg_mean_absolute_error')\n",
        "\n",
        "print('Negative MAE: {:.2f}'.format(abs(resultado_cv.mean())))"
      ],
      "metadata": {
        "colab": {
          "base_uri": "https://localhost:8080/"
        },
        "outputId": "79cf4736-7e5a-4970-984a-7d46cb1d6b8a",
        "id": "Ebt1d7FLWB2w"
      },
      "execution_count": 1414,
      "outputs": [
        {
          "output_type": "stream",
          "name": "stdout",
          "text": [
            "Negative RMSE: 3.04\n",
            "R^2: 0.84\n",
            "Negative MAE: 2.25\n"
          ]
        }
      ]
    },
    {
      "cell_type": "code",
      "source": [
        "reg_xgboost_dart = xgb.XGBRegressor(booster='dart', objective='reg:squarederror')\n",
        "\n",
        "resultado_cv = cross_val_score(reg_xgboost_dart, X_train_new, y_train, scoring='neg_root_mean_squared_error')\n",
        "\n",
        "print('Negative RMSE: {:.2f}'.format(abs(resultado_cv.mean())))\n",
        "\n",
        "resultado_cv = cross_val_score(reg_xgboost_dart, X_train_new, y_train, scoring='r2')\n",
        "\n",
        "print('R^2: {:.2f}'.format(abs(resultado_cv.mean())))\n",
        "\n",
        "resultado_cv = cross_val_score(reg_xgboost_dart, X_train_new, y_train, scoring='neg_mean_absolute_error')\n",
        "\n",
        "print('Negative MAE: {:.2f}'.format(abs(resultado_cv.mean())))"
      ],
      "metadata": {
        "colab": {
          "base_uri": "https://localhost:8080/"
        },
        "outputId": "bbd31901-2916-48ae-96c2-14db28bce025",
        "id": "tuzxiopqWB2w"
      },
      "execution_count": 1415,
      "outputs": [
        {
          "output_type": "stream",
          "name": "stdout",
          "text": [
            "Negative RMSE: 3.15\n",
            "R^2: 0.83\n",
            "Negative MAE: 2.35\n"
          ]
        }
      ]
    },
    {
      "cell_type": "code",
      "source": [
        "reg_xgboost_gblinear = xgb.XGBRegressor(booster='gblinear', objective='reg:squarederror')\n",
        "\n",
        "resultado_cv = cross_val_score(reg_xgboost_gblinear, X_train_new, y_train, scoring='neg_root_mean_squared_error')\n",
        "\n",
        "print('Negative RMSE: {:.2f}'.format(abs(resultado_cv.mean())))\n",
        "\n",
        "resultado_cv = cross_val_score(reg_xgboost_gblinear, X_train_new, y_train, scoring='r2')\n",
        "\n",
        "print('R^2: {:.2f}'.format(abs(resultado_cv.mean())))\n",
        "\n",
        "resultado_cv = cross_val_score(reg_xgboost_gblinear, X_train_new, y_train, scoring='neg_mean_absolute_error')\n",
        "\n",
        "print('Negative MAE: {:.2f}'.format(abs(resultado_cv.mean())))"
      ],
      "metadata": {
        "colab": {
          "base_uri": "https://localhost:8080/"
        },
        "outputId": "a2df4271-5356-4e4f-c31a-48ba2630b196",
        "id": "KTYfrYITWB2w"
      },
      "execution_count": 1416,
      "outputs": [
        {
          "output_type": "stream",
          "name": "stdout",
          "text": [
            "Negative RMSE: 6.49\n",
            "R^2: 0.29\n",
            "Negative MAE: 5.39\n"
          ]
        }
      ]
    },
    {
      "cell_type": "code",
      "source": [
        "reg_xgboost_gbtree = xgb.XGBRegressor(booster='gbtree', objective='reg:squarederror')\n",
        "\n",
        "resultado_cv = cross_val_score(reg_xgboost_gbtree, X_train_new, y_train, scoring='neg_root_mean_squared_error')\n",
        "\n",
        "print('Negative RMSE: {:.2f}'.format(abs(resultado_cv.mean())))\n",
        "\n",
        "resultado_cv = cross_val_score(reg_xgboost_gbtree, X_train_new, y_train, scoring='r2')\n",
        "\n",
        "print('R^2: {:.2f}'.format(abs(resultado_cv.mean())))\n",
        "\n",
        "resultado_cv = cross_val_score(reg_xgboost_gbtree, X_train_new, y_train, scoring='neg_mean_absolute_error')\n",
        "\n",
        "print('Negative MAE: {:.2f}'.format(abs(resultado_cv.mean())))"
      ],
      "metadata": {
        "colab": {
          "base_uri": "https://localhost:8080/"
        },
        "outputId": "4d246210-ab61-4529-d126-f7b6896c96e9",
        "id": "JwxcdExfWB2w"
      },
      "execution_count": 1417,
      "outputs": [
        {
          "output_type": "stream",
          "name": "stdout",
          "text": [
            "Negative RMSE: 3.15\n",
            "R^2: 0.83\n",
            "Negative MAE: 2.35\n"
          ]
        }
      ]
    },
    {
      "cell_type": "markdown",
      "source": [
        "# Previsão de mpg"
      ],
      "metadata": {
        "id": "7EhbApmgqKZS"
      }
    },
    {
      "cell_type": "code",
      "source": [
        "# Recebe dados do usário\n",
        "\n",
        "cylinders = input('\\nNúmero de cilindros (entre {:.2f} e {:.2f})\\n'.format(df['cylinders'].min(), df['cylinders'].max()))\n",
        "\n",
        "displacement = input('\\nkm rodados (entre {:.2f} e {:.2f})\\n'.format(df['displacement'].min(), df['displacement'].max()))\n",
        "\n",
        "horsepower = input('\\nPotência (entre {:.2f} e {:.2f} hp)\\n'.format(df['horsepower'].min(), df['horsepower'].max()))\n",
        "\n",
        "weight = input('\\nPeso (entre {:.2f} e {:.2f} kg)\\n'.format(df['kg'].min(), df['kg'].max()))\n",
        "\n",
        "acceleration = input('\\nAceleração 0 até 100 km/h (entre {:.2f} e {:.2f} s)\\n'.format(df['acceleration'].min(), df['acceleration'].max()))\n",
        "\n",
        "model_year = input('\\nAno (entre {:.0f} e {:.0f})\\n'.format(df['model_year'].min(), df['model_year'].max()))"
      ],
      "metadata": {
        "colab": {
          "base_uri": "https://localhost:8080/"
        },
        "id": "n0xHfj6kqNWO",
        "outputId": "dc325720-20ef-4bb1-aa3c-f3e056ca748f"
      },
      "execution_count": 1436,
      "outputs": [
        {
          "name": "stdout",
          "output_type": "stream",
          "text": [
            "\n",
            "Número de cilindros (entre 3.00 e 8.00)\n",
            "7\n",
            "\n",
            "km rodados (entre 68.00 e 455.00)\n",
            "300\n",
            "\n",
            "Potência (entre 46.00 e 230.00 hp)\n",
            "140\n",
            "\n",
            "Peso (entre 731.64 e 2331.46 kg)\n",
            "760\n",
            "\n",
            "Aceleração 0 até 100 km/h (entre 8.00 e 24.80 s)\n",
            "12\n",
            "\n",
            "Ano (entre 70 e 82)\n",
            "76\n"
          ]
        }
      ]
    },
    {
      "cell_type": "code",
      "source": [
        "dados_usuario = {'cylinders': cylinders,\n",
        "                 'displacement': displacement,\n",
        "                 'horsepower': horsepower,\n",
        "                 'weight': weight,\n",
        "                 'acceleration': acceleration,\n",
        "                 'model_year': model_year}"
      ],
      "metadata": {
        "id": "7A748Sqew_9V"
      },
      "execution_count": 1438,
      "outputs": []
    },
    {
      "cell_type": "code",
      "source": [
        "df_usuario = pd.DataFrame(dados_usuario, dtype='float64', index=[0])\n",
        "\n",
        "y_user_pred = melhor_modelo.predict(df_usuario)\n",
        "\n",
        "df_usuario['mpg_pred'] = y_user_pred[0].round(2)\n",
        "\n",
        "df_usuario"
      ],
      "metadata": {
        "colab": {
          "base_uri": "https://localhost:8080/",
          "height": 81
        },
        "id": "Qu4u-L1A1GFm",
        "outputId": "599552f5-20b8-4df9-8127-c516f5611c3a"
      },
      "execution_count": 1439,
      "outputs": [
        {
          "output_type": "execute_result",
          "data": {
            "text/plain": [
              "   cylinders  displacement  horsepower  weight  acceleration  model_year  \\\n",
              "0        7.0         300.0       140.0   760.0          12.0        76.0   \n",
              "\n",
              "   mpg_pred  \n",
              "0     26.08  "
            ],
            "text/html": [
              "\n",
              "  <div id=\"df-4fad4b68-a0ed-4e3b-9af5-7724c5d00eeb\">\n",
              "    <div class=\"colab-df-container\">\n",
              "      <div>\n",
              "<style scoped>\n",
              "    .dataframe tbody tr th:only-of-type {\n",
              "        vertical-align: middle;\n",
              "    }\n",
              "\n",
              "    .dataframe tbody tr th {\n",
              "        vertical-align: top;\n",
              "    }\n",
              "\n",
              "    .dataframe thead th {\n",
              "        text-align: right;\n",
              "    }\n",
              "</style>\n",
              "<table border=\"1\" class=\"dataframe\">\n",
              "  <thead>\n",
              "    <tr style=\"text-align: right;\">\n",
              "      <th></th>\n",
              "      <th>cylinders</th>\n",
              "      <th>displacement</th>\n",
              "      <th>horsepower</th>\n",
              "      <th>weight</th>\n",
              "      <th>acceleration</th>\n",
              "      <th>model_year</th>\n",
              "      <th>mpg_pred</th>\n",
              "    </tr>\n",
              "  </thead>\n",
              "  <tbody>\n",
              "    <tr>\n",
              "      <th>0</th>\n",
              "      <td>7.0</td>\n",
              "      <td>300.0</td>\n",
              "      <td>140.0</td>\n",
              "      <td>760.0</td>\n",
              "      <td>12.0</td>\n",
              "      <td>76.0</td>\n",
              "      <td>26.08</td>\n",
              "    </tr>\n",
              "  </tbody>\n",
              "</table>\n",
              "</div>\n",
              "      <button class=\"colab-df-convert\" onclick=\"convertToInteractive('df-4fad4b68-a0ed-4e3b-9af5-7724c5d00eeb')\"\n",
              "              title=\"Convert this dataframe to an interactive table.\"\n",
              "              style=\"display:none;\">\n",
              "        \n",
              "  <svg xmlns=\"http://www.w3.org/2000/svg\" height=\"24px\"viewBox=\"0 0 24 24\"\n",
              "       width=\"24px\">\n",
              "    <path d=\"M0 0h24v24H0V0z\" fill=\"none\"/>\n",
              "    <path d=\"M18.56 5.44l.94 2.06.94-2.06 2.06-.94-2.06-.94-.94-2.06-.94 2.06-2.06.94zm-11 1L8.5 8.5l.94-2.06 2.06-.94-2.06-.94L8.5 2.5l-.94 2.06-2.06.94zm10 10l.94 2.06.94-2.06 2.06-.94-2.06-.94-.94-2.06-.94 2.06-2.06.94z\"/><path d=\"M17.41 7.96l-1.37-1.37c-.4-.4-.92-.59-1.43-.59-.52 0-1.04.2-1.43.59L10.3 9.45l-7.72 7.72c-.78.78-.78 2.05 0 2.83L4 21.41c.39.39.9.59 1.41.59.51 0 1.02-.2 1.41-.59l7.78-7.78 2.81-2.81c.8-.78.8-2.07 0-2.86zM5.41 20L4 18.59l7.72-7.72 1.47 1.35L5.41 20z\"/>\n",
              "  </svg>\n",
              "      </button>\n",
              "      \n",
              "  <style>\n",
              "    .colab-df-container {\n",
              "      display:flex;\n",
              "      flex-wrap:wrap;\n",
              "      gap: 12px;\n",
              "    }\n",
              "\n",
              "    .colab-df-convert {\n",
              "      background-color: #E8F0FE;\n",
              "      border: none;\n",
              "      border-radius: 50%;\n",
              "      cursor: pointer;\n",
              "      display: none;\n",
              "      fill: #1967D2;\n",
              "      height: 32px;\n",
              "      padding: 0 0 0 0;\n",
              "      width: 32px;\n",
              "    }\n",
              "\n",
              "    .colab-df-convert:hover {\n",
              "      background-color: #E2EBFA;\n",
              "      box-shadow: 0px 1px 2px rgba(60, 64, 67, 0.3), 0px 1px 3px 1px rgba(60, 64, 67, 0.15);\n",
              "      fill: #174EA6;\n",
              "    }\n",
              "\n",
              "    [theme=dark] .colab-df-convert {\n",
              "      background-color: #3B4455;\n",
              "      fill: #D2E3FC;\n",
              "    }\n",
              "\n",
              "    [theme=dark] .colab-df-convert:hover {\n",
              "      background-color: #434B5C;\n",
              "      box-shadow: 0px 1px 3px 1px rgba(0, 0, 0, 0.15);\n",
              "      filter: drop-shadow(0px 1px 2px rgba(0, 0, 0, 0.3));\n",
              "      fill: #FFFFFF;\n",
              "    }\n",
              "  </style>\n",
              "\n",
              "      <script>\n",
              "        const buttonEl =\n",
              "          document.querySelector('#df-4fad4b68-a0ed-4e3b-9af5-7724c5d00eeb button.colab-df-convert');\n",
              "        buttonEl.style.display =\n",
              "          google.colab.kernel.accessAllowed ? 'block' : 'none';\n",
              "\n",
              "        async function convertToInteractive(key) {\n",
              "          const element = document.querySelector('#df-4fad4b68-a0ed-4e3b-9af5-7724c5d00eeb');\n",
              "          const dataTable =\n",
              "            await google.colab.kernel.invokeFunction('convertToInteractive',\n",
              "                                                     [key], {});\n",
              "          if (!dataTable) return;\n",
              "\n",
              "          const docLinkHtml = 'Like what you see? Visit the ' +\n",
              "            '<a target=\"_blank\" href=https://colab.research.google.com/notebooks/data_table.ipynb>data table notebook</a>'\n",
              "            + ' to learn more about interactive tables.';\n",
              "          element.innerHTML = '';\n",
              "          dataTable['output_type'] = 'display_data';\n",
              "          await google.colab.output.renderOutput(dataTable, element);\n",
              "          const docLink = document.createElement('div');\n",
              "          docLink.innerHTML = docLinkHtml;\n",
              "          element.appendChild(docLink);\n",
              "        }\n",
              "      </script>\n",
              "    </div>\n",
              "  </div>\n",
              "  "
            ]
          },
          "metadata": {},
          "execution_count": 1439
        }
      ]
    }
  ]
}