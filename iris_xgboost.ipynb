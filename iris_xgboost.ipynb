{
  "nbformat": 4,
  "nbformat_minor": 0,
  "metadata": {
    "colab": {
      "provenance": [],
      "toc_visible": true,
      "authorship_tag": "ABX9TyOELXySar/ObFD7rFQbO1Q0"
    },
    "kernelspec": {
      "name": "python3",
      "display_name": "Python 3"
    },
    "language_info": {
      "name": "python"
    }
  },
  "cells": [
    {
      "cell_type": "markdown",
      "source": [
        "# Bibliotecas"
      ],
      "metadata": {
        "id": "ylTGMsQSJzx5"
      }
    },
    {
      "cell_type": "code",
      "execution_count": 636,
      "metadata": {
        "id": "JbWtVgbJCFU7"
      },
      "outputs": [],
      "source": [
        "# ! pip install xgboost"
      ]
    },
    {
      "cell_type": "code",
      "source": [
        "import xgboost as xgb\n",
        "import pandas as pd\n",
        "import numpy as np\n",
        "from sklearn.model_selection import (train_test_split,\n",
        "                                     cross_val_score)\n",
        "from sklearn import metrics\n",
        "from sklearn.decomposition import PCA\n",
        "from sklearn.preprocessing import MinMaxScaler\n",
        "import seaborn as sns\n",
        "import matplotlib.pyplot as plt"
      ],
      "metadata": {
        "id": "gSvIZJvpCNff"
      },
      "execution_count": 637,
      "outputs": []
    },
    {
      "cell_type": "markdown",
      "source": [
        "# Dataset"
      ],
      "metadata": {
        "id": "jDkHSkgvJ3Hw"
      }
    },
    {
      "cell_type": "code",
      "source": [
        "df = sns.load_dataset('iris')\n",
        "\n",
        "df.head()"
      ],
      "metadata": {
        "colab": {
          "base_uri": "https://localhost:8080/",
          "height": 206
        },
        "id": "6JEdAyglCcZp",
        "outputId": "befc2e3e-98a8-444c-e11f-0a529accd2f3"
      },
      "execution_count": 638,
      "outputs": [
        {
          "output_type": "execute_result",
          "data": {
            "text/plain": [
              "   sepal_length  sepal_width  petal_length  petal_width species\n",
              "0           5.1          3.5           1.4          0.2  setosa\n",
              "1           4.9          3.0           1.4          0.2  setosa\n",
              "2           4.7          3.2           1.3          0.2  setosa\n",
              "3           4.6          3.1           1.5          0.2  setosa\n",
              "4           5.0          3.6           1.4          0.2  setosa"
            ],
            "text/html": [
              "\n",
              "  <div id=\"df-d6eb4fec-2c13-4762-ae9e-7989dbaaf57c\">\n",
              "    <div class=\"colab-df-container\">\n",
              "      <div>\n",
              "<style scoped>\n",
              "    .dataframe tbody tr th:only-of-type {\n",
              "        vertical-align: middle;\n",
              "    }\n",
              "\n",
              "    .dataframe tbody tr th {\n",
              "        vertical-align: top;\n",
              "    }\n",
              "\n",
              "    .dataframe thead th {\n",
              "        text-align: right;\n",
              "    }\n",
              "</style>\n",
              "<table border=\"1\" class=\"dataframe\">\n",
              "  <thead>\n",
              "    <tr style=\"text-align: right;\">\n",
              "      <th></th>\n",
              "      <th>sepal_length</th>\n",
              "      <th>sepal_width</th>\n",
              "      <th>petal_length</th>\n",
              "      <th>petal_width</th>\n",
              "      <th>species</th>\n",
              "    </tr>\n",
              "  </thead>\n",
              "  <tbody>\n",
              "    <tr>\n",
              "      <th>0</th>\n",
              "      <td>5.1</td>\n",
              "      <td>3.5</td>\n",
              "      <td>1.4</td>\n",
              "      <td>0.2</td>\n",
              "      <td>setosa</td>\n",
              "    </tr>\n",
              "    <tr>\n",
              "      <th>1</th>\n",
              "      <td>4.9</td>\n",
              "      <td>3.0</td>\n",
              "      <td>1.4</td>\n",
              "      <td>0.2</td>\n",
              "      <td>setosa</td>\n",
              "    </tr>\n",
              "    <tr>\n",
              "      <th>2</th>\n",
              "      <td>4.7</td>\n",
              "      <td>3.2</td>\n",
              "      <td>1.3</td>\n",
              "      <td>0.2</td>\n",
              "      <td>setosa</td>\n",
              "    </tr>\n",
              "    <tr>\n",
              "      <th>3</th>\n",
              "      <td>4.6</td>\n",
              "      <td>3.1</td>\n",
              "      <td>1.5</td>\n",
              "      <td>0.2</td>\n",
              "      <td>setosa</td>\n",
              "    </tr>\n",
              "    <tr>\n",
              "      <th>4</th>\n",
              "      <td>5.0</td>\n",
              "      <td>3.6</td>\n",
              "      <td>1.4</td>\n",
              "      <td>0.2</td>\n",
              "      <td>setosa</td>\n",
              "    </tr>\n",
              "  </tbody>\n",
              "</table>\n",
              "</div>\n",
              "      <button class=\"colab-df-convert\" onclick=\"convertToInteractive('df-d6eb4fec-2c13-4762-ae9e-7989dbaaf57c')\"\n",
              "              title=\"Convert this dataframe to an interactive table.\"\n",
              "              style=\"display:none;\">\n",
              "        \n",
              "  <svg xmlns=\"http://www.w3.org/2000/svg\" height=\"24px\"viewBox=\"0 0 24 24\"\n",
              "       width=\"24px\">\n",
              "    <path d=\"M0 0h24v24H0V0z\" fill=\"none\"/>\n",
              "    <path d=\"M18.56 5.44l.94 2.06.94-2.06 2.06-.94-2.06-.94-.94-2.06-.94 2.06-2.06.94zm-11 1L8.5 8.5l.94-2.06 2.06-.94-2.06-.94L8.5 2.5l-.94 2.06-2.06.94zm10 10l.94 2.06.94-2.06 2.06-.94-2.06-.94-.94-2.06-.94 2.06-2.06.94z\"/><path d=\"M17.41 7.96l-1.37-1.37c-.4-.4-.92-.59-1.43-.59-.52 0-1.04.2-1.43.59L10.3 9.45l-7.72 7.72c-.78.78-.78 2.05 0 2.83L4 21.41c.39.39.9.59 1.41.59.51 0 1.02-.2 1.41-.59l7.78-7.78 2.81-2.81c.8-.78.8-2.07 0-2.86zM5.41 20L4 18.59l7.72-7.72 1.47 1.35L5.41 20z\"/>\n",
              "  </svg>\n",
              "      </button>\n",
              "      \n",
              "  <style>\n",
              "    .colab-df-container {\n",
              "      display:flex;\n",
              "      flex-wrap:wrap;\n",
              "      gap: 12px;\n",
              "    }\n",
              "\n",
              "    .colab-df-convert {\n",
              "      background-color: #E8F0FE;\n",
              "      border: none;\n",
              "      border-radius: 50%;\n",
              "      cursor: pointer;\n",
              "      display: none;\n",
              "      fill: #1967D2;\n",
              "      height: 32px;\n",
              "      padding: 0 0 0 0;\n",
              "      width: 32px;\n",
              "    }\n",
              "\n",
              "    .colab-df-convert:hover {\n",
              "      background-color: #E2EBFA;\n",
              "      box-shadow: 0px 1px 2px rgba(60, 64, 67, 0.3), 0px 1px 3px 1px rgba(60, 64, 67, 0.15);\n",
              "      fill: #174EA6;\n",
              "    }\n",
              "\n",
              "    [theme=dark] .colab-df-convert {\n",
              "      background-color: #3B4455;\n",
              "      fill: #D2E3FC;\n",
              "    }\n",
              "\n",
              "    [theme=dark] .colab-df-convert:hover {\n",
              "      background-color: #434B5C;\n",
              "      box-shadow: 0px 1px 3px 1px rgba(0, 0, 0, 0.15);\n",
              "      filter: drop-shadow(0px 1px 2px rgba(0, 0, 0, 0.3));\n",
              "      fill: #FFFFFF;\n",
              "    }\n",
              "  </style>\n",
              "\n",
              "      <script>\n",
              "        const buttonEl =\n",
              "          document.querySelector('#df-d6eb4fec-2c13-4762-ae9e-7989dbaaf57c button.colab-df-convert');\n",
              "        buttonEl.style.display =\n",
              "          google.colab.kernel.accessAllowed ? 'block' : 'none';\n",
              "\n",
              "        async function convertToInteractive(key) {\n",
              "          const element = document.querySelector('#df-d6eb4fec-2c13-4762-ae9e-7989dbaaf57c');\n",
              "          const dataTable =\n",
              "            await google.colab.kernel.invokeFunction('convertToInteractive',\n",
              "                                                     [key], {});\n",
              "          if (!dataTable) return;\n",
              "\n",
              "          const docLinkHtml = 'Like what you see? Visit the ' +\n",
              "            '<a target=\"_blank\" href=https://colab.research.google.com/notebooks/data_table.ipynb>data table notebook</a>'\n",
              "            + ' to learn more about interactive tables.';\n",
              "          element.innerHTML = '';\n",
              "          dataTable['output_type'] = 'display_data';\n",
              "          await google.colab.output.renderOutput(dataTable, element);\n",
              "          const docLink = document.createElement('div');\n",
              "          docLink.innerHTML = docLinkHtml;\n",
              "          element.appendChild(docLink);\n",
              "        }\n",
              "      </script>\n",
              "    </div>\n",
              "  </div>\n",
              "  "
            ]
          },
          "metadata": {},
          "execution_count": 638
        }
      ]
    },
    {
      "cell_type": "code",
      "source": [
        "df['species'].unique()"
      ],
      "metadata": {
        "colab": {
          "base_uri": "https://localhost:8080/"
        },
        "id": "mvmzG0NzCoSS",
        "outputId": "f42ceb07-365d-47f3-a99a-8f8e511dfe93"
      },
      "execution_count": 639,
      "outputs": [
        {
          "output_type": "execute_result",
          "data": {
            "text/plain": [
              "array(['setosa', 'versicolor', 'virginica'], dtype=object)"
            ]
          },
          "metadata": {},
          "execution_count": 639
        }
      ]
    },
    {
      "cell_type": "code",
      "source": [
        "df['species'] = df['species'].map({'setosa': 0,\n",
        "                                   'versicolor': 1,\n",
        "                                   'virginica': 2})\n",
        "\n",
        "df.head()"
      ],
      "metadata": {
        "colab": {
          "base_uri": "https://localhost:8080/",
          "height": 206
        },
        "id": "PT3u6RuvCtRn",
        "outputId": "5026d2ca-1271-406e-a548-3205019abc18"
      },
      "execution_count": 640,
      "outputs": [
        {
          "output_type": "execute_result",
          "data": {
            "text/plain": [
              "   sepal_length  sepal_width  petal_length  petal_width  species\n",
              "0           5.1          3.5           1.4          0.2        0\n",
              "1           4.9          3.0           1.4          0.2        0\n",
              "2           4.7          3.2           1.3          0.2        0\n",
              "3           4.6          3.1           1.5          0.2        0\n",
              "4           5.0          3.6           1.4          0.2        0"
            ],
            "text/html": [
              "\n",
              "  <div id=\"df-debd1f6f-e145-4aa6-a0da-a72ddb2f6b03\">\n",
              "    <div class=\"colab-df-container\">\n",
              "      <div>\n",
              "<style scoped>\n",
              "    .dataframe tbody tr th:only-of-type {\n",
              "        vertical-align: middle;\n",
              "    }\n",
              "\n",
              "    .dataframe tbody tr th {\n",
              "        vertical-align: top;\n",
              "    }\n",
              "\n",
              "    .dataframe thead th {\n",
              "        text-align: right;\n",
              "    }\n",
              "</style>\n",
              "<table border=\"1\" class=\"dataframe\">\n",
              "  <thead>\n",
              "    <tr style=\"text-align: right;\">\n",
              "      <th></th>\n",
              "      <th>sepal_length</th>\n",
              "      <th>sepal_width</th>\n",
              "      <th>petal_length</th>\n",
              "      <th>petal_width</th>\n",
              "      <th>species</th>\n",
              "    </tr>\n",
              "  </thead>\n",
              "  <tbody>\n",
              "    <tr>\n",
              "      <th>0</th>\n",
              "      <td>5.1</td>\n",
              "      <td>3.5</td>\n",
              "      <td>1.4</td>\n",
              "      <td>0.2</td>\n",
              "      <td>0</td>\n",
              "    </tr>\n",
              "    <tr>\n",
              "      <th>1</th>\n",
              "      <td>4.9</td>\n",
              "      <td>3.0</td>\n",
              "      <td>1.4</td>\n",
              "      <td>0.2</td>\n",
              "      <td>0</td>\n",
              "    </tr>\n",
              "    <tr>\n",
              "      <th>2</th>\n",
              "      <td>4.7</td>\n",
              "      <td>3.2</td>\n",
              "      <td>1.3</td>\n",
              "      <td>0.2</td>\n",
              "      <td>0</td>\n",
              "    </tr>\n",
              "    <tr>\n",
              "      <th>3</th>\n",
              "      <td>4.6</td>\n",
              "      <td>3.1</td>\n",
              "      <td>1.5</td>\n",
              "      <td>0.2</td>\n",
              "      <td>0</td>\n",
              "    </tr>\n",
              "    <tr>\n",
              "      <th>4</th>\n",
              "      <td>5.0</td>\n",
              "      <td>3.6</td>\n",
              "      <td>1.4</td>\n",
              "      <td>0.2</td>\n",
              "      <td>0</td>\n",
              "    </tr>\n",
              "  </tbody>\n",
              "</table>\n",
              "</div>\n",
              "      <button class=\"colab-df-convert\" onclick=\"convertToInteractive('df-debd1f6f-e145-4aa6-a0da-a72ddb2f6b03')\"\n",
              "              title=\"Convert this dataframe to an interactive table.\"\n",
              "              style=\"display:none;\">\n",
              "        \n",
              "  <svg xmlns=\"http://www.w3.org/2000/svg\" height=\"24px\"viewBox=\"0 0 24 24\"\n",
              "       width=\"24px\">\n",
              "    <path d=\"M0 0h24v24H0V0z\" fill=\"none\"/>\n",
              "    <path d=\"M18.56 5.44l.94 2.06.94-2.06 2.06-.94-2.06-.94-.94-2.06-.94 2.06-2.06.94zm-11 1L8.5 8.5l.94-2.06 2.06-.94-2.06-.94L8.5 2.5l-.94 2.06-2.06.94zm10 10l.94 2.06.94-2.06 2.06-.94-2.06-.94-.94-2.06-.94 2.06-2.06.94z\"/><path d=\"M17.41 7.96l-1.37-1.37c-.4-.4-.92-.59-1.43-.59-.52 0-1.04.2-1.43.59L10.3 9.45l-7.72 7.72c-.78.78-.78 2.05 0 2.83L4 21.41c.39.39.9.59 1.41.59.51 0 1.02-.2 1.41-.59l7.78-7.78 2.81-2.81c.8-.78.8-2.07 0-2.86zM5.41 20L4 18.59l7.72-7.72 1.47 1.35L5.41 20z\"/>\n",
              "  </svg>\n",
              "      </button>\n",
              "      \n",
              "  <style>\n",
              "    .colab-df-container {\n",
              "      display:flex;\n",
              "      flex-wrap:wrap;\n",
              "      gap: 12px;\n",
              "    }\n",
              "\n",
              "    .colab-df-convert {\n",
              "      background-color: #E8F0FE;\n",
              "      border: none;\n",
              "      border-radius: 50%;\n",
              "      cursor: pointer;\n",
              "      display: none;\n",
              "      fill: #1967D2;\n",
              "      height: 32px;\n",
              "      padding: 0 0 0 0;\n",
              "      width: 32px;\n",
              "    }\n",
              "\n",
              "    .colab-df-convert:hover {\n",
              "      background-color: #E2EBFA;\n",
              "      box-shadow: 0px 1px 2px rgba(60, 64, 67, 0.3), 0px 1px 3px 1px rgba(60, 64, 67, 0.15);\n",
              "      fill: #174EA6;\n",
              "    }\n",
              "\n",
              "    [theme=dark] .colab-df-convert {\n",
              "      background-color: #3B4455;\n",
              "      fill: #D2E3FC;\n",
              "    }\n",
              "\n",
              "    [theme=dark] .colab-df-convert:hover {\n",
              "      background-color: #434B5C;\n",
              "      box-shadow: 0px 1px 3px 1px rgba(0, 0, 0, 0.15);\n",
              "      filter: drop-shadow(0px 1px 2px rgba(0, 0, 0, 0.3));\n",
              "      fill: #FFFFFF;\n",
              "    }\n",
              "  </style>\n",
              "\n",
              "      <script>\n",
              "        const buttonEl =\n",
              "          document.querySelector('#df-debd1f6f-e145-4aa6-a0da-a72ddb2f6b03 button.colab-df-convert');\n",
              "        buttonEl.style.display =\n",
              "          google.colab.kernel.accessAllowed ? 'block' : 'none';\n",
              "\n",
              "        async function convertToInteractive(key) {\n",
              "          const element = document.querySelector('#df-debd1f6f-e145-4aa6-a0da-a72ddb2f6b03');\n",
              "          const dataTable =\n",
              "            await google.colab.kernel.invokeFunction('convertToInteractive',\n",
              "                                                     [key], {});\n",
              "          if (!dataTable) return;\n",
              "\n",
              "          const docLinkHtml = 'Like what you see? Visit the ' +\n",
              "            '<a target=\"_blank\" href=https://colab.research.google.com/notebooks/data_table.ipynb>data table notebook</a>'\n",
              "            + ' to learn more about interactive tables.';\n",
              "          element.innerHTML = '';\n",
              "          dataTable['output_type'] = 'display_data';\n",
              "          await google.colab.output.renderOutput(dataTable, element);\n",
              "          const docLink = document.createElement('div');\n",
              "          docLink.innerHTML = docLinkHtml;\n",
              "          element.appendChild(docLink);\n",
              "        }\n",
              "      </script>\n",
              "    </div>\n",
              "  </div>\n",
              "  "
            ]
          },
          "metadata": {},
          "execution_count": 640
        }
      ]
    },
    {
      "cell_type": "markdown",
      "source": [
        "É um problema de classificação, pois a variável *target* é discreta e contém 3 classes\n",
        "\n",
        "* setosa\n",
        "* versicolor\n",
        "* virginica"
      ],
      "metadata": {
        "id": "iU57j9l-Kyk1"
      }
    },
    {
      "cell_type": "code",
      "source": [
        "X = df.drop(['species'],  axis=1)\n",
        "\n",
        "y = df['species']"
      ],
      "metadata": {
        "id": "kpKLypKXDb1I"
      },
      "execution_count": 641,
      "outputs": []
    },
    {
      "cell_type": "markdown",
      "source": [
        "## Split treino e teste"
      ],
      "metadata": {
        "id": "VkkUyJoxJ-2_"
      }
    },
    {
      "cell_type": "code",
      "source": [
        "X_train, X_test, y_train, y_test = train_test_split(X, y, random_state=0, test_size=0.3)"
      ],
      "metadata": {
        "id": "l2x8uF5MDtE_"
      },
      "execution_count": 642,
      "outputs": []
    },
    {
      "cell_type": "markdown",
      "source": [
        "# Modelos classificadores"
      ],
      "metadata": {
        "id": "kXQZlkW4KIRI"
      }
    },
    {
      "cell_type": "code",
      "source": [
        "classificador_xgboost = xgb.XGBClassifier()\n",
        "\n",
        "# Cross validation apenas para comparação entre modelos\n",
        "\n",
        "resultado_cv_acc_xgb = cross_val_score(classificador_xgboost, X_train, y_train, scoring='accuracy')\n",
        "\n",
        "print('Accuracy: {:.2f}'.format(abs(resultado_cv_acc_xgb.mean())))\n",
        "\n",
        "resultado_cv_rsquared_xgb = cross_val_score(classificador_xgboost, X_train, y_train, scoring='r2')\n",
        "\n",
        "print('R^2: {:.2f}'.format(abs(resultado_cv_rsquared_xgb.mean())))\n",
        "\n",
        "resultado_cv_nmae_xgb = cross_val_score(classificador_xgboost, X_train, y_train, scoring='neg_mean_absolute_error')\n",
        "\n",
        "print('Negative MAE: {:.2f}'.format(abs(resultado_cv_nmae_xgb.mean())))"
      ],
      "metadata": {
        "id": "tR6XNektEAnJ",
        "colab": {
          "base_uri": "https://localhost:8080/"
        },
        "outputId": "d40cf982-77fd-4d9c-c6d9-409669e2a95a"
      },
      "execution_count": 643,
      "outputs": [
        {
          "output_type": "stream",
          "name": "stdout",
          "text": [
            "Accuracy: 0.95\n",
            "R^2: 0.93\n",
            "Negative MAE: 0.05\n"
          ]
        }
      ]
    },
    {
      "cell_type": "markdown",
      "source": [
        "## Tunando o classificador"
      ],
      "metadata": {
        "id": "SItkbl9sMI8n"
      }
    },
    {
      "cell_type": "code",
      "source": [
        "classificador_xgboost_depth = xgb.XGBClassifier(max_depth=2) # Altera a altura máxima das árvores\n",
        "\n",
        "resultado_cv_acc_depth = cross_val_score(classificador_xgboost_depth, X_train, y_train, scoring='accuracy')\n",
        "\n",
        "print('Accuracy: {:.2f}'.format(abs(resultado_cv_acc_depth.mean())))\n",
        "\n",
        "resultado_cv_rsquared_depth = cross_val_score(classificador_xgboost_depth, X_train, y_train, scoring='r2')\n",
        "\n",
        "print('R^2: {:.2f}'.format(abs(resultado_cv_rsquared_depth.mean())))\n",
        "\n",
        "resultado_cv_nmae_depth = cross_val_score(classificador_xgboost_depth, X_train, y_train, scoring='neg_mean_absolute_error')\n",
        "\n",
        "print('Negative MAE: {:.2f}'.format(abs(resultado_cv_nmae_depth.mean())))"
      ],
      "metadata": {
        "colab": {
          "base_uri": "https://localhost:8080/"
        },
        "outputId": "6d42f831-c0b1-4f59-cbf1-0440dd3b6980",
        "id": "bTsXaePJILqn"
      },
      "execution_count": 644,
      "outputs": [
        {
          "output_type": "stream",
          "name": "stdout",
          "text": [
            "Accuracy: 0.94\n",
            "R^2: 0.92\n",
            "Negative MAE: 0.06\n"
          ]
        }
      ]
    },
    {
      "cell_type": "code",
      "source": [
        "classificador_xgboost_dart = xgb.XGBClassifier(booster='dart')\n",
        "\n",
        "resultado_cv_acc_dart = cross_val_score(classificador_xgboost_dart, X_train, y_train, scoring='accuracy')\n",
        "\n",
        "print('Accuracy: {:.2f}'.format(abs(resultado_cv_acc_dart.mean())))\n",
        "\n",
        "resultado_cv_rsquared_dart = cross_val_score(classificador_xgboost_dart, X_train, y_train, scoring='r2')\n",
        "\n",
        "print('R^2: {:.2f}'.format(abs(resultado_cv_rsquared_dart.mean())))\n",
        "\n",
        "resultado_cv_nmae_dart = cross_val_score(classificador_xgboost_dart, X_train, y_train, scoring='neg_mean_absolute_error')\n",
        "\n",
        "print('Negative MAE: {:.2f}'.format(abs(resultado_cv_nmae_dart.mean())))"
      ],
      "metadata": {
        "colab": {
          "base_uri": "https://localhost:8080/"
        },
        "outputId": "c328c7bc-f4b8-4bb1-accb-329cbd927519",
        "id": "ZgpheigWILqs"
      },
      "execution_count": 645,
      "outputs": [
        {
          "output_type": "stream",
          "name": "stdout",
          "text": [
            "Accuracy: 0.95\n",
            "R^2: 0.93\n",
            "Negative MAE: 0.05\n"
          ]
        }
      ]
    },
    {
      "cell_type": "code",
      "source": [
        "classificador_xgboost_gblinear = xgb.XGBClassifier(booster='gblinear')\n",
        "\n",
        "resultado_cv_acc_gbl = cross_val_score(classificador_xgboost_gblinear, X_train, y_train, scoring='accuracy')\n",
        "\n",
        "print('Accuracy: {:.2f}'.format(abs(resultado_cv_acc_gbl.mean())))\n",
        "\n",
        "resultado_cv_rsquared_gbl = cross_val_score(classificador_xgboost_gblinear, X_train, y_train, scoring='r2')\n",
        "\n",
        "print('R^2: {:.2f}'.format(abs(resultado_cv_rsquared_gbl.mean())))\n",
        "\n",
        "resultado_cv_nmae_gbl = cross_val_score(classificador_xgboost_gblinear, X_train, y_train, scoring='neg_mean_absolute_error')\n",
        "\n",
        "print('Negative MAE: {:.2f}'.format(abs(resultado_cv_nmae_gbl.mean())))"
      ],
      "metadata": {
        "colab": {
          "base_uri": "https://localhost:8080/"
        },
        "outputId": "323779f3-2b29-40ad-c47b-e64631687454",
        "id": "s2yYYr43ILqs"
      },
      "execution_count": 646,
      "outputs": [
        {
          "output_type": "stream",
          "name": "stdout",
          "text": [
            "Accuracy: 0.70\n",
            "R^2: 0.56\n",
            "Negative MAE: 0.30\n"
          ]
        }
      ]
    },
    {
      "cell_type": "code",
      "source": [
        "classificador_xgboost_gbtree = xgb.XGBClassifier(booster='gbtree')\n",
        "\n",
        "resultado_cv_acc_gbt = cross_val_score(classificador_xgboost_gbtree, X_train, y_train, scoring='accuracy')\n",
        "\n",
        "print('Accuracy: {:.2f}'.format(abs(resultado_cv_acc_gbt.mean())))\n",
        "\n",
        "resultado_cv_rsquared_gbt = cross_val_score(classificador_xgboost_gbtree, X_train, y_train, scoring='r2')\n",
        "\n",
        "print('R^2: {:.2f}'.format(abs(resultado_cv_rsquared_gbt.mean())))\n",
        "\n",
        "resultado_cv_nmae_gbt = cross_val_score(classificador_xgboost_gbtree, X_train, y_train, scoring='neg_mean_absolute_error')\n",
        "\n",
        "print('Negative MAE: {:.2f}'.format(abs(resultado_cv_nmae_gbt.mean())))"
      ],
      "metadata": {
        "colab": {
          "base_uri": "https://localhost:8080/"
        },
        "outputId": "0f3337e1-6c8e-4345-8847-be39ce34951b",
        "id": "FE6-FY98ILqs"
      },
      "execution_count": 647,
      "outputs": [
        {
          "output_type": "stream",
          "name": "stdout",
          "text": [
            "Accuracy: 0.95\n",
            "R^2: 0.93\n",
            "Negative MAE: 0.05\n"
          ]
        }
      ]
    },
    {
      "cell_type": "markdown",
      "source": [
        "# Normalização dos dados"
      ],
      "metadata": {
        "id": "wirOhq6M8I85"
      }
    },
    {
      "cell_type": "code",
      "source": [
        "scaler = MinMaxScaler()\n",
        "\n",
        "X_scaled = scaler.fit_transform(X)"
      ],
      "metadata": {
        "id": "gjp2FCT4R75z"
      },
      "execution_count": 648,
      "outputs": []
    },
    {
      "cell_type": "markdown",
      "source": [
        "# Principal Component Analysis (PCA)"
      ],
      "metadata": {
        "id": "ZejY5r8nR6tk"
      }
    },
    {
      "cell_type": "code",
      "source": [
        "pca = PCA(n_components=4)\n",
        "\n",
        "X_scaled_pca = pca.fit_transform(X_scaled)\n",
        "\n",
        "pca.components_ # Em cada linha é dado os coeficientes de uma componente principal (n_components)\n",
        "# Coeficientes da combinação das variáveis originais que dão origem às componentes principais"
      ],
      "metadata": {
        "colab": {
          "base_uri": "https://localhost:8080/"
        },
        "id": "1cuRg3rLSA35",
        "outputId": "812bc4f7-5d5b-4762-dc91-836eeec5f262"
      },
      "execution_count": 649,
      "outputs": [
        {
          "output_type": "execute_result",
          "data": {
            "text/plain": [
              "array([[ 0.42494212, -0.15074824,  0.61626702,  0.64568888],\n",
              "       [ 0.42320271,  0.90396711, -0.06038308, -0.00983925],\n",
              "       [-0.71357236,  0.33631602, -0.0659003 ,  0.61103451],\n",
              "       [-0.36213001,  0.21681781,  0.78244872, -0.45784921]])"
            ]
          },
          "metadata": {},
          "execution_count": 649
        }
      ]
    },
    {
      "cell_type": "code",
      "source": [
        "pca.explained_variance_ratio_.round(3)"
      ],
      "metadata": {
        "colab": {
          "base_uri": "https://localhost:8080/"
        },
        "id": "FnP8c13HWB5U",
        "outputId": "cb58f018-80cd-49f9-8a22-ccd27aba53ed"
      },
      "execution_count": 650,
      "outputs": [
        {
          "output_type": "execute_result",
          "data": {
            "text/plain": [
              "array([0.841, 0.118, 0.035, 0.006])"
            ]
          },
          "metadata": {},
          "execution_count": 650
        }
      ]
    },
    {
      "cell_type": "markdown",
      "source": [
        "* A primeira componente principal explica 84,1% da variabilidade dos dados\n",
        "* A segunda componente principal explica 11,8% da variabilidade dos dados"
      ],
      "metadata": {
        "id": "t8VQx4nOWQ3_"
      }
    },
    {
      "cell_type": "code",
      "source": [
        "fig = plt.figure(figsize=(12, 6))\n",
        "\n",
        "plt.plot(pca.explained_variance_ratio_, 'ro-')\n",
        "plt.title('Screee plot')\n",
        "plt.xlabel('Componentes principais')\n",
        "plt.ylabel('Eigenvalue')\n",
        "\n",
        "plt.show()"
      ],
      "metadata": {
        "colab": {
          "base_uri": "https://localhost:8080/",
          "height": 404
        },
        "id": "peyxCWSeZzlJ",
        "outputId": "182093c1-aa41-497e-e732-5cf39d177586"
      },
      "execution_count": 651,
      "outputs": [
        {
          "output_type": "display_data",
          "data": {
            "text/plain": [
              "<Figure size 864x432 with 1 Axes>"
            ],
            "image/png": "[encoded data removed]"
          },
          "metadata": {
            "needs_background": "light"
          }
        }
      ]
    },
    {
      "cell_type": "code",
      "source": [
        "pca = PCA(n_components=2)\n",
        "\n",
        "X_scaled_pca_two_comp = pca.fit_transform(X_scaled)\n",
        "\n",
        "pca_componentes = pca.components_.round(3)\n",
        "\n",
        "pca_componentes"
      ],
      "metadata": {
        "colab": {
          "base_uri": "https://localhost:8080/"
        },
        "id": "NU5qG8CZdAq_",
        "outputId": "f424abb6-6832-492f-c67b-c0230cd45297"
      },
      "execution_count": 652,
      "outputs": [
        {
          "output_type": "execute_result",
          "data": {
            "text/plain": [
              "array([[ 0.425, -0.151,  0.616,  0.646],\n",
              "       [ 0.423,  0.904, -0.06 , -0.01 ]])"
            ]
          },
          "metadata": {},
          "execution_count": 652
        }
      ]
    },
    {
      "cell_type": "code",
      "source": [
        "index = ('sepal_length', 'sepal_width', 'petal_length', 'petal_width')\n",
        "\n",
        "columns = ('cp1', 'cp2')\n",
        "\n",
        "data = pca_componentes.transpose()\n",
        "\n",
        "df_componentes = pd.DataFrame(data=data, index=index, columns=columns)\n",
        "\n",
        "df_componentes"
      ],
      "metadata": {
        "colab": {
          "base_uri": "https://localhost:8080/",
          "height": 175
        },
        "id": "4Y5htPZYN_q9",
        "outputId": "5de919ce-6a53-4014-9630-f0047197fcad"
      },
      "execution_count": 653,
      "outputs": [
        {
          "output_type": "execute_result",
          "data": {
            "text/plain": [
              "                cp1    cp2\n",
              "sepal_length  0.425  0.423\n",
              "sepal_width  -0.151  0.904\n",
              "petal_length  0.616 -0.060\n",
              "petal_width   0.646 -0.010"
            ],
            "text/html": [
              "\n",
              "  <div id=\"df-09c38517-4ae6-493c-a4d4-999a91f66d1b\">\n",
              "    <div class=\"colab-df-container\">\n",
              "      <div>\n",
              "<style scoped>\n",
              "    .dataframe tbody tr th:only-of-type {\n",
              "        vertical-align: middle;\n",
              "    }\n",
              "\n",
              "    .dataframe tbody tr th {\n",
              "        vertical-align: top;\n",
              "    }\n",
              "\n",
              "    .dataframe thead th {\n",
              "        text-align: right;\n",
              "    }\n",
              "</style>\n",
              "<table border=\"1\" class=\"dataframe\">\n",
              "  <thead>\n",
              "    <tr style=\"text-align: right;\">\n",
              "      <th></th>\n",
              "      <th>cp1</th>\n",
              "      <th>cp2</th>\n",
              "    </tr>\n",
              "  </thead>\n",
              "  <tbody>\n",
              "    <tr>\n",
              "      <th>sepal_length</th>\n",
              "      <td>0.425</td>\n",
              "      <td>0.423</td>\n",
              "    </tr>\n",
              "    <tr>\n",
              "      <th>sepal_width</th>\n",
              "      <td>-0.151</td>\n",
              "      <td>0.904</td>\n",
              "    </tr>\n",
              "    <tr>\n",
              "      <th>petal_length</th>\n",
              "      <td>0.616</td>\n",
              "      <td>-0.060</td>\n",
              "    </tr>\n",
              "    <tr>\n",
              "      <th>petal_width</th>\n",
              "      <td>0.646</td>\n",
              "      <td>-0.010</td>\n",
              "    </tr>\n",
              "  </tbody>\n",
              "</table>\n",
              "</div>\n",
              "      <button class=\"colab-df-convert\" onclick=\"convertToInteractive('df-09c38517-4ae6-493c-a4d4-999a91f66d1b')\"\n",
              "              title=\"Convert this dataframe to an interactive table.\"\n",
              "              style=\"display:none;\">\n",
              "        \n",
              "  <svg xmlns=\"http://www.w3.org/2000/svg\" height=\"24px\"viewBox=\"0 0 24 24\"\n",
              "       width=\"24px\">\n",
              "    <path d=\"M0 0h24v24H0V0z\" fill=\"none\"/>\n",
              "    <path d=\"M18.56 5.44l.94 2.06.94-2.06 2.06-.94-2.06-.94-.94-2.06-.94 2.06-2.06.94zm-11 1L8.5 8.5l.94-2.06 2.06-.94-2.06-.94L8.5 2.5l-.94 2.06-2.06.94zm10 10l.94 2.06.94-2.06 2.06-.94-2.06-.94-.94-2.06-.94 2.06-2.06.94z\"/><path d=\"M17.41 7.96l-1.37-1.37c-.4-.4-.92-.59-1.43-.59-.52 0-1.04.2-1.43.59L10.3 9.45l-7.72 7.72c-.78.78-.78 2.05 0 2.83L4 21.41c.39.39.9.59 1.41.59.51 0 1.02-.2 1.41-.59l7.78-7.78 2.81-2.81c.8-.78.8-2.07 0-2.86zM5.41 20L4 18.59l7.72-7.72 1.47 1.35L5.41 20z\"/>\n",
              "  </svg>\n",
              "      </button>\n",
              "      \n",
              "  <style>\n",
              "    .colab-df-container {\n",
              "      display:flex;\n",
              "      flex-wrap:wrap;\n",
              "      gap: 12px;\n",
              "    }\n",
              "\n",
              "    .colab-df-convert {\n",
              "      background-color: #E8F0FE;\n",
              "      border: none;\n",
              "      border-radius: 50%;\n",
              "      cursor: pointer;\n",
              "      display: none;\n",
              "      fill: #1967D2;\n",
              "      height: 32px;\n",
              "      padding: 0 0 0 0;\n",
              "      width: 32px;\n",
              "    }\n",
              "\n",
              "    .colab-df-convert:hover {\n",
              "      background-color: #E2EBFA;\n",
              "      box-shadow: 0px 1px 2px rgba(60, 64, 67, 0.3), 0px 1px 3px 1px rgba(60, 64, 67, 0.15);\n",
              "      fill: #174EA6;\n",
              "    }\n",
              "\n",
              "    [theme=dark] .colab-df-convert {\n",
              "      background-color: #3B4455;\n",
              "      fill: #D2E3FC;\n",
              "    }\n",
              "\n",
              "    [theme=dark] .colab-df-convert:hover {\n",
              "      background-color: #434B5C;\n",
              "      box-shadow: 0px 1px 3px 1px rgba(0, 0, 0, 0.15);\n",
              "      filter: drop-shadow(0px 1px 2px rgba(0, 0, 0, 0.3));\n",
              "      fill: #FFFFFF;\n",
              "    }\n",
              "  </style>\n",
              "\n",
              "      <script>\n",
              "        const buttonEl =\n",
              "          document.querySelector('#df-09c38517-4ae6-493c-a4d4-999a91f66d1b button.colab-df-convert');\n",
              "        buttonEl.style.display =\n",
              "          google.colab.kernel.accessAllowed ? 'block' : 'none';\n",
              "\n",
              "        async function convertToInteractive(key) {\n",
              "          const element = document.querySelector('#df-09c38517-4ae6-493c-a4d4-999a91f66d1b');\n",
              "          const dataTable =\n",
              "            await google.colab.kernel.invokeFunction('convertToInteractive',\n",
              "                                                     [key], {});\n",
              "          if (!dataTable) return;\n",
              "\n",
              "          const docLinkHtml = 'Like what you see? Visit the ' +\n",
              "            '<a target=\"_blank\" href=https://colab.research.google.com/notebooks/data_table.ipynb>data table notebook</a>'\n",
              "            + ' to learn more about interactive tables.';\n",
              "          element.innerHTML = '';\n",
              "          dataTable['output_type'] = 'display_data';\n",
              "          await google.colab.output.renderOutput(dataTable, element);\n",
              "          const docLink = document.createElement('div');\n",
              "          docLink.innerHTML = docLinkHtml;\n",
              "          element.appendChild(docLink);\n",
              "        }\n",
              "      </script>\n",
              "    </div>\n",
              "  </div>\n",
              "  "
            ]
          },
          "metadata": {},
          "execution_count": 653
        }
      ]
    },
    {
      "cell_type": "code",
      "source": [
        "cp1 = pca.transform(X)[:, 0]\n",
        "\n",
        "cp2 = pca.transform(X)[:, 1]"
      ],
      "metadata": {
        "id": "j81L8zRldMwn",
        "colab": {
          "base_uri": "https://localhost:8080/"
        },
        "outputId": "24ad5b67-129a-41b7-c9b0-c8803e24fce8"
      },
      "execution_count": 654,
      "outputs": [
        {
          "output_type": "stream",
          "name": "stderr",
          "text": [
            "/usr/local/lib/python3.8/dist-packages/sklearn/base.py:443: UserWarning: X has feature names, but PCA was fitted without feature names\n",
            "  warnings.warn(\n",
            "/usr/local/lib/python3.8/dist-packages/sklearn/base.py:443: UserWarning: X has feature names, but PCA was fitted without feature names\n",
            "  warnings.warn(\n"
          ]
        }
      ]
    },
    {
      "cell_type": "code",
      "source": [
        "df_scaled = pd.DataFrame(data=X_scaled_pca_two_comp, columns=['cp1', 'cp2'])\n",
        "\n",
        "df_scaled"
      ],
      "metadata": {
        "id": "bzEMi2F0mH80",
        "colab": {
          "base_uri": "https://localhost:8080/",
          "height": 423
        },
        "outputId": "584cb8d8-9378-4daf-bec4-53653337bd0b"
      },
      "execution_count": 655,
      "outputs": [
        {
          "output_type": "execute_result",
          "data": {
            "text/plain": [
              "          cp1       cp2\n",
              "0   -0.630703  0.107578\n",
              "1   -0.622905 -0.104260\n",
              "2   -0.669520 -0.051417\n",
              "3   -0.654153 -0.102885\n",
              "4   -0.648788  0.133488\n",
              "..        ...       ...\n",
              "145  0.551462  0.059841\n",
              "146  0.407146 -0.171821\n",
              "147  0.447143  0.037560\n",
              "148  0.488208  0.149678\n",
              "149  0.312066 -0.031130\n",
              "\n",
              "[150 rows x 2 columns]"
            ],
            "text/html": [
              "\n",
              "  <div id=\"df-f1f8e948-5647-4382-81de-e4d01f7879e5\">\n",
              "    <div class=\"colab-df-container\">\n",
              "      <div>\n",
              "<style scoped>\n",
              "    .dataframe tbody tr th:only-of-type {\n",
              "        vertical-align: middle;\n",
              "    }\n",
              "\n",
              "    .dataframe tbody tr th {\n",
              "        vertical-align: top;\n",
              "    }\n",
              "\n",
              "    .dataframe thead th {\n",
              "        text-align: right;\n",
              "    }\n",
              "</style>\n",
              "<table border=\"1\" class=\"dataframe\">\n",
              "  <thead>\n",
              "    <tr style=\"text-align: right;\">\n",
              "      <th></th>\n",
              "      <th>cp1</th>\n",
              "      <th>cp2</th>\n",
              "    </tr>\n",
              "  </thead>\n",
              "  <tbody>\n",
              "    <tr>\n",
              "      <th>0</th>\n",
              "      <td>-0.630703</td>\n",
              "      <td>0.107578</td>\n",
              "    </tr>\n",
              "    <tr>\n",
              "      <th>1</th>\n",
              "      <td>-0.622905</td>\n",
              "      <td>-0.104260</td>\n",
              "    </tr>\n",
              "    <tr>\n",
              "      <th>2</th>\n",
              "      <td>-0.669520</td>\n",
              "      <td>-0.051417</td>\n",
              "    </tr>\n",
              "    <tr>\n",
              "      <th>3</th>\n",
              "      <td>-0.654153</td>\n",
              "      <td>-0.102885</td>\n",
              "    </tr>\n",
              "    <tr>\n",
              "      <th>4</th>\n",
              "      <td>-0.648788</td>\n",
              "      <td>0.133488</td>\n",
              "    </tr>\n",
              "    <tr>\n",
              "      <th>...</th>\n",
              "      <td>...</td>\n",
              "      <td>...</td>\n",
              "    </tr>\n",
              "    <tr>\n",
              "      <th>145</th>\n",
              "      <td>0.551462</td>\n",
              "      <td>0.059841</td>\n",
              "    </tr>\n",
              "    <tr>\n",
              "      <th>146</th>\n",
              "      <td>0.407146</td>\n",
              "      <td>-0.171821</td>\n",
              "    </tr>\n",
              "    <tr>\n",
              "      <th>147</th>\n",
              "      <td>0.447143</td>\n",
              "      <td>0.037560</td>\n",
              "    </tr>\n",
              "    <tr>\n",
              "      <th>148</th>\n",
              "      <td>0.488208</td>\n",
              "      <td>0.149678</td>\n",
              "    </tr>\n",
              "    <tr>\n",
              "      <th>149</th>\n",
              "      <td>0.312066</td>\n",
              "      <td>-0.031130</td>\n",
              "    </tr>\n",
              "  </tbody>\n",
              "</table>\n",
              "<p>150 rows × 2 columns</p>\n",
              "</div>\n",
              "      <button class=\"colab-df-convert\" onclick=\"convertToInteractive('df-f1f8e948-5647-4382-81de-e4d01f7879e5')\"\n",
              "              title=\"Convert this dataframe to an interactive table.\"\n",
              "              style=\"display:none;\">\n",
              "        \n",
              "  <svg xmlns=\"http://www.w3.org/2000/svg\" height=\"24px\"viewBox=\"0 0 24 24\"\n",
              "       width=\"24px\">\n",
              "    <path d=\"M0 0h24v24H0V0z\" fill=\"none\"/>\n",
              "    <path d=\"M18.56 5.44l.94 2.06.94-2.06 2.06-.94-2.06-.94-.94-2.06-.94 2.06-2.06.94zm-11 1L8.5 8.5l.94-2.06 2.06-.94-2.06-.94L8.5 2.5l-.94 2.06-2.06.94zm10 10l.94 2.06.94-2.06 2.06-.94-2.06-.94-.94-2.06-.94 2.06-2.06.94z\"/><path d=\"M17.41 7.96l-1.37-1.37c-.4-.4-.92-.59-1.43-.59-.52 0-1.04.2-1.43.59L10.3 9.45l-7.72 7.72c-.78.78-.78 2.05 0 2.83L4 21.41c.39.39.9.59 1.41.59.51 0 1.02-.2 1.41-.59l7.78-7.78 2.81-2.81c.8-.78.8-2.07 0-2.86zM5.41 20L4 18.59l7.72-7.72 1.47 1.35L5.41 20z\"/>\n",
              "  </svg>\n",
              "      </button>\n",
              "      \n",
              "  <style>\n",
              "    .colab-df-container {\n",
              "      display:flex;\n",
              "      flex-wrap:wrap;\n",
              "      gap: 12px;\n",
              "    }\n",
              "\n",
              "    .colab-df-convert {\n",
              "      background-color: #E8F0FE;\n",
              "      border: none;\n",
              "      border-radius: 50%;\n",
              "      cursor: pointer;\n",
              "      display: none;\n",
              "      fill: #1967D2;\n",
              "      height: 32px;\n",
              "      padding: 0 0 0 0;\n",
              "      width: 32px;\n",
              "    }\n",
              "\n",
              "    .colab-df-convert:hover {\n",
              "      background-color: #E2EBFA;\n",
              "      box-shadow: 0px 1px 2px rgba(60, 64, 67, 0.3), 0px 1px 3px 1px rgba(60, 64, 67, 0.15);\n",
              "      fill: #174EA6;\n",
              "    }\n",
              "\n",
              "    [theme=dark] .colab-df-convert {\n",
              "      background-color: #3B4455;\n",
              "      fill: #D2E3FC;\n",
              "    }\n",
              "\n",
              "    [theme=dark] .colab-df-convert:hover {\n",
              "      background-color: #434B5C;\n",
              "      box-shadow: 0px 1px 3px 1px rgba(0, 0, 0, 0.15);\n",
              "      filter: drop-shadow(0px 1px 2px rgba(0, 0, 0, 0.3));\n",
              "      fill: #FFFFFF;\n",
              "    }\n",
              "  </style>\n",
              "\n",
              "      <script>\n",
              "        const buttonEl =\n",
              "          document.querySelector('#df-f1f8e948-5647-4382-81de-e4d01f7879e5 button.colab-df-convert');\n",
              "        buttonEl.style.display =\n",
              "          google.colab.kernel.accessAllowed ? 'block' : 'none';\n",
              "\n",
              "        async function convertToInteractive(key) {\n",
              "          const element = document.querySelector('#df-f1f8e948-5647-4382-81de-e4d01f7879e5');\n",
              "          const dataTable =\n",
              "            await google.colab.kernel.invokeFunction('convertToInteractive',\n",
              "                                                     [key], {});\n",
              "          if (!dataTable) return;\n",
              "\n",
              "          const docLinkHtml = 'Like what you see? Visit the ' +\n",
              "            '<a target=\"_blank\" href=https://colab.research.google.com/notebooks/data_table.ipynb>data table notebook</a>'\n",
              "            + ' to learn more about interactive tables.';\n",
              "          element.innerHTML = '';\n",
              "          dataTable['output_type'] = 'display_data';\n",
              "          await google.colab.output.renderOutput(dataTable, element);\n",
              "          const docLink = document.createElement('div');\n",
              "          docLink.innerHTML = docLinkHtml;\n",
              "          element.appendChild(docLink);\n",
              "        }\n",
              "      </script>\n",
              "    </div>\n",
              "  </div>\n",
              "  "
            ]
          },
          "metadata": {},
          "execution_count": 655
        }
      ]
    },
    {
      "cell_type": "code",
      "source": [
        "ax = sns.scatterplot(data=df_scaled, x='cp1', y='cp2', hue=df['species'], palette='Accent')\n",
        "\n",
        "ax.figure.set_size_inches(18, 10)\n",
        "\n",
        "ax.legend(bbox_to_anchor=(1.15, 1))\n",
        "\n",
        "ax.set_ylim(None, df_componentes['cp2'].max() + 0.05)\n",
        "\n",
        "for k, v in df_scaled.iterrows():\n",
        "    ax.annotate(k, v)\n",
        "\n",
        "\n",
        "for i in range(0, len(df_componentes)):\n",
        "    plt.arrow(0, 0, df_componentes.iloc[i][0], df_componentes.iloc[i][1], head_width = 0.02, length_includes_head=True)\n",
        "\n",
        "    ax.annotate(df_componentes.index[i], xy=(df_componentes.iloc[i][0] + 0.01, df_componentes.iloc[i][1] + 0.01))"
      ],
      "metadata": {
        "colab": {
          "base_uri": "https://localhost:8080/",
          "height": 550
        },
        "id": "x-RD3-7qfNtI",
        "outputId": "26e5a4fe-caee-4c7d-9dc7-d7548e1afd97"
      },
      "execution_count": 677,
      "outputs": [
        {
          "output_type": "display_data",
          "data": {
            "text/plain": [
              "<Figure size 1296x720 with 1 Axes>"
            ],
            "image/png": "[encoded data removed]"
          },
          "metadata": {
            "needs_background": "light"
          }
        }
      ]
    },
    {
      "cell_type": "code",
      "source": [
        "ax = sns.heatmap(df_scaled.corr(), annot=True)\n",
        "\n",
        "ax.figure.set_size_inches(8, 8)"
      ],
      "metadata": {
        "colab": {
          "base_uri": "https://localhost:8080/",
          "height": 487
        },
        "id": "GHIHBb2-ZmxL",
        "outputId": "434018c5-8047-4bc1-9ffb-60d9c1081389"
      },
      "execution_count": 663,
      "outputs": [
        {
          "output_type": "display_data",
          "data": {
            "text/plain": [
              "<Figure size 576x576 with 2 Axes>"
            ],
            "image/png": "[encoded data removed]"
          },
          "metadata": {
            "needs_background": "light"
          }
        }
      ]
    },
    {
      "cell_type": "markdown",
      "source": [
        "# Split treino e teste"
      ],
      "metadata": {
        "id": "gvMyIzPjBKO_"
      }
    },
    {
      "cell_type": "code",
      "source": [
        "X_train_new, X_test_new, y_train, y_test = train_test_split(X_scaled_pca_two_comp, y, random_state=0, test_size=0.3)"
      ],
      "metadata": {
        "id": "kSqabZxsBKPA"
      },
      "execution_count": 664,
      "outputs": []
    },
    {
      "cell_type": "markdown",
      "source": [
        "# Modelos classificadores"
      ],
      "metadata": {
        "id": "U21oO1JtBKPA"
      }
    },
    {
      "cell_type": "code",
      "source": [
        "classificador_xgboost_pca = xgb.XGBClassifier()\n",
        "\n",
        "# Cross validation para comparação entre modelos\n",
        "\n",
        "resultado_cv_acc_xgb_pca = cross_val_score(classificador_xgboost_pca, X_train_new, y_train, scoring='accuracy')\n",
        "\n",
        "print('Accuracy: {:.2f}'.format(abs(resultado_cv_acc_xgb_pca.mean())))\n",
        "\n",
        "resultado_cv_rsquared_xgb_pca = cross_val_score(classificador_xgboost_pca, X_train_new, y_train, scoring='r2')\n",
        "\n",
        "print('R^2: {:.2f}'.format(abs(resultado_cv_rsquared_xgb_pca.mean())))\n",
        "\n",
        "resultado_cv_nmae_xgb_pca = cross_val_score(classificador_xgboost_pca, X_train_new, y_train, scoring='neg_mean_absolute_error')\n",
        "\n",
        "print('Negative MAE: {:.2f}'.format(abs(resultado_cv_nmae_xgb_pca.mean())))"
      ],
      "metadata": {
        "colab": {
          "base_uri": "https://localhost:8080/"
        },
        "id": "JoMo7z9VBKPA",
        "outputId": "652c2cff-6733-4e7a-d5c4-1c1a8b32bbc1"
      },
      "execution_count": 665,
      "outputs": [
        {
          "output_type": "stream",
          "name": "stdout",
          "text": [
            "Accuracy: 0.95\n",
            "R^2: 0.93\n",
            "Negative MAE: 0.05\n"
          ]
        }
      ]
    },
    {
      "cell_type": "markdown",
      "source": [
        "## Tunando o classificador"
      ],
      "metadata": {
        "id": "AMZoz1_DBKPA"
      }
    },
    {
      "cell_type": "code",
      "source": [
        "classificador_xgboost_depth_pca = xgb.XGBClassifier(max_depth=2) # Altera a altura máxima das árvores\n",
        "\n",
        "resultado_cv_acc_depth_pca = cross_val_score(classificador_xgboost_depth_pca, X_train_new, y_train, scoring='accuracy')\n",
        "\n",
        "print('Accuracy: {:.2f}'.format(abs(resultado_cv_acc_depth_pca.mean())))\n",
        "\n",
        "resultado_cv_rsquared_depth_pca = cross_val_score(classificador_xgboost_depth_pca, X_train_new, y_train, scoring='r2')\n",
        "\n",
        "print('R^2: {:.2f}'.format(abs(resultado_cv_rsquared_depth_pca.mean())))\n",
        "\n",
        "resultado_cv_nmae_depth_pca = cross_val_score(classificador_xgboost_depth_pca, X_train_new, y_train, scoring='neg_mean_absolute_error')\n",
        "\n",
        "print('Negative MAE: {:.2f}'.format(abs(resultado_cv_nmae_depth_pca.mean())))"
      ],
      "metadata": {
        "colab": {
          "base_uri": "https://localhost:8080/"
        },
        "outputId": "b81d0137-0459-450d-f029-ca144bd782c4",
        "id": "XBRbVl3vBKPA"
      },
      "execution_count": 666,
      "outputs": [
        {
          "output_type": "stream",
          "name": "stdout",
          "text": [
            "Accuracy: 0.95\n",
            "R^2: 0.93\n",
            "Negative MAE: 0.05\n"
          ]
        }
      ]
    },
    {
      "cell_type": "code",
      "source": [
        "classificador_xgboost_dart_pca = xgb.XGBClassifier(booster='dart')\n",
        "\n",
        "resultado_cv_acc_dart_pca = cross_val_score(classificador_xgboost_dart_pca, X_train_new, y_train, scoring='accuracy')\n",
        "\n",
        "print('Accuracy: {:.2f}'.format(abs(resultado_cv_acc_dart_pca.mean())))\n",
        "\n",
        "resultado_cv_rsquared_dart_pca = cross_val_score(classificador_xgboost_dart_pca, X_train_new, y_train, scoring='r2')\n",
        "\n",
        "print('R^2: {:.2f}'.format(abs(resultado_cv_rsquared_dart_pca.mean())))\n",
        "\n",
        "resultado_cv_nmae_dart_pca = cross_val_score(classificador_xgboost_dart_pca, X_train_new, y_train, scoring='neg_mean_absolute_error')\n",
        "\n",
        "print('Negative MAE: {:.2f}'.format(abs(resultado_cv_nmae_dart_pca.mean())))"
      ],
      "metadata": {
        "colab": {
          "base_uri": "https://localhost:8080/"
        },
        "outputId": "52284b90-b897-4908-f6cf-fd1f0bfecf6f",
        "id": "ou6L4T5jBKPA"
      },
      "execution_count": 667,
      "outputs": [
        {
          "output_type": "stream",
          "name": "stdout",
          "text": [
            "Accuracy: 0.95\n",
            "R^2: 0.93\n",
            "Negative MAE: 0.05\n"
          ]
        }
      ]
    },
    {
      "cell_type": "code",
      "source": [
        "classificador_xgboost_gblinear_pca = xgb.XGBClassifier(booster='gblinear')\n",
        "\n",
        "resultado_cv_acc_gbl_pca = cross_val_score(classificador_xgboost_gblinear_pca, X_train_new, y_train, scoring='accuracy')\n",
        "\n",
        "print('Accuracy: {:.2f}'.format(abs(resultado_cv_acc_gbl_pca.mean())))\n",
        "\n",
        "resultado_cv_rsquared_gbl_pca = cross_val_score(classificador_xgboost_gblinear_pca, X_train_new, y_train, scoring='r2')\n",
        "\n",
        "print('R^2: {:.2f}'.format(abs(resultado_cv_rsquared_gbl_pca.mean())))\n",
        "\n",
        "resultado_cv_nmae_gbl_pca = cross_val_score(classificador_xgboost_gblinear_pca, X_train_new, y_train, scoring='neg_mean_absolute_error')\n",
        "\n",
        "print('Negative MAE: {:.2f}'.format(abs(resultado_cv_nmae_gbl_pca.mean())))"
      ],
      "metadata": {
        "colab": {
          "base_uri": "https://localhost:8080/"
        },
        "outputId": "24c8fc34-5df0-4e04-8e71-deb59c145fb4",
        "id": "dK5IGfrZBKPB"
      },
      "execution_count": 668,
      "outputs": [
        {
          "output_type": "stream",
          "name": "stdout",
          "text": [
            "Accuracy: 0.70\n",
            "R^2: 0.56\n",
            "Negative MAE: 0.30\n"
          ]
        }
      ]
    },
    {
      "cell_type": "code",
      "source": [
        "classificador_xgboost_gbtree_pca = xgb.XGBClassifier(booster='gbtree')\n",
        "\n",
        "resultado_cv_acc_gbt_pca = cross_val_score(classificador_xgboost_gbtree_pca, X_train_new, y_train, scoring='accuracy')\n",
        "\n",
        "print('Accuracy: {:.2f}'.format(abs(resultado_cv_acc_gbt_pca.mean())))\n",
        "\n",
        "resultado_cv_rsquared_gbt_pca = cross_val_score(classificador_xgboost_gbtree_pca, X_train_new, y_train, scoring='r2')\n",
        "\n",
        "print('R^2: {:.2f}'.format(abs(resultado_cv_rsquared_gbt_pca.mean())))\n",
        "\n",
        "resultado_cv_nmae_gbt_pca = cross_val_score(classificador_xgboost_gbtree_pca, X_train_new, y_train, scoring='neg_mean_absolute_error')\n",
        "\n",
        "print('Negative MAE: {:.2f}'.format(abs(resultado_cv_nmae_gbt_pca.mean())))"
      ],
      "metadata": {
        "colab": {
          "base_uri": "https://localhost:8080/"
        },
        "outputId": "651e7472-93cd-47bf-df42-2e92b73f03e7",
        "id": "IXB8tjkBBKPB"
      },
      "execution_count": 669,
      "outputs": [
        {
          "output_type": "stream",
          "name": "stdout",
          "text": [
            "Accuracy: 0.95\n",
            "R^2: 0.93\n",
            "Negative MAE: 0.05\n"
          ]
        }
      ]
    },
    {
      "cell_type": "markdown",
      "source": [
        "# Análise dos resultados"
      ],
      "metadata": {
        "id": "VHiqQs4XJRci"
      }
    },
    {
      "cell_type": "code",
      "source": [
        "data = ((abs(resultado_cv_acc_xgb.mean()).round(3),\n",
        "        abs(resultado_cv_rsquared_xgb.mean()).round(3),\n",
        "        abs(resultado_cv_nmae_xgb.mean()).round(3)),\n",
        "        (abs(resultado_cv_acc_depth.mean()).round(3),\n",
        "        abs(resultado_cv_rsquared_depth.mean()).round(3),\n",
        "        abs(resultado_cv_nmae_depth.mean()).round(3)),\n",
        "        (abs(resultado_cv_acc_dart.mean()).round(3),\n",
        "        abs(resultado_cv_rsquared_dart.mean()).round(3),\n",
        "        abs(resultado_cv_nmae_dart.mean()).round(3)),\n",
        "        (abs(resultado_cv_acc_gbl.mean()).round(3),\n",
        "        abs(resultado_cv_rsquared_gbl.mean()).round(3),\n",
        "        abs(resultado_cv_nmae_gbl.mean()).round(3)),\n",
        "        (abs(resultado_cv_acc_gbt.mean()).round(3),\n",
        "        abs(resultado_cv_rsquared_gbt.mean()).round(3),\n",
        "        abs(resultado_cv_nmae_gbt.mean()).round(3)),\n",
        "        (abs(resultado_cv_acc_xgb_pca.mean()).round(3),\n",
        "        abs(resultado_cv_rsquared_xgb_pca.mean()).round(3),\n",
        "        abs(resultado_cv_nmae_xgb_pca.mean()).round(3)),\n",
        "        (abs(resultado_cv_acc_depth_pca.mean()).round(3),\n",
        "        abs(resultado_cv_rsquared_depth_pca.mean()).round(3),\n",
        "        abs(resultado_cv_nmae_depth_pca.mean()).round(3)),\n",
        "        (abs(resultado_cv_acc_dart_pca.mean()).round(3),\n",
        "        abs(resultado_cv_rsquared_dart_pca.mean()).round(3),\n",
        "        abs(resultado_cv_nmae_dart_pca.mean()).round(3)),\n",
        "        (abs(resultado_cv_acc_gbl_pca.mean()).round(3),\n",
        "        abs(resultado_cv_rsquared_gbl_pca.mean()).round(3),\n",
        "        abs(resultado_cv_nmae_gbl_pca.mean()).round(3)),\n",
        "        (abs(resultado_cv_acc_gbt_pca.mean()).round(3),\n",
        "        abs(resultado_cv_rsquared_gbt_pca.mean()).round(3),\n",
        "        abs(resultado_cv_nmae_gbt_pca.mean()).round(3))\n",
        "        )\n",
        "\n",
        "\n",
        "columns = ('accuracy',\n",
        "           'r^2',\n",
        "           'negative_mae')\n",
        "\n",
        "\n",
        "index = ('classificador_xgboost',\n",
        "         'classificador_xgboost_depth',\n",
        "         'classificador_xgboost_dart',\n",
        "         'classificador_xgboost_gblinear',\n",
        "         'classificador_xgboost_gbtree',\n",
        "         'classificador_xgboost_pca',\n",
        "         'classificador_xgboost_depth_pca',\n",
        "         'classificador_xgboost_dart_pca',\n",
        "         'classificador_xgboost_gblinear_pca',\n",
        "         'classificador_xgboost_gbtree_pca')\n",
        "\n",
        "\n",
        "\n",
        "df_results = pd.DataFrame(data=data, columns=columns, index=index)"
      ],
      "metadata": {
        "id": "sq9W-xkzJUDO"
      },
      "execution_count": 670,
      "outputs": []
    },
    {
      "cell_type": "code",
      "source": [
        "df_results.sort_values(['accuracy', 'negative_mae'], ascending=False)"
      ],
      "metadata": {
        "colab": {
          "base_uri": "https://localhost:8080/",
          "height": 363
        },
        "id": "2wz5Pxl6OY-a",
        "outputId": "cb610d29-f22b-4c62-d7a3-e96dc9d2d2b1"
      },
      "execution_count": 671,
      "outputs": [
        {
          "output_type": "execute_result",
          "data": {
            "text/plain": [
              "                                    accuracy    r^2  negative_mae\n",
              "classificador_xgboost                  0.952  0.931         0.048\n",
              "classificador_xgboost_dart             0.952  0.931         0.048\n",
              "classificador_xgboost_gbtree           0.952  0.931         0.048\n",
              "classificador_xgboost_pca              0.952  0.930         0.048\n",
              "classificador_xgboost_depth_pca        0.952  0.930         0.048\n",
              "classificador_xgboost_dart_pca         0.952  0.930         0.048\n",
              "classificador_xgboost_gbtree_pca       0.952  0.930         0.048\n",
              "classificador_xgboost_depth            0.943  0.916         0.057\n",
              "classificador_xgboost_gblinear         0.695  0.558         0.305\n",
              "classificador_xgboost_gblinear_pca     0.695  0.558         0.305"
            ],
            "text/html": [
              "\n",
              "  <div id=\"df-2c6a7dec-6027-4907-bfa4-c36e36deeb0e\">\n",
              "    <div class=\"colab-df-container\">\n",
              "      <div>\n",
              "<style scoped>\n",
              "    .dataframe tbody tr th:only-of-type {\n",
              "        vertical-align: middle;\n",
              "    }\n",
              "\n",
              "    .dataframe tbody tr th {\n",
              "        vertical-align: top;\n",
              "    }\n",
              "\n",
              "    .dataframe thead th {\n",
              "        text-align: right;\n",
              "    }\n",
              "</style>\n",
              "<table border=\"1\" class=\"dataframe\">\n",
              "  <thead>\n",
              "    <tr style=\"text-align: right;\">\n",
              "      <th></th>\n",
              "      <th>accuracy</th>\n",
              "      <th>r^2</th>\n",
              "      <th>negative_mae</th>\n",
              "    </tr>\n",
              "  </thead>\n",
              "  <tbody>\n",
              "    <tr>\n",
              "      <th>classificador_xgboost</th>\n",
              "      <td>0.952</td>\n",
              "      <td>0.931</td>\n",
              "      <td>0.048</td>\n",
              "    </tr>\n",
              "    <tr>\n",
              "      <th>classificador_xgboost_dart</th>\n",
              "      <td>0.952</td>\n",
              "      <td>0.931</td>\n",
              "      <td>0.048</td>\n",
              "    </tr>\n",
              "    <tr>\n",
              "      <th>classificador_xgboost_gbtree</th>\n",
              "      <td>0.952</td>\n",
              "      <td>0.931</td>\n",
              "      <td>0.048</td>\n",
              "    </tr>\n",
              "    <tr>\n",
              "      <th>classificador_xgboost_pca</th>\n",
              "      <td>0.952</td>\n",
              "      <td>0.930</td>\n",
              "      <td>0.048</td>\n",
              "    </tr>\n",
              "    <tr>\n",
              "      <th>classificador_xgboost_depth_pca</th>\n",
              "      <td>0.952</td>\n",
              "      <td>0.930</td>\n",
              "      <td>0.048</td>\n",
              "    </tr>\n",
              "    <tr>\n",
              "      <th>classificador_xgboost_dart_pca</th>\n",
              "      <td>0.952</td>\n",
              "      <td>0.930</td>\n",
              "      <td>0.048</td>\n",
              "    </tr>\n",
              "    <tr>\n",
              "      <th>classificador_xgboost_gbtree_pca</th>\n",
              "      <td>0.952</td>\n",
              "      <td>0.930</td>\n",
              "      <td>0.048</td>\n",
              "    </tr>\n",
              "    <tr>\n",
              "      <th>classificador_xgboost_depth</th>\n",
              "      <td>0.943</td>\n",
              "      <td>0.916</td>\n",
              "      <td>0.057</td>\n",
              "    </tr>\n",
              "    <tr>\n",
              "      <th>classificador_xgboost_gblinear</th>\n",
              "      <td>0.695</td>\n",
              "      <td>0.558</td>\n",
              "      <td>0.305</td>\n",
              "    </tr>\n",
              "    <tr>\n",
              "      <th>classificador_xgboost_gblinear_pca</th>\n",
              "      <td>0.695</td>\n",
              "      <td>0.558</td>\n",
              "      <td>0.305</td>\n",
              "    </tr>\n",
              "  </tbody>\n",
              "</table>\n",
              "</div>\n",
              "      <button class=\"colab-df-convert\" onclick=\"convertToInteractive('df-2c6a7dec-6027-4907-bfa4-c36e36deeb0e')\"\n",
              "              title=\"Convert this dataframe to an interactive table.\"\n",
              "              style=\"display:none;\">\n",
              "        \n",
              "  <svg xmlns=\"http://www.w3.org/2000/svg\" height=\"24px\"viewBox=\"0 0 24 24\"\n",
              "       width=\"24px\">\n",
              "    <path d=\"M0 0h24v24H0V0z\" fill=\"none\"/>\n",
              "    <path d=\"M18.56 5.44l.94 2.06.94-2.06 2.06-.94-2.06-.94-.94-2.06-.94 2.06-2.06.94zm-11 1L8.5 8.5l.94-2.06 2.06-.94-2.06-.94L8.5 2.5l-.94 2.06-2.06.94zm10 10l.94 2.06.94-2.06 2.06-.94-2.06-.94-.94-2.06-.94 2.06-2.06.94z\"/><path d=\"M17.41 7.96l-1.37-1.37c-.4-.4-.92-.59-1.43-.59-.52 0-1.04.2-1.43.59L10.3 9.45l-7.72 7.72c-.78.78-.78 2.05 0 2.83L4 21.41c.39.39.9.59 1.41.59.51 0 1.02-.2 1.41-.59l7.78-7.78 2.81-2.81c.8-.78.8-2.07 0-2.86zM5.41 20L4 18.59l7.72-7.72 1.47 1.35L5.41 20z\"/>\n",
              "  </svg>\n",
              "      </button>\n",
              "      \n",
              "  <style>\n",
              "    .colab-df-container {\n",
              "      display:flex;\n",
              "      flex-wrap:wrap;\n",
              "      gap: 12px;\n",
              "    }\n",
              "\n",
              "    .colab-df-convert {\n",
              "      background-color: #E8F0FE;\n",
              "      border: none;\n",
              "      border-radius: 50%;\n",
              "      cursor: pointer;\n",
              "      display: none;\n",
              "      fill: #1967D2;\n",
              "      height: 32px;\n",
              "      padding: 0 0 0 0;\n",
              "      width: 32px;\n",
              "    }\n",
              "\n",
              "    .colab-df-convert:hover {\n",
              "      background-color: #E2EBFA;\n",
              "      box-shadow: 0px 1px 2px rgba(60, 64, 67, 0.3), 0px 1px 3px 1px rgba(60, 64, 67, 0.15);\n",
              "      fill: #174EA6;\n",
              "    }\n",
              "\n",
              "    [theme=dark] .colab-df-convert {\n",
              "      background-color: #3B4455;\n",
              "      fill: #D2E3FC;\n",
              "    }\n",
              "\n",
              "    [theme=dark] .colab-df-convert:hover {\n",
              "      background-color: #434B5C;\n",
              "      box-shadow: 0px 1px 3px 1px rgba(0, 0, 0, 0.15);\n",
              "      filter: drop-shadow(0px 1px 2px rgba(0, 0, 0, 0.3));\n",
              "      fill: #FFFFFF;\n",
              "    }\n",
              "  </style>\n",
              "\n",
              "      <script>\n",
              "        const buttonEl =\n",
              "          document.querySelector('#df-2c6a7dec-6027-4907-bfa4-c36e36deeb0e button.colab-df-convert');\n",
              "        buttonEl.style.display =\n",
              "          google.colab.kernel.accessAllowed ? 'block' : 'none';\n",
              "\n",
              "        async function convertToInteractive(key) {\n",
              "          const element = document.querySelector('#df-2c6a7dec-6027-4907-bfa4-c36e36deeb0e');\n",
              "          const dataTable =\n",
              "            await google.colab.kernel.invokeFunction('convertToInteractive',\n",
              "                                                     [key], {});\n",
              "          if (!dataTable) return;\n",
              "\n",
              "          const docLinkHtml = 'Like what you see? Visit the ' +\n",
              "            '<a target=\"_blank\" href=https://colab.research.google.com/notebooks/data_table.ipynb>data table notebook</a>'\n",
              "            + ' to learn more about interactive tables.';\n",
              "          element.innerHTML = '';\n",
              "          dataTable['output_type'] = 'display_data';\n",
              "          await google.colab.output.renderOutput(dataTable, element);\n",
              "          const docLink = document.createElement('div');\n",
              "          docLink.innerHTML = docLinkHtml;\n",
              "          element.appendChild(docLink);\n",
              "        }\n",
              "      </script>\n",
              "    </div>\n",
              "  </div>\n",
              "  "
            ]
          },
          "metadata": {},
          "execution_count": 671
        }
      ]
    },
    {
      "cell_type": "markdown",
      "source": [
        "# Aplicação do melhor modelo"
      ],
      "metadata": {
        "id": "DIAAUdTgPhH7"
      }
    },
    {
      "cell_type": "code",
      "source": [
        "melhor_modelo = classificador_xgboost_gbtree\n",
        "\n",
        "melhor_modelo.fit(X_train, y_train)"
      ],
      "metadata": {
        "colab": {
          "base_uri": "https://localhost:8080/"
        },
        "id": "3i5bf4W8PiyM",
        "outputId": "58bd78aa-5a06-4512-8f8e-327cc1b11a07"
      },
      "execution_count": 672,
      "outputs": [
        {
          "output_type": "execute_result",
          "data": {
            "text/plain": [
              "XGBClassifier(objective='multi:softprob')"
            ]
          },
          "metadata": {},
          "execution_count": 672
        }
      ]
    },
    {
      "cell_type": "markdown",
      "source": [
        "# Predição de espécies"
      ],
      "metadata": {
        "id": "TnEMf5eBP2PZ"
      }
    },
    {
      "cell_type": "code",
      "source": [
        "pred = melhor_modelo.predict(X_test)"
      ],
      "metadata": {
        "id": "hBt9lg4kPwCr"
      },
      "execution_count": 673,
      "outputs": []
    },
    {
      "cell_type": "markdown",
      "source": [
        "Total de acertos"
      ],
      "metadata": {
        "id": "uUufjv7fQH8q"
      }
    },
    {
      "cell_type": "code",
      "source": [
        "acertos = (pred == y_test).sum()\n",
        "\n",
        "acertos"
      ],
      "metadata": {
        "colab": {
          "base_uri": "https://localhost:8080/"
        },
        "id": "fJ7oiaTCP_fp",
        "outputId": "3c3878ad-02e1-4fa3-d493-cd9be2646b8f"
      },
      "execution_count": 674,
      "outputs": [
        {
          "output_type": "execute_result",
          "data": {
            "text/plain": [
              "44"
            ]
          },
          "metadata": {},
          "execution_count": 674
        }
      ]
    },
    {
      "cell_type": "code",
      "source": [
        "tamanho_teste = len(y_test)\n",
        "\n",
        "tamanho_teste"
      ],
      "metadata": {
        "colab": {
          "base_uri": "https://localhost:8080/"
        },
        "id": "ZOoI0STGQRzF",
        "outputId": "8deddd90-7812-408c-8f06-b78e0df90073"
      },
      "execution_count": 675,
      "outputs": [
        {
          "output_type": "execute_result",
          "data": {
            "text/plain": [
              "45"
            ]
          },
          "metadata": {},
          "execution_count": 675
        }
      ]
    },
    {
      "cell_type": "code",
      "source": [
        "acuracia = (acertos / tamanho_teste) * 100\n",
        "\n",
        "print('Acurácia de {:.2f}%'.format(acuracia))"
      ],
      "metadata": {
        "colab": {
          "base_uri": "https://localhost:8080/"
        },
        "id": "SGIYclY2QUuO",
        "outputId": "00e12182-fa9a-421c-e2d2-ed074cdc77d0"
      },
      "execution_count": 676,
      "outputs": [
        {
          "output_type": "stream",
          "name": "stdout",
          "text": [
            "Acurácia de 97.78%\n"
          ]
        }
      ]
    }
  ]
}